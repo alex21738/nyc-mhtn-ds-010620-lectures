{
 "cells": [
  {
   "cell_type": "markdown",
   "metadata": {},
   "source": [
    "## More OOP Practice!\n",
    "\n",
    "Learning goals:\n",
    "- Practice creating classes and instance objects\n",
    "- Understand the distinction between classes and instance objects\n",
    "- Understand the difference between class attributes and instance attributes"
   ]
  },
  {
   "cell_type": "markdown",
   "metadata": {},
   "source": [
    "![mayes](dog.jpeg)"
   ]
  },
  {
   "cell_type": "markdown",
   "metadata": {},
   "source": [
    "### Let's define a Dog class"
   ]
  },
  {
   "cell_type": "code",
   "execution_count": 15,
   "metadata": {},
   "outputs": [],
   "source": [
    "class Dog():\n",
    "    pass"
   ]
  },
  {
   "cell_type": "markdown",
   "metadata": {},
   "source": [
    "#### Create an instance of the Dog class and assign it to a variable. Check the type of that variable."
   ]
  },
  {
   "cell_type": "code",
   "execution_count": 16,
   "metadata": {},
   "outputs": [],
   "source": [
    "dog1 = Dog()"
   ]
  },
  {
   "cell_type": "code",
   "execution_count": 17,
   "metadata": {},
   "outputs": [
    {
     "data": {
      "text/plain": [
       "__main__.Dog"
      ]
     },
     "execution_count": 17,
     "metadata": {},
     "output_type": "execute_result"
    }
   ],
   "source": [
    "type(dog1)"
   ]
  },
  {
   "cell_type": "code",
   "execution_count": null,
   "metadata": {},
   "outputs": [],
   "source": []
  },
  {
   "cell_type": "markdown",
   "metadata": {},
   "source": [
    "#### Add an initialization function so that every instance of the Dog class has a name and an age associated with it"
   ]
  },
  {
   "cell_type": "code",
   "execution_count": 18,
   "metadata": {},
   "outputs": [],
   "source": [
    "class Dog():\n",
    "#     species = 'mammal'\n",
    "    def __init__(self, name, age):\n",
    "        self.name = name\n",
    "        self.age = age"
   ]
  },
  {
   "cell_type": "code",
   "execution_count": 19,
   "metadata": {},
   "outputs": [],
   "source": [
    "class Dog():\n",
    "    species = 'mammal'\n",
    "    def __init__(self, name, age):\n",
    "        self.name = name\n",
    "        self.age = age"
   ]
  },
  {
   "cell_type": "code",
   "execution_count": 20,
   "metadata": {},
   "outputs": [
    {
     "data": {
      "text/plain": [
       "'mammal'"
      ]
     },
     "execution_count": 20,
     "metadata": {},
     "output_type": "execute_result"
    }
   ],
   "source": [
    "dog1 = Dog('M',10)\n",
    "dog1.species"
   ]
  },
  {
   "cell_type": "markdown",
   "metadata": {},
   "source": [
    "#### Every dog might have a different name and/or age, but all dogs are mammals! \n",
    "\n",
    "Add a class attribute called species so that every instance of Dog is a 'mammal'."
   ]
  },
  {
   "cell_type": "code",
   "execution_count": null,
   "metadata": {},
   "outputs": [],
   "source": []
  },
  {
   "cell_type": "markdown",
   "metadata": {},
   "source": [
    "#### Create two separate instances of Dog, and assign them to variables.\n",
    "Print \"{name of dog1} is {age of dog 1} and {name of dog2} is {age of dog 2}\""
   ]
  },
  {
   "cell_type": "code",
   "execution_count": 21,
   "metadata": {},
   "outputs": [],
   "source": [
    "chunk = Dog('Chunk', 2)\n",
    "oreo = Dog('Oreo', 6)"
   ]
  },
  {
   "cell_type": "markdown",
   "metadata": {},
   "source": [
    "#### Check the species of these dogs!"
   ]
  },
  {
   "cell_type": "code",
   "execution_count": 22,
   "metadata": {},
   "outputs": [
    {
     "data": {
      "text/plain": [
       "'mammal'"
      ]
     },
     "execution_count": 22,
     "metadata": {},
     "output_type": "execute_result"
    }
   ],
   "source": [
    "chunk.species"
   ]
  },
  {
   "cell_type": "markdown",
   "metadata": {},
   "source": [
    "#### Dogs make sounds too, like barking! \n",
    "Add an instance method to the Dog class called speak, that accepts a sound and prints out, \n",
    "\"{name of dog} says {sound passed into the method}\""
   ]
  },
  {
   "cell_type": "code",
   "execution_count": 24,
   "metadata": {},
   "outputs": [],
   "source": [
    "class Dog():\n",
    "    species = 'mammal'\n",
    "    def __init__(self, name, age):\n",
    "        self.name = name\n",
    "        self.age = age\n",
    "    def speak(self, word):\n",
    "        print(self.name, 'talks', word)"
   ]
  },
  {
   "cell_type": "code",
   "execution_count": 25,
   "metadata": {},
   "outputs": [
    {
     "name": "stdout",
     "output_type": "stream",
     "text": [
      "Oreo talks woihuf\n"
     ]
    }
   ],
   "source": [
    "oreo = Dog('Oreo',6)\n",
    "oreo.speak('woihuf')"
   ]
  },
  {
   "cell_type": "markdown",
   "metadata": {},
   "source": [
    "#### Add an instance method called description that prints out:\n",
    "\"{dog name} is {dog age} years old\""
   ]
  },
  {
   "cell_type": "code",
   "execution_count": 26,
   "metadata": {},
   "outputs": [],
   "source": [
    "class Dog():\n",
    "    species = 'mammal'\n",
    "    def __init__(self, name, age):\n",
    "        self.name = name\n",
    "        self.age = age\n",
    "    def speak(self, word):\n",
    "        print(self.name, 'talks', word)\n",
    "    def name_age(self):\n",
    "        print(self.name, 'is', self.age, 'years old')\n",
    "chunk = Dog('Chunk', 2)\n",
    "oreo = Dog('Oreo', 6)    "
   ]
  },
  {
   "cell_type": "markdown",
   "metadata": {},
   "source": [
    "#### Create a new instance of the Dog class and assign it to a variable.\n",
    "Use the description and speak instance methods to display information about the dog."
   ]
  },
  {
   "cell_type": "code",
   "execution_count": 27,
   "metadata": {},
   "outputs": [
    {
     "name": "stdout",
     "output_type": "stream",
     "text": [
      "Chunk is 2 years old\n"
     ]
    }
   ],
   "source": [
    "chunk.name_age()"
   ]
  },
  {
   "cell_type": "code",
   "execution_count": 28,
   "metadata": {},
   "outputs": [
    {
     "name": "stdout",
     "output_type": "stream",
     "text": [
      "Oreo is 6 years old\n"
     ]
    }
   ],
   "source": [
    "oreo.name_age()"
   ]
  },
  {
   "cell_type": "markdown",
   "metadata": {},
   "source": [
    "## Your Turn:\n",
    "#### Now you are going to work with a partner to create a class. \n",
    "#### Your class will construct a descriptive statistics calculator using our functions from our previous lecture. Your class should have the following attributes:\n",
    "\n",
    "- .data - where you will hold your data\n",
    "- .length - that tells you the length of your data list\n",
    "- .mean\n",
    "- .median\n",
    "- .variance\n",
    "- .stand_dev\n",
    "\n",
    "#### Your class should have the following methods:\n",
    "\n",
    "- .add_data() - which can take in a value or a list of values and extend the .data attribute\n",
    "- .remove_data() accept a list of numbers and remove any of the numbers in that list from your object data\n"
   ]
  },
  {
   "cell_type": "code",
   "execution_count": 1,
   "metadata": {},
   "outputs": [],
   "source": [
    "import math\n",
    "class Calculator:\n",
    "    def __init__(self, data):\n",
    "        self.data = data\n",
    "        self.data.sort()\n",
    "        self.length = len(data)\n",
    "        self.mean = sum(data)/len(data)\n",
    "        if self.length % 2 == 0:\n",
    "            self.median = (data[int(self.length/2)-1]+data[int(self.length/2)]) / 2\n",
    "        else:\n",
    "            self.median = (data[int((self.length+1)/2)-1])\n",
    "        difference_sq = [(x - self.mean)**2 for x in data]\n",
    "        self.variance = sum(difference_sq)/(self.length-1)\n",
    "        self.stand_dev = math.sqrt(self.variance)\n",
    "    def add_data(self, new_data):\n",
    "        if type(new_data) == list:\n",
    "            self.data.extend(new_data)\n",
    "        else:\n",
    "            self.data.append(new_data)\n",
    "        self.__init__(self.data)\n",
    "        \n",
    "\n",
    "\n",
    "    def remove_data(self, new_data2):\n",
    "        for x in new_data2:\n",
    "            for y in self.data:\n",
    "                if y != x:\n",
    "                    continue\n",
    "                elif y == x:\n",
    "                    self.data.remove(x)\n",
    "        self.__init__(self.data)"
   ]
  },
  {
   "cell_type": "code",
   "execution_count": 2,
   "metadata": {},
   "outputs": [],
   "source": [
    "one_to_five = Calculator([1,2,3,4,5])\n",
    "one_to_six = Calculator([6,1,4,2,5,3])"
   ]
  },
  {
   "cell_type": "code",
   "execution_count": 3,
   "metadata": {},
   "outputs": [
    {
     "name": "stdout",
     "output_type": "stream",
     "text": [
      "[1, 1, 2, 2, 3, 3, 4, 4, 5, 5, 6, 6]\n"
     ]
    }
   ],
   "source": [
    "one_to_six.add_data([1,2,3,4,5,6])\n",
    "print(one_to_six.data)"
   ]
  },
  {
   "cell_type": "code",
   "execution_count": 4,
   "metadata": {},
   "outputs": [
    {
     "name": "stdout",
     "output_type": "stream",
     "text": [
      "[2, 2, 3, 3, 4, 4, 5, 5]\n"
     ]
    }
   ],
   "source": [
    "one_to_six.remove_data([1,1,6,6])\n",
    "print(one_to_six.data)"
   ]
  },
  {
   "cell_type": "code",
   "execution_count": null,
   "metadata": {},
   "outputs": [],
   "source": []
  },
  {
   "cell_type": "code",
   "execution_count": null,
   "metadata": {},
   "outputs": [],
   "source": [
    "\n",
    "        "
   ]
  },
  {
   "cell_type": "code",
   "execution_count": null,
   "metadata": {},
   "outputs": [],
   "source": []
  }
 ],
 "metadata": {
  "kernelspec": {
   "display_name": "Python 3",
   "language": "python",
   "name": "python3"
  },
  "language_info": {
   "codemirror_mode": {
    "name": "ipython",
    "version": 3
   },
   "file_extension": ".py",
   "mimetype": "text/x-python",
   "name": "python",
   "nbconvert_exporter": "python",
   "pygments_lexer": "ipython3",
   "version": "3.7.4"
  }
 },
 "nbformat": 4,
 "nbformat_minor": 2
}
