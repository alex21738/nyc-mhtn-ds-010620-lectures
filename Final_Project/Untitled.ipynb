{
 "cells": [
  {
   "cell_type": "code",
   "execution_count": 1,
   "metadata": {},
   "outputs": [],
   "source": [
    "import pandas as pd"
   ]
  },
  {
   "cell_type": "code",
   "execution_count": 4,
   "metadata": {},
   "outputs": [],
   "source": [
    "df=pd.read_csv('BigML_Dataset_5e8245b15e269e3896005f12.csv')"
   ]
  },
  {
   "cell_type": "code",
   "execution_count": 8,
   "metadata": {},
   "outputs": [
    {
     "data": {
      "text/plain": [
       "\"In his revolutionary new book, Dave Allred (TheRealBarman.com) uses his fifteen years of professional bartending and bar management experience to provide you with a powerful step by step, detail by detail blueprint for securing a high-paying bartending job with little or no experience. Most bartending books on the market are simply a list of drink recipes and bar tools with bland advice on what skills it takes to become a bartender. Dave's book is inspiring, dynamic and offers powerful techniques for aspiring bartenders, including: *How to set specific goals that get you a job as quickly as possible *How to choose the best bars to work at based on your personality *How to get the owner, manager and bar staff to love you before you ever interview *How to create a cover letter and resume that outperforms 95% of the competition *The exact questions you will be asked in the interview - it's like getting a copy of the test before the exam *Questions YOU should ask in the interview that will blow the manager away *The myths of bartending - It's not as hard as they'd like you to believe *Interview Do's and Don'ts - 20 tips that will propel you ahead of the competition *Comprehensive guide to liquor, beer, wine, glassware, bar tools, techniques and terminology *100 Most Popular Cocktails Made Today *The 20 Shots you MUST know to bartend *All the skills you'll ever need to become an expert bartender *Why bartending schools are for suckers! *Guest service and what real life is like behind the bar Entertaining, humorous and informative, How to Be a Bartender is a must have for anyone wanting to know what it takes to break into the bar business. Everything in this book identifies exactly what bar managers and owners are looking for that will put you miles ahead of the competition. This is the first time a book has appeared on the market that actually helps people with no experience find a bartending job. If you want a chance at landing a high-paying job as a bartender, read Dave's book, eliminate the mistakes that prevent people from being hired, and wow bar managers in the interview. Visit Dave on TheRealBarman.com\""
      ]
     },
     "execution_count": 8,
     "metadata": {},
     "output_type": "execute_result"
    }
   ],
   "source": [
    "df['description'][0]"
   ]
  },
  {
   "cell_type": "code",
   "execution_count": 12,
   "metadata": {},
   "outputs": [
    {
     "data": {
      "text/plain": [
       "url                     0\n",
       "title                   1\n",
       "author                 10\n",
       "price                 555\n",
       "save                12907\n",
       "pages                 210\n",
       "description             0\n",
       "size                 1042\n",
       "publisher            7545\n",
       "language               97\n",
       "text_to_speech       1522\n",
       "x_ray                1511\n",
       "lending              1430\n",
       "customer_reviews     1446\n",
       "stars                1445\n",
       "dtype: int64"
      ]
     },
     "execution_count": 12,
     "metadata": {},
     "output_type": "execute_result"
    }
   ],
   "source": [
    "df.isna().sum()"
   ]
  },
  {
   "cell_type": "code",
   "execution_count": 15,
   "metadata": {},
   "outputs": [
    {
     "data": {
      "text/html": [
       "<div>\n",
       "<style scoped>\n",
       "    .dataframe tbody tr th:only-of-type {\n",
       "        vertical-align: middle;\n",
       "    }\n",
       "\n",
       "    .dataframe tbody tr th {\n",
       "        vertical-align: top;\n",
       "    }\n",
       "\n",
       "    .dataframe thead th {\n",
       "        text-align: right;\n",
       "    }\n",
       "</style>\n",
       "<table border=\"1\" class=\"dataframe\">\n",
       "  <thead>\n",
       "    <tr style=\"text-align: right;\">\n",
       "      <th></th>\n",
       "      <th>url</th>\n",
       "      <th>title</th>\n",
       "      <th>author</th>\n",
       "      <th>price</th>\n",
       "      <th>save</th>\n",
       "      <th>pages</th>\n",
       "      <th>description</th>\n",
       "      <th>size</th>\n",
       "      <th>publisher</th>\n",
       "      <th>language</th>\n",
       "      <th>text_to_speech</th>\n",
       "      <th>x_ray</th>\n",
       "      <th>lending</th>\n",
       "      <th>customer_reviews</th>\n",
       "      <th>stars</th>\n",
       "    </tr>\n",
       "  </thead>\n",
       "  <tbody>\n",
       "    <tr>\n",
       "      <th>0</th>\n",
       "      <td>http://www.amazon.com/How-Bartender-Bartending...</td>\n",
       "      <td>How to be a Bartender: Get a Bartending Job Wi...</td>\n",
       "      <td>Dave Allred</td>\n",
       "      <td>9.99</td>\n",
       "      <td>NaN</td>\n",
       "      <td>171.0</td>\n",
       "      <td>In his revolutionary new book, Dave Allred (Th...</td>\n",
       "      <td>249.0</td>\n",
       "      <td>NaN</td>\n",
       "      <td>English</td>\n",
       "      <td>Enabled</td>\n",
       "      <td>Not Enabled</td>\n",
       "      <td>Enabled</td>\n",
       "      <td>23.0</td>\n",
       "      <td>4.9</td>\n",
       "    </tr>\n",
       "    <tr>\n",
       "      <th>1</th>\n",
       "      <td>http://www.amazon.com/Raise-Bar-Action-Based-C...</td>\n",
       "      <td>Raise the Bar: An Action-Based Method for Maxi...</td>\n",
       "      <td>Jon Taffer</td>\n",
       "      <td>2.00</td>\n",
       "      <td>24.00</td>\n",
       "      <td>258.0</td>\n",
       "      <td>If there’s anyone who can prevent a bar or res...</td>\n",
       "      <td>1427.0</td>\n",
       "      <td>Amazon Publishing</td>\n",
       "      <td>English</td>\n",
       "      <td>Enabled</td>\n",
       "      <td>Enabled</td>\n",
       "      <td>Enabled</td>\n",
       "      <td>80.0</td>\n",
       "      <td>4.7</td>\n",
       "    </tr>\n",
       "    <tr>\n",
       "      <th>2</th>\n",
       "      <td>http://www.amazon.com/The-Professional-Bartend...</td>\n",
       "      <td>The Professional Bartender's Handbook: A Recip...</td>\n",
       "      <td>Valerie Mellema</td>\n",
       "      <td>9.87</td>\n",
       "      <td>12.08</td>\n",
       "      <td>288.0</td>\n",
       "      <td>The Professional Bartenders Handbook is writte...</td>\n",
       "      <td>5643.0</td>\n",
       "      <td>Atlantic Publishing Group Inc.; illustrated ed...</td>\n",
       "      <td>English</td>\n",
       "      <td>Enabled</td>\n",
       "      <td>Not Enabled</td>\n",
       "      <td>Not Enabled</td>\n",
       "      <td>32.0</td>\n",
       "      <td>4.2</td>\n",
       "    </tr>\n",
       "    <tr>\n",
       "      <th>3</th>\n",
       "      <td>http://www.amazon.com/Double-Your-Tips-Jerry-M...</td>\n",
       "      <td>How to Double Your Tips [Kindle Edition]</td>\n",
       "      <td>Jerry Minchey</td>\n",
       "      <td>2.99</td>\n",
       "      <td>NaN</td>\n",
       "      <td>36.0</td>\n",
       "      <td>How to Double Your Tips (For every waitress, w...</td>\n",
       "      <td>98.0</td>\n",
       "      <td>Stony River Media</td>\n",
       "      <td>English</td>\n",
       "      <td>Enabled</td>\n",
       "      <td>Not Enabled</td>\n",
       "      <td>Enabled</td>\n",
       "      <td>6.0</td>\n",
       "      <td>4.5</td>\n",
       "    </tr>\n",
       "    <tr>\n",
       "      <th>4</th>\n",
       "      <td>http://www.amazon.com/The-Bartenders-Bible-Mix...</td>\n",
       "      <td>The Bartender's Bible: 1001 Mixed Drinks [Kind...</td>\n",
       "      <td>Gary Regan</td>\n",
       "      <td>5.99</td>\n",
       "      <td>2.00</td>\n",
       "      <td>400.0</td>\n",
       "      <td>Mix Drinks Like A Pro Now you can with this in...</td>\n",
       "      <td>647.0</td>\n",
       "      <td>HarperCollins e-books</td>\n",
       "      <td>English</td>\n",
       "      <td>Enabled</td>\n",
       "      <td>Not Enabled</td>\n",
       "      <td>Not Enabled</td>\n",
       "      <td>59.0</td>\n",
       "      <td>3.6</td>\n",
       "    </tr>\n",
       "  </tbody>\n",
       "</table>\n",
       "</div>"
      ],
      "text/plain": [
       "                                                 url  \\\n",
       "0  http://www.amazon.com/How-Bartender-Bartending...   \n",
       "1  http://www.amazon.com/Raise-Bar-Action-Based-C...   \n",
       "2  http://www.amazon.com/The-Professional-Bartend...   \n",
       "3  http://www.amazon.com/Double-Your-Tips-Jerry-M...   \n",
       "4  http://www.amazon.com/The-Bartenders-Bible-Mix...   \n",
       "\n",
       "                                               title           author  price  \\\n",
       "0  How to be a Bartender: Get a Bartending Job Wi...      Dave Allred   9.99   \n",
       "1  Raise the Bar: An Action-Based Method for Maxi...       Jon Taffer   2.00   \n",
       "2  The Professional Bartender's Handbook: A Recip...  Valerie Mellema   9.87   \n",
       "3           How to Double Your Tips [Kindle Edition]    Jerry Minchey   2.99   \n",
       "4  The Bartender's Bible: 1001 Mixed Drinks [Kind...       Gary Regan   5.99   \n",
       "\n",
       "    save  pages                                        description    size  \\\n",
       "0    NaN  171.0  In his revolutionary new book, Dave Allred (Th...   249.0   \n",
       "1  24.00  258.0  If there’s anyone who can prevent a bar or res...  1427.0   \n",
       "2  12.08  288.0  The Professional Bartenders Handbook is writte...  5643.0   \n",
       "3    NaN   36.0  How to Double Your Tips (For every waitress, w...    98.0   \n",
       "4   2.00  400.0  Mix Drinks Like A Pro Now you can with this in...   647.0   \n",
       "\n",
       "                                           publisher language text_to_speech  \\\n",
       "0                                                NaN  English        Enabled   \n",
       "1                                  Amazon Publishing  English        Enabled   \n",
       "2  Atlantic Publishing Group Inc.; illustrated ed...  English        Enabled   \n",
       "3                                  Stony River Media  English        Enabled   \n",
       "4                              HarperCollins e-books  English        Enabled   \n",
       "\n",
       "         x_ray      lending  customer_reviews  stars  \n",
       "0  Not Enabled      Enabled              23.0    4.9  \n",
       "1      Enabled      Enabled              80.0    4.7  \n",
       "2  Not Enabled  Not Enabled              32.0    4.2  \n",
       "3  Not Enabled      Enabled               6.0    4.5  \n",
       "4  Not Enabled  Not Enabled              59.0    3.6  "
      ]
     },
     "execution_count": 15,
     "metadata": {},
     "output_type": "execute_result"
    }
   ],
   "source": [
    "df.head()"
   ]
  },
  {
   "cell_type": "code",
   "execution_count": null,
   "metadata": {},
   "outputs": [],
   "source": []
  }
 ],
 "metadata": {
  "kernelspec": {
   "display_name": "Python 3",
   "language": "python",
   "name": "python3"
  },
  "language_info": {
   "codemirror_mode": {
    "name": "ipython",
    "version": 3
   },
   "file_extension": ".py",
   "mimetype": "text/x-python",
   "name": "python",
   "nbconvert_exporter": "python",
   "pygments_lexer": "ipython3",
   "version": "3.7.4"
  },
  "toc": {
   "base_numbering": 1,
   "nav_menu": {},
   "number_sections": true,
   "sideBar": true,
   "skip_h1_title": false,
   "title_cell": "Table of Contents",
   "title_sidebar": "Contents",
   "toc_cell": false,
   "toc_position": {},
   "toc_section_display": true,
   "toc_window_display": true
  },
  "varInspector": {
   "cols": {
    "lenName": 16,
    "lenType": 16,
    "lenVar": 40
   },
   "kernels_config": {
    "python": {
     "delete_cmd_postfix": "",
     "delete_cmd_prefix": "del ",
     "library": "var_list.py",
     "varRefreshCmd": "print(var_dic_list())"
    },
    "r": {
     "delete_cmd_postfix": ") ",
     "delete_cmd_prefix": "rm(",
     "library": "var_list.r",
     "varRefreshCmd": "cat(var_dic_list()) "
    }
   },
   "types_to_exclude": [
    "module",
    "function",
    "builtin_function_or_method",
    "instance",
    "_Feature"
   ],
   "window_display": false
  }
 },
 "nbformat": 4,
 "nbformat_minor": 4
}
