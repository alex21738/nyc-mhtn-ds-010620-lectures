{
 "cells": [
  {
   "cell_type": "code",
   "execution_count": 1,
   "metadata": {},
   "outputs": [
    {
     "name": "stderr",
     "output_type": "stream",
     "text": [
      "Using TensorFlow backend.\n"
     ]
    }
   ],
   "source": [
    "import pandas as pd\n",
    "import numpy as np\n",
    "import matplotlib.pyplot as plt\n",
    "from sklearn.model_selection import train_test_split\n",
    "from keras import models\n",
    "from keras import layers\n",
    "\n",
    "import keras\n",
    "from keras.datasets import mnist\n",
    "from keras.models import Sequential\n",
    "from keras.layers import Dense, Dropout\n",
    "from keras.optimizers import RMSprop\n",
    "from keras.optimizers import Adam, SGD"
   ]
  },
  {
   "cell_type": "code",
   "execution_count": 32,
   "metadata": {},
   "outputs": [],
   "source": [
    "testdf=pd.read_csv('sign_mnist_test.csv')\n",
    "traindf=pd.read_csv('sign_mnist_train.csv')"
   ]
  },
  {
   "cell_type": "code",
   "execution_count": 33,
   "metadata": {},
   "outputs": [
    {
     "data": {
      "text/plain": [
       "((27455, 785),\n",
       "    label  pixel1  pixel2  pixel3  pixel4  pixel5  pixel6  pixel7  pixel8  \\\n",
       " 0      3     107     118     127     134     139     143     146     150   \n",
       " 1      6     155     157     156     156     156     157     156     158   \n",
       " 2      2     187     188     188     187     187     186     187     188   \n",
       " 3      2     211     211     212     212     211     210     211     210   \n",
       " 4     13     164     167     170     172     176     179     180     184   \n",
       " \n",
       "    pixel9  ...  pixel775  pixel776  pixel777  pixel778  pixel779  pixel780  \\\n",
       " 0     153  ...       207       207       207       207       206       206   \n",
       " 1     158  ...        69       149       128        87        94       163   \n",
       " 2     187  ...       202       201       200       199       198       199   \n",
       " 3     210  ...       235       234       233       231       230       226   \n",
       " 4     185  ...        92       105       105       108       133       163   \n",
       " \n",
       "    pixel781  pixel782  pixel783  pixel784  \n",
       " 0       206       204       203       202  \n",
       " 1       175       103       135       149  \n",
       " 2       198       195       194       195  \n",
       " 3       225       222       229       163  \n",
       " 4       157       163       164       179  \n",
       " \n",
       " [5 rows x 785 columns])"
      ]
     },
     "execution_count": 33,
     "metadata": {},
     "output_type": "execute_result"
    }
   ],
   "source": [
    "traindf.shape, traindf.head()"
   ]
  },
  {
   "cell_type": "code",
   "execution_count": 34,
   "metadata": {},
   "outputs": [
    {
     "data": {
      "text/plain": [
       "((7172, 785),\n",
       "    label  pixel1  pixel2  pixel3  pixel4  pixel5  pixel6  pixel7  pixel8  \\\n",
       " 0      6     149     149     150     150     150     151     151     150   \n",
       " 1      5     126     128     131     132     133     134     135     135   \n",
       " 2     10      85      88      92      96     105     123     135     143   \n",
       " 3      0     203     205     207     206     207     209     210     209   \n",
       " 4      3     188     191     193     195     199     201     202     203   \n",
       " \n",
       "    pixel9  ...  pixel775  pixel776  pixel777  pixel778  pixel779  pixel780  \\\n",
       " 0     151  ...       138       148       127        89        82        96   \n",
       " 1     136  ...        47       104       194       183       186       184   \n",
       " 2     147  ...        68       166       242       227       230       227   \n",
       " 3     210  ...       154       248       247       248       253       236   \n",
       " 4     203  ...        26        40        64        48        29        46   \n",
       " \n",
       "    pixel781  pixel782  pixel783  pixel784  \n",
       " 0       106       112       120       107  \n",
       " 1       184       184       182       180  \n",
       " 2       226       225       224       222  \n",
       " 3       230       240       253       255  \n",
       " 4        49        46        46        53  \n",
       " \n",
       " [5 rows x 785 columns])"
      ]
     },
     "execution_count": 34,
     "metadata": {},
     "output_type": "execute_result"
    }
   ],
   "source": [
    "testdf.shape, testdf.head()"
   ]
  },
  {
   "cell_type": "code",
   "execution_count": 35,
   "metadata": {},
   "outputs": [
    {
     "data": {
      "text/html": [
       "<div>\n",
       "<style scoped>\n",
       "    .dataframe tbody tr th:only-of-type {\n",
       "        vertical-align: middle;\n",
       "    }\n",
       "\n",
       "    .dataframe tbody tr th {\n",
       "        vertical-align: top;\n",
       "    }\n",
       "\n",
       "    .dataframe thead th {\n",
       "        text-align: right;\n",
       "    }\n",
       "</style>\n",
       "<table border=\"1\" class=\"dataframe\">\n",
       "  <thead>\n",
       "    <tr style=\"text-align: right;\">\n",
       "      <th></th>\n",
       "      <th>label</th>\n",
       "      <th>pixel1</th>\n",
       "      <th>pixel2</th>\n",
       "      <th>pixel3</th>\n",
       "      <th>pixel4</th>\n",
       "      <th>pixel5</th>\n",
       "      <th>pixel6</th>\n",
       "      <th>pixel7</th>\n",
       "      <th>pixel8</th>\n",
       "      <th>pixel9</th>\n",
       "      <th>...</th>\n",
       "      <th>pixel775</th>\n",
       "      <th>pixel776</th>\n",
       "      <th>pixel777</th>\n",
       "      <th>pixel778</th>\n",
       "      <th>pixel779</th>\n",
       "      <th>pixel780</th>\n",
       "      <th>pixel781</th>\n",
       "      <th>pixel782</th>\n",
       "      <th>pixel783</th>\n",
       "      <th>pixel784</th>\n",
       "    </tr>\n",
       "  </thead>\n",
       "  <tbody>\n",
       "    <tr>\n",
       "      <th>0</th>\n",
       "      <td>6</td>\n",
       "      <td>149</td>\n",
       "      <td>149</td>\n",
       "      <td>150</td>\n",
       "      <td>150</td>\n",
       "      <td>150</td>\n",
       "      <td>151</td>\n",
       "      <td>151</td>\n",
       "      <td>150</td>\n",
       "      <td>151</td>\n",
       "      <td>...</td>\n",
       "      <td>138</td>\n",
       "      <td>148</td>\n",
       "      <td>127</td>\n",
       "      <td>89</td>\n",
       "      <td>82</td>\n",
       "      <td>96</td>\n",
       "      <td>106</td>\n",
       "      <td>112</td>\n",
       "      <td>120</td>\n",
       "      <td>107</td>\n",
       "    </tr>\n",
       "    <tr>\n",
       "      <th>1</th>\n",
       "      <td>5</td>\n",
       "      <td>126</td>\n",
       "      <td>128</td>\n",
       "      <td>131</td>\n",
       "      <td>132</td>\n",
       "      <td>133</td>\n",
       "      <td>134</td>\n",
       "      <td>135</td>\n",
       "      <td>135</td>\n",
       "      <td>136</td>\n",
       "      <td>...</td>\n",
       "      <td>47</td>\n",
       "      <td>104</td>\n",
       "      <td>194</td>\n",
       "      <td>183</td>\n",
       "      <td>186</td>\n",
       "      <td>184</td>\n",
       "      <td>184</td>\n",
       "      <td>184</td>\n",
       "      <td>182</td>\n",
       "      <td>180</td>\n",
       "    </tr>\n",
       "    <tr>\n",
       "      <th>2</th>\n",
       "      <td>10</td>\n",
       "      <td>85</td>\n",
       "      <td>88</td>\n",
       "      <td>92</td>\n",
       "      <td>96</td>\n",
       "      <td>105</td>\n",
       "      <td>123</td>\n",
       "      <td>135</td>\n",
       "      <td>143</td>\n",
       "      <td>147</td>\n",
       "      <td>...</td>\n",
       "      <td>68</td>\n",
       "      <td>166</td>\n",
       "      <td>242</td>\n",
       "      <td>227</td>\n",
       "      <td>230</td>\n",
       "      <td>227</td>\n",
       "      <td>226</td>\n",
       "      <td>225</td>\n",
       "      <td>224</td>\n",
       "      <td>222</td>\n",
       "    </tr>\n",
       "    <tr>\n",
       "      <th>3</th>\n",
       "      <td>0</td>\n",
       "      <td>203</td>\n",
       "      <td>205</td>\n",
       "      <td>207</td>\n",
       "      <td>206</td>\n",
       "      <td>207</td>\n",
       "      <td>209</td>\n",
       "      <td>210</td>\n",
       "      <td>209</td>\n",
       "      <td>210</td>\n",
       "      <td>...</td>\n",
       "      <td>154</td>\n",
       "      <td>248</td>\n",
       "      <td>247</td>\n",
       "      <td>248</td>\n",
       "      <td>253</td>\n",
       "      <td>236</td>\n",
       "      <td>230</td>\n",
       "      <td>240</td>\n",
       "      <td>253</td>\n",
       "      <td>255</td>\n",
       "    </tr>\n",
       "    <tr>\n",
       "      <th>4</th>\n",
       "      <td>3</td>\n",
       "      <td>188</td>\n",
       "      <td>191</td>\n",
       "      <td>193</td>\n",
       "      <td>195</td>\n",
       "      <td>199</td>\n",
       "      <td>201</td>\n",
       "      <td>202</td>\n",
       "      <td>203</td>\n",
       "      <td>203</td>\n",
       "      <td>...</td>\n",
       "      <td>26</td>\n",
       "      <td>40</td>\n",
       "      <td>64</td>\n",
       "      <td>48</td>\n",
       "      <td>29</td>\n",
       "      <td>46</td>\n",
       "      <td>49</td>\n",
       "      <td>46</td>\n",
       "      <td>46</td>\n",
       "      <td>53</td>\n",
       "    </tr>\n",
       "    <tr>\n",
       "      <th>...</th>\n",
       "      <td>...</td>\n",
       "      <td>...</td>\n",
       "      <td>...</td>\n",
       "      <td>...</td>\n",
       "      <td>...</td>\n",
       "      <td>...</td>\n",
       "      <td>...</td>\n",
       "      <td>...</td>\n",
       "      <td>...</td>\n",
       "      <td>...</td>\n",
       "      <td>...</td>\n",
       "      <td>...</td>\n",
       "      <td>...</td>\n",
       "      <td>...</td>\n",
       "      <td>...</td>\n",
       "      <td>...</td>\n",
       "      <td>...</td>\n",
       "      <td>...</td>\n",
       "      <td>...</td>\n",
       "      <td>...</td>\n",
       "      <td>...</td>\n",
       "    </tr>\n",
       "    <tr>\n",
       "      <th>34622</th>\n",
       "      <td>13</td>\n",
       "      <td>189</td>\n",
       "      <td>189</td>\n",
       "      <td>190</td>\n",
       "      <td>190</td>\n",
       "      <td>192</td>\n",
       "      <td>193</td>\n",
       "      <td>193</td>\n",
       "      <td>193</td>\n",
       "      <td>193</td>\n",
       "      <td>...</td>\n",
       "      <td>132</td>\n",
       "      <td>165</td>\n",
       "      <td>99</td>\n",
       "      <td>77</td>\n",
       "      <td>52</td>\n",
       "      <td>200</td>\n",
       "      <td>234</td>\n",
       "      <td>200</td>\n",
       "      <td>222</td>\n",
       "      <td>225</td>\n",
       "    </tr>\n",
       "    <tr>\n",
       "      <th>34623</th>\n",
       "      <td>23</td>\n",
       "      <td>151</td>\n",
       "      <td>154</td>\n",
       "      <td>157</td>\n",
       "      <td>158</td>\n",
       "      <td>160</td>\n",
       "      <td>161</td>\n",
       "      <td>163</td>\n",
       "      <td>164</td>\n",
       "      <td>166</td>\n",
       "      <td>...</td>\n",
       "      <td>198</td>\n",
       "      <td>198</td>\n",
       "      <td>198</td>\n",
       "      <td>198</td>\n",
       "      <td>198</td>\n",
       "      <td>196</td>\n",
       "      <td>195</td>\n",
       "      <td>195</td>\n",
       "      <td>195</td>\n",
       "      <td>194</td>\n",
       "    </tr>\n",
       "    <tr>\n",
       "      <th>34624</th>\n",
       "      <td>18</td>\n",
       "      <td>174</td>\n",
       "      <td>174</td>\n",
       "      <td>174</td>\n",
       "      <td>174</td>\n",
       "      <td>174</td>\n",
       "      <td>175</td>\n",
       "      <td>175</td>\n",
       "      <td>174</td>\n",
       "      <td>173</td>\n",
       "      <td>...</td>\n",
       "      <td>121</td>\n",
       "      <td>196</td>\n",
       "      <td>209</td>\n",
       "      <td>208</td>\n",
       "      <td>206</td>\n",
       "      <td>204</td>\n",
       "      <td>203</td>\n",
       "      <td>202</td>\n",
       "      <td>200</td>\n",
       "      <td>200</td>\n",
       "    </tr>\n",
       "    <tr>\n",
       "      <th>34625</th>\n",
       "      <td>17</td>\n",
       "      <td>177</td>\n",
       "      <td>181</td>\n",
       "      <td>184</td>\n",
       "      <td>185</td>\n",
       "      <td>187</td>\n",
       "      <td>189</td>\n",
       "      <td>190</td>\n",
       "      <td>191</td>\n",
       "      <td>191</td>\n",
       "      <td>...</td>\n",
       "      <td>119</td>\n",
       "      <td>56</td>\n",
       "      <td>27</td>\n",
       "      <td>58</td>\n",
       "      <td>102</td>\n",
       "      <td>79</td>\n",
       "      <td>47</td>\n",
       "      <td>64</td>\n",
       "      <td>87</td>\n",
       "      <td>93</td>\n",
       "    </tr>\n",
       "    <tr>\n",
       "      <th>34626</th>\n",
       "      <td>23</td>\n",
       "      <td>179</td>\n",
       "      <td>180</td>\n",
       "      <td>180</td>\n",
       "      <td>180</td>\n",
       "      <td>182</td>\n",
       "      <td>181</td>\n",
       "      <td>182</td>\n",
       "      <td>183</td>\n",
       "      <td>182</td>\n",
       "      <td>...</td>\n",
       "      <td>108</td>\n",
       "      <td>132</td>\n",
       "      <td>170</td>\n",
       "      <td>194</td>\n",
       "      <td>214</td>\n",
       "      <td>203</td>\n",
       "      <td>197</td>\n",
       "      <td>205</td>\n",
       "      <td>209</td>\n",
       "      <td>215</td>\n",
       "    </tr>\n",
       "  </tbody>\n",
       "</table>\n",
       "<p>34627 rows × 785 columns</p>\n",
       "</div>"
      ],
      "text/plain": [
       "       label  pixel1  pixel2  pixel3  pixel4  pixel5  pixel6  pixel7  pixel8  \\\n",
       "0          6     149     149     150     150     150     151     151     150   \n",
       "1          5     126     128     131     132     133     134     135     135   \n",
       "2         10      85      88      92      96     105     123     135     143   \n",
       "3          0     203     205     207     206     207     209     210     209   \n",
       "4          3     188     191     193     195     199     201     202     203   \n",
       "...      ...     ...     ...     ...     ...     ...     ...     ...     ...   \n",
       "34622     13     189     189     190     190     192     193     193     193   \n",
       "34623     23     151     154     157     158     160     161     163     164   \n",
       "34624     18     174     174     174     174     174     175     175     174   \n",
       "34625     17     177     181     184     185     187     189     190     191   \n",
       "34626     23     179     180     180     180     182     181     182     183   \n",
       "\n",
       "       pixel9  ...  pixel775  pixel776  pixel777  pixel778  pixel779  \\\n",
       "0         151  ...       138       148       127        89        82   \n",
       "1         136  ...        47       104       194       183       186   \n",
       "2         147  ...        68       166       242       227       230   \n",
       "3         210  ...       154       248       247       248       253   \n",
       "4         203  ...        26        40        64        48        29   \n",
       "...       ...  ...       ...       ...       ...       ...       ...   \n",
       "34622     193  ...       132       165        99        77        52   \n",
       "34623     166  ...       198       198       198       198       198   \n",
       "34624     173  ...       121       196       209       208       206   \n",
       "34625     191  ...       119        56        27        58       102   \n",
       "34626     182  ...       108       132       170       194       214   \n",
       "\n",
       "       pixel780  pixel781  pixel782  pixel783  pixel784  \n",
       "0            96       106       112       120       107  \n",
       "1           184       184       184       182       180  \n",
       "2           227       226       225       224       222  \n",
       "3           236       230       240       253       255  \n",
       "4            46        49        46        46        53  \n",
       "...         ...       ...       ...       ...       ...  \n",
       "34622       200       234       200       222       225  \n",
       "34623       196       195       195       195       194  \n",
       "34624       204       203       202       200       200  \n",
       "34625        79        47        64        87        93  \n",
       "34626       203       197       205       209       215  \n",
       "\n",
       "[34627 rows x 785 columns]"
      ]
     },
     "execution_count": 35,
     "metadata": {},
     "output_type": "execute_result"
    }
   ],
   "source": [
    "df = pd.concat([testdf, traindf], axis = 0)\n",
    "df.reset_index(inplace = True, drop = True)\n",
    "df"
   ]
  },
  {
   "cell_type": "code",
   "execution_count": 36,
   "metadata": {},
   "outputs": [
    {
     "data": {
      "text/plain": [
       "((34627, 784),\n",
       " 0     6\n",
       " 1     5\n",
       " 2    10\n",
       " 3     0\n",
       " 4     3\n",
       " Name: label, dtype: int64)"
      ]
     },
     "execution_count": 36,
     "metadata": {},
     "output_type": "execute_result"
    }
   ],
   "source": [
    "labels = df['label']\n",
    "df.drop(columns =['label'], inplace = True)\n",
    "df.shape, labels.head()"
   ]
  },
  {
   "cell_type": "code",
   "execution_count": 37,
   "metadata": {},
   "outputs": [
    {
     "data": {
      "text/plain": [
       "0     1457\n",
       "4     1455\n",
       "2     1454\n",
       "5     1451\n",
       "11    1450\n",
       "8     1450\n",
       "24    1450\n",
       "12    1449\n",
       "7     1449\n",
       "18    1445\n",
       "10    1445\n",
       "16    1443\n",
       "1     1442\n",
       "14    1442\n",
       "13    1442\n",
       "3     1441\n",
       "6     1438\n",
       "17    1438\n",
       "15    1435\n",
       "19    1434\n",
       "23    1431\n",
       "22    1431\n",
       "21    1428\n",
       "20    1427\n",
       "Name: label, dtype: int64"
      ]
     },
     "execution_count": 37,
     "metadata": {},
     "output_type": "execute_result"
    }
   ],
   "source": [
    "# no 9(J) or 26(Z)\n",
    "labels.value_counts()"
   ]
  },
  {
   "cell_type": "code",
   "execution_count": 63,
   "metadata": {},
   "outputs": [],
   "source": [
    "images = df.values\n",
    "images = np.array([np.reshape(i, (28, 28)) for i in images])\n",
    "images = np.array([i.flatten() for i in images])\n",
    "images = images/255"
   ]
  },
  {
   "cell_type": "code",
   "execution_count": 65,
   "metadata": {},
   "outputs": [
    {
     "data": {
      "text/plain": [
       "<matplotlib.image.AxesImage at 0x1a4cca3d90>"
      ]
     },
     "execution_count": 65,
     "metadata": {},
     "output_type": "execute_result"
    },
    {
     "data": {
      "image/png": "[encoded data removed]",
      "text/plain": [
       "<Figure size 432x288 with 1 Axes>"
      ]
     },
     "metadata": {
      "needs_background": "light"
     },
     "output_type": "display_data"
    }
   ],
   "source": [
    "plt.imshow(images[0].reshape(28,28))"
   ]
  },
  {
   "cell_type": "code",
   "execution_count": 73,
   "metadata": {},
   "outputs": [
    {
     "data": {
      "text/plain": [
       "27701"
      ]
     },
     "execution_count": 73,
     "metadata": {},
     "output_type": "execute_result"
    }
   ],
   "source": [
    "len(image_train)"
   ]
  },
  {
   "cell_type": "code",
   "execution_count": 79,
   "metadata": {},
   "outputs": [],
   "source": [
    "image_train, image_test, label_train, label_test = train_test_split(images, labels, random_state=23, train_size=.8)\n"
   ]
  },
  {
   "cell_type": "code",
   "execution_count": 47,
   "metadata": {},
   "outputs": [],
   "source": [
    "image_train, val_image, label_train, val_label = train_test_split(image_train, label_train, random_state = 23, train_size = .75)"
   ]
  },
  {
   "cell_type": "code",
   "execution_count": 70,
   "metadata": {},
   "outputs": [],
   "source": [
    "num_classes = 25\n",
    "label_train = keras.utils.to_categorical(label_train, num_classes)\n",
    "label_test = keras.utils.to_categorical(label_test, num_classes)"
   ]
  },
  {
   "cell_type": "code",
   "execution_count": 80,
   "metadata": {},
   "outputs": [
    {
     "name": "stdout",
     "output_type": "stream",
     "text": [
      "Train: X=(27701, 784), y=(27701,)\n",
      "Test: X=(6926, 784), y=(6926,)\n"
     ]
    }
   ],
   "source": [
    "print('Train: X=%s, y=%s' % (image_train.shape, label_train.shape))\n",
    "print('Test: X=%s, y=%s' % (image_test.shape, label_test.shape))"
   ]
  },
  {
   "cell_type": "code",
   "execution_count": 81,
   "metadata": {},
   "outputs": [
    {
     "name": "stdout",
     "output_type": "stream",
     "text": [
      "27701 train samples\n",
      "6926 test samples\n",
      "Model: \"sequential_12\"\n",
      "_________________________________________________________________\n",
      "Layer (type)                 Output Shape              Param #   \n",
      "=================================================================\n",
      "dense_29 (Dense)             (None, 50)                39250     \n",
      "_________________________________________________________________\n",
      "dense_30 (Dense)             (None, 50)                2550      \n",
      "_________________________________________________________________\n",
      "dense_31 (Dense)             (None, 25)                1275      \n",
      "=================================================================\n",
      "Total params: 43,075\n",
      "Trainable params: 43,075\n",
      "Non-trainable params: 0\n",
      "_________________________________________________________________\n",
      "Train on 27701 samples, validate on 6926 samples\n",
      "Epoch 1/10\n",
      "27701/27701 [==============================] - 22s 804us/step - loss: 3.2014 - accuracy: 0.0427 - val_loss: 3.1930 - val_accuracy: 0.0375\n",
      "Epoch 2/10\n",
      "27701/27701 [==============================] - 23s 844us/step - loss: 3.1882 - accuracy: 0.0419 - val_loss: 3.1864 - val_accuracy: 0.0384\n",
      "Epoch 3/10\n",
      "27701/27701 [==============================] - 19s 677us/step - loss: 3.1837 - accuracy: 0.0403 - val_loss: 3.1825 - val_accuracy: 0.0424\n",
      "Epoch 4/10\n",
      "27701/27701 [==============================] - 19s 678us/step - loss: 3.1817 - accuracy: 0.0402 - val_loss: 3.1827 - val_accuracy: 0.0384\n",
      "Epoch 5/10\n",
      "27701/27701 [==============================] - 20s 735us/step - loss: 3.1808 - accuracy: 0.0431 - val_loss: 3.1816 - val_accuracy: 0.0411\n",
      "Epoch 6/10\n",
      "27701/27701 [==============================] - 26s 946us/step - loss: 3.1804 - accuracy: 0.0397 - val_loss: 3.1804 - val_accuracy: 0.0414\n",
      "Epoch 7/10\n",
      "27701/27701 [==============================] - 21s 760us/step - loss: 3.1802 - accuracy: 0.0418 - val_loss: 3.1810 - val_accuracy: 0.0339\n",
      "Epoch 8/10\n",
      "27701/27701 [==============================] - 22s 781us/step - loss: 3.1797 - accuracy: 0.0429 - val_loss: 3.1813 - val_accuracy: 0.0401\n",
      "Epoch 9/10\n",
      "27701/27701 [==============================] - 17s 598us/step - loss: 3.1798 - accuracy: 0.0419 - val_loss: 3.1805 - val_accuracy: 0.0384\n",
      "Epoch 10/10\n",
      "27701/27701 [==============================] - 17s 606us/step - loss: 3.1797 - accuracy: 0.0418 - val_loss: 3.1801 - val_accuracy: 0.0401\n",
      "Test loss: 3.180146083988759\n",
      "Test accuracy: 0.0401386097073555\n"
     ]
    }
   ],
   "source": [
    "batch_size = 12\n",
    "num_classes = 25\n",
    "epochs = 10\n",
    "\n",
    "# the data, split between train and test sets\n",
    "# (image_train, label_train), (image_test, label_test) = mnist.load_data()\n",
    "\n",
    "# image_train = image_train.reshape(27701, 784)\n",
    "# image_test = image_test.reshape(6926, 784)\n",
    "image_train = image_train.astype('float32')\n",
    "image_test = image_test.astype('float32')\n",
    "image_train /= 255\n",
    "image_test /= 255\n",
    "print(image_train.shape[0], 'train samples')\n",
    "print(image_test.shape[0], 'test samples')\n",
    "\n",
    "# convert class vectors to binary class matrices\n",
    "label_train = keras.utils.to_categorical(label_train, num_classes)\n",
    "label_test = keras.utils.to_categorical(label_test, num_classes)\n",
    "\n",
    "# specifying the model structure\n",
    "model = Sequential()\n",
    "\n",
    "# specify the first hidden layer\n",
    "model.add(Dense(50, activation='relu', input_shape=(784,)))\n",
    "\n",
    "# specify the second layer\n",
    "model.add(Dense(50, activation='relu'))\n",
    "\n",
    "# specify the output layer\n",
    "model.add(Dense(num_classes, activation='softmax'))\n",
    "\n",
    "model.summary()\n",
    "\n",
    "model.compile(loss='categorical_crossentropy',\n",
    "              optimizer=SGD(),\n",
    "              metrics=['accuracy'])\n",
    "\n",
    "history = model.fit(image_train, label_train,\n",
    "                    batch_size=batch_size,\n",
    "                    epochs=epochs,\n",
    "                    verbose=1,\n",
    "                    validation_data=(image_test, label_test))\n",
    "score = model.evaluate(image_test, label_test, verbose=0)\n",
    "print('Test loss:', score[0])\n",
    "print('Test accuracy:', score[1])"
   ]
  },
  {
   "cell_type": "code",
   "execution_count": 17,
   "metadata": {},
   "outputs": [],
   "source": [
    "from keras.callbacks import EarlyStopping\n",
    "n = 2\n",
    "stopping_monitor = EarlyStopping(patience = n)"
   ]
  },
  {
   "cell_type": "code",
   "execution_count": 18,
   "metadata": {},
   "outputs": [
    {
     "name": "stdout",
     "output_type": "stream",
     "text": [
      "Model: \"sequential_2\"\n",
      "_________________________________________________________________\n",
      "Layer (type)                 Output Shape              Param #   \n",
      "=================================================================\n",
      "dense_4 (Dense)              (None, 50)                39250     \n",
      "_________________________________________________________________\n",
      "dropout_1 (Dropout)          (None, 50)                0         \n",
      "_________________________________________________________________\n",
      "dense_5 (Dense)              (None, 50)                2550      \n",
      "_________________________________________________________________\n",
      "dropout_2 (Dropout)          (None, 50)                0         \n",
      "_________________________________________________________________\n",
      "dense_6 (Dense)              (None, 25)                1275      \n",
      "=================================================================\n",
      "Total params: 43,075\n",
      "Trainable params: 43,075\n",
      "Non-trainable params: 0\n",
      "_________________________________________________________________\n",
      "Train on 60000 samples, validate on 10000 samples\n",
      "Epoch 1/10\n",
      "60000/60000 [==============================] - 29s 480us/step - loss: 0.9964 - accuracy: 0.6849 - val_loss: 0.2931 - val_accuracy: 0.9168\n",
      "Epoch 2/10\n",
      "60000/60000 [==============================] - 27s 449us/step - loss: 0.3832 - accuracy: 0.8888 - val_loss: 0.2187 - val_accuracy: 0.9388\n",
      "Epoch 3/10\n",
      "60000/60000 [==============================] - 28s 469us/step - loss: nan - accuracy: 0.1126 - val_loss: nan - val_accuracy: 0.0980\n",
      "Epoch 4/10\n",
      "60000/60000 [==============================] - 32s 538us/step - loss: nan - accuracy: 0.0987 - val_loss: nan - val_accuracy: 0.0980\n",
      "Epoch 5/10\n",
      "60000/60000 [==============================] - 30s 495us/step - loss: nan - accuracy: 0.0987 - val_loss: nan - val_accuracy: 0.0980\n",
      "Epoch 6/10\n",
      "60000/60000 [==============================] - 31s 520us/step - loss: nan - accuracy: 0.0987 - val_loss: nan - val_accuracy: 0.0980\n",
      "Epoch 7/10\n",
      "60000/60000 [==============================] - 31s 514us/step - loss: nan - accuracy: 0.0987 - val_loss: nan - val_accuracy: 0.0980\n",
      "Epoch 8/10\n",
      "60000/60000 [==============================] - 27s 453us/step - loss: nan - accuracy: 0.0987 - val_loss: nan - val_accuracy: 0.0980\n",
      "Epoch 9/10\n",
      "60000/60000 [==============================] - 27s 451us/step - loss: nan - accuracy: 0.0987 - val_loss: nan - val_accuracy: 0.0980\n",
      "Epoch 10/10\n",
      "60000/60000 [==============================] - 28s 468us/step - loss: nan - accuracy: 0.0987 - val_loss: nan - val_accuracy: 0.0980\n",
      "Test loss: nan\n",
      "Test accuracy: 0.09799999743700027\n"
     ]
    }
   ],
   "source": [
    "# model capacity - overfitting and underfitting \n",
    "# building deep learning model is an iterative process, and we cannot use architecture we learned before such as\n",
    "# grid search - why?\n",
    "\n",
    "# specifying the model structure\n",
    "model = Sequential()\n",
    "\n",
    "# specify the first hidden layer\n",
    "model.add(Dense(50, activation='relu', input_shape=(784,)))\n",
    "model.add(Dropout(0.2))\n",
    "\n",
    "# specify the second layer\n",
    "model.add(Dense(50))\n",
    "model.add(Dropout(0.2))\n",
    "\n",
    "# specify the output layer\n",
    "model.add(Dense(num_classes, activation='sigmoid'))\n",
    "\n",
    "model.summary()\n",
    "\n",
    "model.compile(loss='categorical_crossentropy',\n",
    "              optimizer=SGD(),\n",
    "              metrics=['accuracy'])\n",
    "\n",
    "history = model.fit(image_train, label_train,\n",
    "                    batch_size=batch_size,\n",
    "                    epochs=epochs,\n",
    "                    verbose=1,\n",
    "                    validation_data=(image_test, label_test))\n",
    "score = model.evaluate(image_test, label_test, verbose=0)\n",
    "print('Test loss:', score[0])\n",
    "print('Test accuracy:', score[1])"
   ]
  },
  {
   "cell_type": "code",
   "execution_count": 82,
   "metadata": {},
   "outputs": [
    {
     "name": "stdout",
     "output_type": "stream",
     "text": [
      "Model: \"sequential_13\"\n",
      "_________________________________________________________________\n",
      "Layer (type)                 Output Shape              Param #   \n",
      "=================================================================\n",
      "dense_32 (Dense)             (None, 50)                39250     \n",
      "_________________________________________________________________\n",
      "dropout_5 (Dropout)          (None, 50)                0         \n",
      "_________________________________________________________________\n",
      "dense_33 (Dense)             (None, 50)                2550      \n",
      "_________________________________________________________________\n",
      "dropout_6 (Dropout)          (None, 50)                0         \n",
      "_________________________________________________________________\n",
      "dense_34 (Dense)             (None, 25)                1275      \n",
      "=================================================================\n",
      "Total params: 43,075\n",
      "Trainable params: 43,075\n",
      "Non-trainable params: 0\n",
      "_________________________________________________________________\n",
      "Train on 27701 samples, validate on 6926 samples\n",
      "Epoch 1/10\n",
      "27701/27701 [==============================] - 26s 931us/step - loss: 3.2007 - accuracy: 0.0402 - val_loss: 3.1917 - val_accuracy: 0.0435\n",
      "Epoch 2/10\n",
      "27701/27701 [==============================] - 31s 1ms/step - loss: 3.1895 - accuracy: 0.0416 - val_loss: 3.1862 - val_accuracy: 0.0370\n",
      "Epoch 3/10\n",
      "27701/27701 [==============================] - 34s 1ms/step - loss: 3.1866 - accuracy: 0.0410 - val_loss: 3.1835 - val_accuracy: 0.0474\n",
      "Epoch 4/10\n",
      "27701/27701 [==============================] - 22s 802us/step - loss: 3.1850 - accuracy: 0.0421 - val_loss: 3.1827 - val_accuracy: 0.0380\n",
      "Epoch 5/10\n",
      "27701/27701 [==============================] - 21s 761us/step - loss: 3.1850 - accuracy: 0.0411 - val_loss: 3.1824 - val_accuracy: 0.0403\n",
      "Epoch 6/10\n",
      "27701/27701 [==============================] - 17s 612us/step - loss: 3.1840 - accuracy: 0.0440 - val_loss: 3.1827 - val_accuracy: 0.0370\n",
      "Epoch 7/10\n",
      "27701/27701 [==============================] - 14s 502us/step - loss: 3.1835 - accuracy: 0.0429 - val_loss: 3.1824 - val_accuracy: 0.0391\n",
      "Epoch 8/10\n",
      "27701/27701 [==============================] - 13s 483us/step - loss: 3.1834 - accuracy: 0.0420 - val_loss: 3.1810 - val_accuracy: 0.0384\n",
      "Epoch 9/10\n",
      "27701/27701 [==============================] - 14s 507us/step - loss: 3.1828 - accuracy: 0.0417 - val_loss: 3.1816 - val_accuracy: 0.0384\n",
      "Epoch 10/10\n",
      "27701/27701 [==============================] - 14s 492us/step - loss: 3.1827 - accuracy: 0.0408 - val_loss: 3.1809 - val_accuracy: 0.0611\n",
      "Test loss: 3.1808899537421635\n",
      "Test accuracy: 0.061074212193489075\n",
      "run time: 208.6883840560913\n"
     ]
    }
   ],
   "source": [
    "import time \n",
    "tic = time.time()\n",
    "model = Sequential()\n",
    "# specify the first hidden layer\n",
    "model.add(Dense(50, activation='relu', input_shape=(784,)))\n",
    "model.add(Dropout(0.2))\n",
    "\n",
    "# specify the second layer\n",
    "model.add(Dense(50))\n",
    "model.add(Dropout(0.2))\n",
    "\n",
    "# specify the output layer\n",
    "model.add(Dense(num_classes, activation='softmax'))\n",
    "\n",
    "model.summary()\n",
    "\n",
    "model.compile(loss='categorical_crossentropy',\n",
    "              optimizer=SGD(),\n",
    "              metrics=['accuracy'])\n",
    "\n",
    "history = model.fit(image_train, label_train,\n",
    "                    batch_size=batch_size,\n",
    "                    epochs=epochs,\n",
    "                    verbose=1,\n",
    "                    validation_data=(image_test, label_test))\n",
    "score = model.evaluate(image_test, label_test, verbose=0)\n",
    "toc = time.time()\n",
    "\n",
    "print('Test loss:', score[0])\n",
    "print('Test accuracy:', score[1])\n",
    "print('run time:',toc-tic)\n"
   ]
  },
  {
   "cell_type": "code",
   "execution_count": null,
   "metadata": {},
   "outputs": [],
   "source": [
    "tic = time.time()\n",
    "model = Sequential()\n",
    "model.add(Dense(50, activation='relu', input_shape=(784,)))\n",
    "model.add(Dropout(0.2))\n",
    "model.add(Dense(50, activation='relu'))\n",
    "model.add(Dropout(0.2))\n",
    "model.add(Dense(num_classes, activation='softmax'))\n",
    "\n",
    "model.summary()\n",
    "\n",
    "model.compile(loss='categorical_crossentropy',\n",
    "              optimizer=RMSprop(),\n",
    "              metrics=['accuracy'])\n",
    "\n",
    "history = model.fit(image_train, label_train,\n",
    "                    batch_size=batch_size,\n",
    "                    epochs=epochs,\n",
    "                    verbose=1,\n",
    "                    validation_data=(image_test, label_test))\n",
    "score = model.evaluate(image_test, label_test, verbose=0)\n",
    "toc = time.time()\n",
    "print('Test loss:', score[0])\n",
    "print('Test accuracy:', score[1])\n",
    "print('run time:', toc-tic)"
   ]
  },
  {
   "cell_type": "code",
   "execution_count": null,
   "metadata": {},
   "outputs": [],
   "source": []
  },
  {
   "cell_type": "code",
   "execution_count": null,
   "metadata": {},
   "outputs": [],
   "source": [
    "model = models.Sequential()\n",
    "model.add(layers.Dense(30, activation='relu', input_shape=(784,))) # 2 hidden layers\n",
    "model.add(layers.Dense(20, activation='relu'))\n",
    "model.add(layers.Dense(10, activation='relu'))\n",
    "model.add(layers.Dense(5, activation='relu'))\n",
    "model.add(layers.Dense(25, activation='sigmoid'))"
   ]
  },
  {
   "cell_type": "code",
   "execution_count": null,
   "metadata": {},
   "outputs": [],
   "source": [
    "model.compile(optimizer ='sgd' ,loss='categorical_crossentropy',metrics=['accuracy'])\n",
    "\n",
    "histoire = model.fit(image_train,\n",
    "                    label_train,\n",
    "                    epochs=20,\n",
    "                    batch_size=32,\n",
    "                    validation_data=(image_test, label_test))"
   ]
  },
  {
   "cell_type": "markdown",
   "metadata": {},
   "source": [
    "### CNN\n"
   ]
  },
  {
   "cell_type": "code",
   "execution_count": 55,
   "metadata": {},
   "outputs": [],
   "source": [
    "model = models.Sequential()\n",
    "model.add(layers.Conv2D(32, (3, 3), activation='relu',\n",
    "                        input_shape=( 28,28,  3)))\n",
    "model.add(layers.MaxPooling2D((2, 2)))\n",
    "\n",
    "model.add(layers.Conv2D(32, (4, 4), activation='relu'))\n",
    "model.add(layers.MaxPooling2D((2, 2)))\n",
    "\n",
    "model.add(layers.Conv2D(28, (3, 3), activation='relu'))\n",
    "model.add(layers.MaxPooling2D((2, 2)))\n",
    "\n",
    "model.add(layers.Flatten())\n",
    "model.add(layers.Dense(28, activation='relu'))\n",
    "model.add(layers.Dense(1, activation='sigmoid'))\n",
    "\n",
    "model.compile(loss='binary_crossentropy',\n",
    "              optimizer=\"sgd\",\n",
    "              metrics=['acc'])"
   ]
  },
  {
   "cell_type": "code",
   "execution_count": 56,
   "metadata": {},
   "outputs": [
    {
     "data": {
      "text/plain": [
       "(6926,)"
      ]
     },
     "execution_count": 56,
     "metadata": {},
     "output_type": "execute_result"
    }
   ],
   "source": [
    "val_label.shape"
   ]
  },
  {
   "cell_type": "code",
   "execution_count": null,
   "metadata": {},
   "outputs": [],
   "source": [
    "history = model.fit(image_train,\n",
    "                    label_train,\n",
    "                    epochs=10,\n",
    "                    batch_size=32,\n",
    "                    validation_data=(image_test,lable_test))"
   ]
  },
  {
   "cell_type": "code",
   "execution_count": null,
   "metadata": {},
   "outputs": [],
   "source": [
    "results_train = model.evaluate(train_images, train_y)"
   ]
  },
  {
   "cell_type": "code",
   "execution_count": null,
   "metadata": {},
   "outputs": [],
   "source": [
    "results_test = model.evaluate(test_images, test_y)"
   ]
  },
  {
   "cell_type": "code",
   "execution_count": null,
   "metadata": {},
   "outputs": [],
   "source": [
    "results_train"
   ]
  },
  {
   "cell_type": "code",
   "execution_count": null,
   "metadata": {},
   "outputs": [],
   "source": [
    "results_test"
   ]
  }
 ],
 "metadata": {
  "kernelspec": {
   "display_name": "Python 3",
   "language": "python",
   "name": "python3"
  },
  "language_info": {
   "codemirror_mode": {
    "name": "ipython",
    "version": 3
   },
   "file_extension": ".py",
   "mimetype": "text/x-python",
   "name": "python",
   "nbconvert_exporter": "python",
   "pygments_lexer": "ipython3",
   "version": "3.7.4"
  },
  "toc": {
   "base_numbering": 1,
   "nav_menu": {},
   "number_sections": true,
   "sideBar": true,
   "skip_h1_title": false,
   "title_cell": "Table of Contents",
   "title_sidebar": "Contents",
   "toc_cell": false,
   "toc_position": {},
   "toc_section_display": true,
   "toc_window_display": false
  },
  "varInspector": {
   "cols": {
    "lenName": 16,
    "lenType": 16,
    "lenVar": 40
   },
   "kernels_config": {
    "python": {
     "delete_cmd_postfix": "",
     "delete_cmd_prefix": "del ",
     "library": "var_list.py",
     "varRefreshCmd": "print(var_dic_list())"
    },
    "r": {
     "delete_cmd_postfix": ") ",
     "delete_cmd_prefix": "rm(",
     "library": "var_list.r",
     "varRefreshCmd": "cat(var_dic_list()) "
    }
   },
   "types_to_exclude": [
    "module",
    "function",
    "builtin_function_or_method",
    "instance",
    "_Feature"
   ],
   "window_display": false
  }
 },
 "nbformat": 4,
 "nbformat_minor": 4
}
