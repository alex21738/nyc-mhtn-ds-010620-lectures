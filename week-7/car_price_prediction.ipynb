{
 "cells": [
  {
   "cell_type": "markdown",
   "metadata": {},
   "source": [
    "# Import Necessary Libraries"
   ]
  },
  {
   "cell_type": "code",
   "execution_count": 98,
   "metadata": {},
   "outputs": [],
   "source": [
    "from datetime import datetime\n",
    "import pandas as pd\n",
    "import numpy as np\n",
    "import statsmodels.api as sm\n",
    "from statsmodels.formula.api import ols\n",
    "import matplotlib.pyplot as plt\n",
    "import seaborn as sns\n",
    "from scipy.stats.stats import pearsonr\n",
    "import scipy as sp\n",
    "from sklearn.model_selection import KFold\n",
    "from sklearn.model_selection import StratifiedKFold\n",
    "from sklearn import linear_model\n",
    "from sklearn.linear_model import Lasso, Ridge, LinearRegression\n",
    "from sklearn.model_selection import train_test_split\n",
    "from sklearn import metrics\n",
    "from sklearn.preprocessing import PolynomialFeatures\n",
    "from scipy.stats import shapiro\n",
    "from scipy.stats import normaltest\n",
    "from sklearn.model_selection import cross_val_score\n",
    "from sklearn.preprocessing import StandardScaler, RobustScaler, MinMaxScaler\n",
    "plt.style.use('seaborn')\n",
    "%matplotlib inline\n",
    "pd.set_option('display.max_columns', 1000)\n",
    "pd.set_option('display.max_rows', 1000)"
   ]
  },
  {
   "cell_type": "markdown",
   "metadata": {},
   "source": [
    "## Read in Data to DataFrame"
   ]
  },
  {
   "cell_type": "code",
   "execution_count": 2,
   "metadata": {
    "scrolled": true
   },
   "outputs": [],
   "source": [
    "df = pd.read_csv('vehicles.csv')"
   ]
  },
  {
   "cell_type": "code",
   "execution_count": 3,
   "metadata": {},
   "outputs": [],
   "source": [
    "df.drop(columns=['id', 'county', 'url', 'region_url', 'image_url', 'description', 'vin', 'region', 'model', 'lat', 'long'], inplace=True)"
   ]
  },
  {
   "cell_type": "code",
   "execution_count": 4,
   "metadata": {},
   "outputs": [],
   "source": [
    "df = df[df['price'] > 500]\n",
    "df = df[df['price'] < 5000000]"
   ]
  },
  {
   "cell_type": "code",
   "execution_count": 5,
   "metadata": {},
   "outputs": [],
   "source": [
    "df = df[df['odometer'] < 400000 ]"
   ]
  },
  {
   "cell_type": "code",
   "execution_count": 6,
   "metadata": {},
   "outputs": [],
   "source": [
    "df.dropna(subset = ['manufacturer'], inplace = True)"
   ]
  },
  {
   "cell_type": "code",
   "execution_count": 7,
   "metadata": {},
   "outputs": [],
   "source": [
    "df.dropna(subset = ['condition'], inplace = True)"
   ]
  },
  {
   "cell_type": "code",
   "execution_count": 8,
   "metadata": {},
   "outputs": [],
   "source": [
    "df.dropna(subset=['size'], inplace = True)"
   ]
  },
  {
   "cell_type": "code",
   "execution_count": 9,
   "metadata": {},
   "outputs": [],
   "source": [
    "df.dropna(subset = ['odometer'], inplace = True)"
   ]
  },
  {
   "cell_type": "code",
   "execution_count": 10,
   "metadata": {},
   "outputs": [],
   "source": [
    "df.dropna(subset = ['fuel'], inplace = True)"
   ]
  },
  {
   "cell_type": "code",
   "execution_count": 11,
   "metadata": {},
   "outputs": [],
   "source": [
    "title_dict = {'clean':1, 'rebuilt':1, 'salvage':0, 'lien':0, 'missing':0, 'parts only':0}\n",
    "df['title_status'].replace(title_dict, inplace = True)"
   ]
  },
  {
   "cell_type": "code",
   "execution_count": 12,
   "metadata": {},
   "outputs": [],
   "source": [
    "condition_dict = {'excellent':'good', 'new':'good', 'good':'ok', 'like new':'ok', 'fair':'poor', 'salvage':np.nan}\n",
    "df.condition.replace(condition_dict, inplace = True)\n",
    "df.dropna(subset = ['condition'], inplace = True)"
   ]
  },
  {
   "cell_type": "code",
   "execution_count": 13,
   "metadata": {},
   "outputs": [],
   "source": [
    "cylinder_dict = {'12 cylinders':10, '10 cylinders':10, '8 cylinders':8, '6 cylinders':6, '5 cylinders':5, '4 cylinders':4, '3 cylinders':3, 'other':np.nan}\n",
    "df.cylinders.replace(cylinder_dict, inplace = True)\n",
    "df.dropna(subset = ['cylinders'], inplace = True)"
   ]
  },
  {
   "cell_type": "code",
   "execution_count": 14,
   "metadata": {},
   "outputs": [],
   "source": [
    "manufact_dict1 = {'ford': 1, 'chevrolet':1, 'toyota':3, 'honda':3, 'nissan':3, 'gmc':1, 'ram':1, 'jeep':1,\n",
    "       'dodge':1, 'bmw':2, 'volkswagen':2, 'hyundai':3, 'subaru':1, 'mercedes-benz':2,\n",
    "       'chrysler':1, 'kia':3, 'cadillac':1, 'lexus':3, 'buick':1, 'mazda':3, 'audi':2,\n",
    "       'pontiac':1, 'acura':3, 'lincoln':1, 'infiniti':3, 'volvo':2, 'mitsubishi':3,\n",
    "       'mercury':1, 'mini':2, 'saturn':1, 'rover':2, 'jaguar':2, 'fiat':2, 'alfa-romeo':2,\n",
    "       'harley-davidson':np.nan, 'datsun':2, 'land rover':2, 'ferrari':2, 'porche':2,\n",
    "       'aston-martin':2, 'morgan':2, 'tesla':1, 'hennessey':np.nan}\n",
    "df.manufacturer.replace(manufact_dict1, inplace = True)\n",
    "df.dropna(subset = ['manufacturer'], inplace = True)\n",
    "manufact_dict2 = {1:'usa', 2:'euro', 3:'asia'}\n",
    "df.manufacturer.replace(manufact_dict2, inplace = True)"
   ]
  },
  {
   "cell_type": "code",
   "execution_count": 15,
   "metadata": {},
   "outputs": [],
   "source": [
    "state_dict = {'ca':1, 'fl':1, 'ny':1, 'tx':1, 'mi':1, 'wi':1, 'oh':1, 'nc':1, 'pa':1, 'or':1, 'va':1, 'mn':1,\n",
    "       'tn':0, 'co':0, 'ma':1, 'ia':0, 'il':1, 'in':1, 'al':1, 'nj':1, 'az':0, 'ky':0, 'sc':1, 'ks':0,\n",
    "       'mo':0, 'ok':0, 'id':0, 'mt':0, 'ga':1, 'ct':1, 'vt':0, 'ar':0, 'wa':1, 'nm':0, 'md':1, 'la':1,\n",
    "       'nh':1, 'ms':1, 'ri':1, 'ak':1, 'me':1, 'dc':1, 'nv':0, 'sd':0, 'hi':1, 'ne':0, 'de':1, 'nd':0,\n",
    "       'wv':0, 'ut':0, 'wy':0} \n",
    "df.state.replace(state_dict, inplace = True)\n",
    "df.dropna(subset = ['state'], inplace = True)\n",
    "df['coast'] = df['state']\n",
    "df.drop(columns = ['state'], inplace = True)"
   ]
  },
  {
   "cell_type": "code",
   "execution_count": 16,
   "metadata": {},
   "outputs": [],
   "source": [
    "color_dict={'white':1, 'black':1, 'silver':1, 'grey':1, 'blue':1, 'red':1, 'green':1, 'brown':1,\n",
    "       'custom':0, 'yellow':0, 'orange':0, 'purple':0}\n",
    "df.paint_color.replace(color_dict, inplace = True)\n",
    "df.dropna(subset = ['paint_color'], inplace = True)"
   ]
  },
  {
   "cell_type": "code",
   "execution_count": 17,
   "metadata": {},
   "outputs": [],
   "source": [
    "transmission_dict = {'automatic':1, 'other':1, 'manual':0}\n",
    "df.transmission.replace(transmission_dict, inplace = True)\n",
    "df.dropna(subset = ['transmission'], inplace = True)"
   ]
  },
  {
   "cell_type": "code",
   "execution_count": 19,
   "metadata": {},
   "outputs": [],
   "source": [
    "drive_dict = {'4wd':1, 'fwd':0, 'rwd':0}\n",
    "df.drive.replace(drive_dict, inplace = True)\n",
    "df.dropna(subset = ['drive'], inplace = True)"
   ]
  },
  {
   "cell_type": "code",
   "execution_count": 20,
   "metadata": {},
   "outputs": [],
   "source": [
    "type_dict = {'SUV':'suv', 'sedan':'car', 'truck':'truck', 'pickup':'truck', 'coupe':'car', 'van':'van', 'hatchback':'car',\n",
    "       'mini-van':'van', 'convertible':'car', 'wagon':'car', 'other':np.nan, 'offroad':'suv', 'bus':'van'}\n",
    "df.type.replace(type_dict, inplace = True)\n",
    "df.dropna(subset = ['type'], inplace = True)"
   ]
  },
  {
   "cell_type": "code",
   "execution_count": 21,
   "metadata": {},
   "outputs": [],
   "source": [
    "fuel_dict = {'hybrid':'other', 'electric':'other'}\n",
    "df.fuel.replace(fuel_dict, inplace = True)"
   ]
  },
  {
   "cell_type": "code",
   "execution_count": 22,
   "metadata": {},
   "outputs": [],
   "source": [
    "df.dropna(inplace = True)"
   ]
  },
  {
   "cell_type": "code",
   "execution_count": 23,
   "metadata": {},
   "outputs": [
    {
     "data": {
      "text/plain": [
       "(99577, 14)"
      ]
     },
     "execution_count": 23,
     "metadata": {},
     "output_type": "execute_result"
    }
   ],
   "source": [
    "df.shape"
   ]
  },
  {
   "cell_type": "code",
   "execution_count": 24,
   "metadata": {},
   "outputs": [
    {
     "data": {
      "text/plain": [
       "<matplotlib.axes._subplots.AxesSubplot at 0x1c3c507a20>"
      ]
     },
     "execution_count": 24,
     "metadata": {},
     "output_type": "execute_result"
    },
    {
     "data": {
      "image/png": "[encoded data removed]",
      "text/plain": [
       "<Figure size 432x288 with 1 Axes>"
      ]
     },
     "metadata": {
      "needs_background": "light"
     },
     "output_type": "display_data"
    }
   ],
   "source": [
    "sns.heatmap(df.isnull(), cbar = False)"
   ]
  },
  {
   "cell_type": "code",
   "execution_count": 25,
   "metadata": {},
   "outputs": [],
   "source": [
    "df['price'] = [float(i) for i in df['price']]"
   ]
  },
  {
   "cell_type": "code",
   "execution_count": 26,
   "metadata": {},
   "outputs": [
    {
     "data": {
      "text/plain": [
       "<matplotlib.axes._subplots.AxesSubplot at 0x1c38ff93c8>"
      ]
     },
     "execution_count": 26,
     "metadata": {},
     "output_type": "execute_result"
    },
    {
     "data": {
      "image/png": "[encoded data removed]",
      "text/plain": [
       "<Figure size 432x288 with 1 Axes>"
      ]
     },
     "metadata": {
      "needs_background": "light"
     },
     "output_type": "display_data"
    }
   ],
   "source": [
    "sns.distplot(df.price)"
   ]
  },
  {
   "cell_type": "code",
   "execution_count": 27,
   "metadata": {},
   "outputs": [
    {
     "data": {
      "text/plain": [
       "<matplotlib.axes._subplots.AxesSubplot at 0x1c38fe5ba8>"
      ]
     },
     "execution_count": 27,
     "metadata": {},
     "output_type": "execute_result"
    },
    {
     "data": {
      "image/png": "[encoded data removed]",
      "text/plain": [
       "<Figure size 432x288 with 1 Axes>"
      ]
     },
     "metadata": {
      "needs_background": "light"
     },
     "output_type": "display_data"
    }
   ],
   "source": [
    "sns.distplot(np.log(df.price))"
   ]
  },
  {
   "cell_type": "code",
   "execution_count": 28,
   "metadata": {},
   "outputs": [],
   "source": [
    "df['log_price'] = np.log(df.price)"
   ]
  },
  {
   "cell_type": "code",
   "execution_count": 29,
   "metadata": {},
   "outputs": [],
   "source": [
    "df['age'] = 2020 - df['year']"
   ]
  },
  {
   "cell_type": "code",
   "execution_count": 30,
   "metadata": {},
   "outputs": [
    {
     "data": {
      "text/plain": [
       "(99577, 16)"
      ]
     },
     "execution_count": 30,
     "metadata": {},
     "output_type": "execute_result"
    }
   ],
   "source": [
    "df.shape"
   ]
  },
  {
   "cell_type": "code",
   "execution_count": 31,
   "metadata": {},
   "outputs": [],
   "source": [
    "df.reset_index(inplace=True)"
   ]
  },
  {
   "cell_type": "code",
   "execution_count": 32,
   "metadata": {},
   "outputs": [],
   "source": [
    "df.drop(columns = ['index', 'year'], inplace = True)"
   ]
  },
  {
   "cell_type": "code",
   "execution_count": 36,
   "metadata": {},
   "outputs": [],
   "source": [
    "dummies_df = pd.get_dummies(df, columns = ['manufacturer', 'condition', 'cylinders', 'fuel', 'size', 'type'], drop_first = True)"
   ]
  },
  {
   "cell_type": "code",
   "execution_count": 37,
   "metadata": {},
   "outputs": [
    {
     "data": {
      "text/html": [
       "<div>\n",
       "<style scoped>\n",
       "    .dataframe tbody tr th:only-of-type {\n",
       "        vertical-align: middle;\n",
       "    }\n",
       "\n",
       "    .dataframe tbody tr th {\n",
       "        vertical-align: top;\n",
       "    }\n",
       "\n",
       "    .dataframe thead th {\n",
       "        text-align: right;\n",
       "    }\n",
       "</style>\n",
       "<table border=\"1\" class=\"dataframe\">\n",
       "  <thead>\n",
       "    <tr style=\"text-align: right;\">\n",
       "      <th></th>\n",
       "      <th>price</th>\n",
       "      <th>odometer</th>\n",
       "      <th>title_status</th>\n",
       "      <th>transmission</th>\n",
       "      <th>drive</th>\n",
       "      <th>paint_color</th>\n",
       "      <th>coast</th>\n",
       "      <th>log_price</th>\n",
       "      <th>age</th>\n",
       "      <th>manufacturer_euro</th>\n",
       "      <th>manufacturer_usa</th>\n",
       "      <th>condition_ok</th>\n",
       "      <th>condition_poor</th>\n",
       "      <th>cylinders_4.0</th>\n",
       "      <th>cylinders_5.0</th>\n",
       "      <th>cylinders_6.0</th>\n",
       "      <th>cylinders_8.0</th>\n",
       "      <th>cylinders_10.0</th>\n",
       "      <th>fuel_gas</th>\n",
       "      <th>fuel_other</th>\n",
       "      <th>size_full-size</th>\n",
       "      <th>size_mid-size</th>\n",
       "      <th>size_sub-compact</th>\n",
       "      <th>type_suv</th>\n",
       "      <th>type_truck</th>\n",
       "      <th>type_van</th>\n",
       "    </tr>\n",
       "  </thead>\n",
       "  <tbody>\n",
       "    <tr>\n",
       "      <td>0</td>\n",
       "      <td>17899.0</td>\n",
       "      <td>63500.0</td>\n",
       "      <td>1</td>\n",
       "      <td>0.0</td>\n",
       "      <td>1.0</td>\n",
       "      <td>1.0</td>\n",
       "      <td>0</td>\n",
       "      <td>9.792500</td>\n",
       "      <td>8.0</td>\n",
       "      <td>1</td>\n",
       "      <td>0</td>\n",
       "      <td>0</td>\n",
       "      <td>0</td>\n",
       "      <td>1</td>\n",
       "      <td>0</td>\n",
       "      <td>0</td>\n",
       "      <td>0</td>\n",
       "      <td>0</td>\n",
       "      <td>1</td>\n",
       "      <td>0</td>\n",
       "      <td>0</td>\n",
       "      <td>0</td>\n",
       "      <td>0</td>\n",
       "      <td>0</td>\n",
       "      <td>0</td>\n",
       "      <td>0</td>\n",
       "    </tr>\n",
       "    <tr>\n",
       "      <td>1</td>\n",
       "      <td>4600.0</td>\n",
       "      <td>110982.0</td>\n",
       "      <td>1</td>\n",
       "      <td>1.0</td>\n",
       "      <td>0.0</td>\n",
       "      <td>1.0</td>\n",
       "      <td>0</td>\n",
       "      <td>8.433812</td>\n",
       "      <td>12.0</td>\n",
       "      <td>0</td>\n",
       "      <td>0</td>\n",
       "      <td>1</td>\n",
       "      <td>0</td>\n",
       "      <td>1</td>\n",
       "      <td>0</td>\n",
       "      <td>0</td>\n",
       "      <td>0</td>\n",
       "      <td>0</td>\n",
       "      <td>1</td>\n",
       "      <td>0</td>\n",
       "      <td>0</td>\n",
       "      <td>1</td>\n",
       "      <td>0</td>\n",
       "      <td>0</td>\n",
       "      <td>0</td>\n",
       "      <td>0</td>\n",
       "    </tr>\n",
       "    <tr>\n",
       "      <td>2</td>\n",
       "      <td>28000.0</td>\n",
       "      <td>67348.0</td>\n",
       "      <td>1</td>\n",
       "      <td>1.0</td>\n",
       "      <td>1.0</td>\n",
       "      <td>1.0</td>\n",
       "      <td>0</td>\n",
       "      <td>10.239960</td>\n",
       "      <td>16.0</td>\n",
       "      <td>0</td>\n",
       "      <td>1</td>\n",
       "      <td>1</td>\n",
       "      <td>0</td>\n",
       "      <td>0</td>\n",
       "      <td>0</td>\n",
       "      <td>0</td>\n",
       "      <td>0</td>\n",
       "      <td>1</td>\n",
       "      <td>1</td>\n",
       "      <td>0</td>\n",
       "      <td>1</td>\n",
       "      <td>0</td>\n",
       "      <td>0</td>\n",
       "      <td>0</td>\n",
       "      <td>1</td>\n",
       "      <td>0</td>\n",
       "    </tr>\n",
       "    <tr>\n",
       "      <td>3</td>\n",
       "      <td>2500.0</td>\n",
       "      <td>129000.0</td>\n",
       "      <td>1</td>\n",
       "      <td>0.0</td>\n",
       "      <td>0.0</td>\n",
       "      <td>1.0</td>\n",
       "      <td>0</td>\n",
       "      <td>7.824046</td>\n",
       "      <td>16.0</td>\n",
       "      <td>0</td>\n",
       "      <td>1</td>\n",
       "      <td>1</td>\n",
       "      <td>0</td>\n",
       "      <td>0</td>\n",
       "      <td>0</td>\n",
       "      <td>1</td>\n",
       "      <td>0</td>\n",
       "      <td>0</td>\n",
       "      <td>1</td>\n",
       "      <td>0</td>\n",
       "      <td>1</td>\n",
       "      <td>0</td>\n",
       "      <td>0</td>\n",
       "      <td>0</td>\n",
       "      <td>0</td>\n",
       "      <td>0</td>\n",
       "    </tr>\n",
       "    <tr>\n",
       "      <td>4</td>\n",
       "      <td>12000.0</td>\n",
       "      <td>65000.0</td>\n",
       "      <td>1</td>\n",
       "      <td>1.0</td>\n",
       "      <td>0.0</td>\n",
       "      <td>1.0</td>\n",
       "      <td>0</td>\n",
       "      <td>9.392662</td>\n",
       "      <td>5.0</td>\n",
       "      <td>1</td>\n",
       "      <td>0</td>\n",
       "      <td>1</td>\n",
       "      <td>0</td>\n",
       "      <td>1</td>\n",
       "      <td>0</td>\n",
       "      <td>0</td>\n",
       "      <td>0</td>\n",
       "      <td>0</td>\n",
       "      <td>1</td>\n",
       "      <td>0</td>\n",
       "      <td>1</td>\n",
       "      <td>0</td>\n",
       "      <td>0</td>\n",
       "      <td>0</td>\n",
       "      <td>0</td>\n",
       "      <td>0</td>\n",
       "    </tr>\n",
       "  </tbody>\n",
       "</table>\n",
       "</div>"
      ],
      "text/plain": [
       "     price  odometer  title_status  transmission  drive  paint_color  coast  \\\n",
       "0  17899.0   63500.0             1           0.0    1.0          1.0      0   \n",
       "1   4600.0  110982.0             1           1.0    0.0          1.0      0   \n",
       "2  28000.0   67348.0             1           1.0    1.0          1.0      0   \n",
       "3   2500.0  129000.0             1           0.0    0.0          1.0      0   \n",
       "4  12000.0   65000.0             1           1.0    0.0          1.0      0   \n",
       "\n",
       "   log_price   age  manufacturer_euro  manufacturer_usa  condition_ok  \\\n",
       "0   9.792500   8.0                  1                 0             0   \n",
       "1   8.433812  12.0                  0                 0             1   \n",
       "2  10.239960  16.0                  0                 1             1   \n",
       "3   7.824046  16.0                  0                 1             1   \n",
       "4   9.392662   5.0                  1                 0             1   \n",
       "\n",
       "   condition_poor  cylinders_4.0  cylinders_5.0  cylinders_6.0  cylinders_8.0  \\\n",
       "0               0              1              0              0              0   \n",
       "1               0              1              0              0              0   \n",
       "2               0              0              0              0              0   \n",
       "3               0              0              0              1              0   \n",
       "4               0              1              0              0              0   \n",
       "\n",
       "   cylinders_10.0  fuel_gas  fuel_other  size_full-size  size_mid-size  \\\n",
       "0               0         1           0               0              0   \n",
       "1               0         1           0               0              1   \n",
       "2               1         1           0               1              0   \n",
       "3               0         1           0               1              0   \n",
       "4               0         1           0               1              0   \n",
       "\n",
       "   size_sub-compact  type_suv  type_truck  type_van  \n",
       "0                 0         0           0         0  \n",
       "1                 0         0           0         0  \n",
       "2                 0         0           1         0  \n",
       "3                 0         0           0         0  \n",
       "4                 0         0           0         0  "
      ]
     },
     "execution_count": 37,
     "metadata": {},
     "output_type": "execute_result"
    }
   ],
   "source": [
    "dummies_df.head()"
   ]
  },
  {
   "cell_type": "code",
   "execution_count": 38,
   "metadata": {},
   "outputs": [
    {
     "data": {
      "text/html": [
       "<div>\n",
       "<style scoped>\n",
       "    .dataframe tbody tr th:only-of-type {\n",
       "        vertical-align: middle;\n",
       "    }\n",
       "\n",
       "    .dataframe tbody tr th {\n",
       "        vertical-align: top;\n",
       "    }\n",
       "\n",
       "    .dataframe thead th {\n",
       "        text-align: right;\n",
       "    }\n",
       "</style>\n",
       "<table border=\"1\" class=\"dataframe\">\n",
       "  <thead>\n",
       "    <tr style=\"text-align: right;\">\n",
       "      <th></th>\n",
       "      <th>odometer</th>\n",
       "      <th>title_status</th>\n",
       "      <th>transmission</th>\n",
       "      <th>drive</th>\n",
       "      <th>paint_color</th>\n",
       "      <th>coast</th>\n",
       "      <th>age</th>\n",
       "      <th>manufacturer_euro</th>\n",
       "      <th>manufacturer_usa</th>\n",
       "      <th>condition_ok</th>\n",
       "      <th>condition_poor</th>\n",
       "      <th>cylinders_4.0</th>\n",
       "      <th>cylinders_5.0</th>\n",
       "      <th>cylinders_6.0</th>\n",
       "      <th>cylinders_8.0</th>\n",
       "      <th>cylinders_10.0</th>\n",
       "      <th>fuel_gas</th>\n",
       "      <th>fuel_other</th>\n",
       "      <th>size_full-size</th>\n",
       "      <th>size_mid-size</th>\n",
       "      <th>size_sub-compact</th>\n",
       "      <th>type_suv</th>\n",
       "      <th>type_truck</th>\n",
       "      <th>type_van</th>\n",
       "    </tr>\n",
       "  </thead>\n",
       "  <tbody>\n",
       "    <tr>\n",
       "      <td>0</td>\n",
       "      <td>63500.0</td>\n",
       "      <td>1</td>\n",
       "      <td>0.0</td>\n",
       "      <td>1.0</td>\n",
       "      <td>1.0</td>\n",
       "      <td>0</td>\n",
       "      <td>8.0</td>\n",
       "      <td>1</td>\n",
       "      <td>0</td>\n",
       "      <td>0</td>\n",
       "      <td>0</td>\n",
       "      <td>1</td>\n",
       "      <td>0</td>\n",
       "      <td>0</td>\n",
       "      <td>0</td>\n",
       "      <td>0</td>\n",
       "      <td>1</td>\n",
       "      <td>0</td>\n",
       "      <td>0</td>\n",
       "      <td>0</td>\n",
       "      <td>0</td>\n",
       "      <td>0</td>\n",
       "      <td>0</td>\n",
       "      <td>0</td>\n",
       "    </tr>\n",
       "    <tr>\n",
       "      <td>1</td>\n",
       "      <td>110982.0</td>\n",
       "      <td>1</td>\n",
       "      <td>1.0</td>\n",
       "      <td>0.0</td>\n",
       "      <td>1.0</td>\n",
       "      <td>0</td>\n",
       "      <td>12.0</td>\n",
       "      <td>0</td>\n",
       "      <td>0</td>\n",
       "      <td>1</td>\n",
       "      <td>0</td>\n",
       "      <td>1</td>\n",
       "      <td>0</td>\n",
       "      <td>0</td>\n",
       "      <td>0</td>\n",
       "      <td>0</td>\n",
       "      <td>1</td>\n",
       "      <td>0</td>\n",
       "      <td>0</td>\n",
       "      <td>1</td>\n",
       "      <td>0</td>\n",
       "      <td>0</td>\n",
       "      <td>0</td>\n",
       "      <td>0</td>\n",
       "    </tr>\n",
       "    <tr>\n",
       "      <td>2</td>\n",
       "      <td>67348.0</td>\n",
       "      <td>1</td>\n",
       "      <td>1.0</td>\n",
       "      <td>1.0</td>\n",
       "      <td>1.0</td>\n",
       "      <td>0</td>\n",
       "      <td>16.0</td>\n",
       "      <td>0</td>\n",
       "      <td>1</td>\n",
       "      <td>1</td>\n",
       "      <td>0</td>\n",
       "      <td>0</td>\n",
       "      <td>0</td>\n",
       "      <td>0</td>\n",
       "      <td>0</td>\n",
       "      <td>1</td>\n",
       "      <td>1</td>\n",
       "      <td>0</td>\n",
       "      <td>1</td>\n",
       "      <td>0</td>\n",
       "      <td>0</td>\n",
       "      <td>0</td>\n",
       "      <td>1</td>\n",
       "      <td>0</td>\n",
       "    </tr>\n",
       "    <tr>\n",
       "      <td>3</td>\n",
       "      <td>129000.0</td>\n",
       "      <td>1</td>\n",
       "      <td>0.0</td>\n",
       "      <td>0.0</td>\n",
       "      <td>1.0</td>\n",
       "      <td>0</td>\n",
       "      <td>16.0</td>\n",
       "      <td>0</td>\n",
       "      <td>1</td>\n",
       "      <td>1</td>\n",
       "      <td>0</td>\n",
       "      <td>0</td>\n",
       "      <td>0</td>\n",
       "      <td>1</td>\n",
       "      <td>0</td>\n",
       "      <td>0</td>\n",
       "      <td>1</td>\n",
       "      <td>0</td>\n",
       "      <td>1</td>\n",
       "      <td>0</td>\n",
       "      <td>0</td>\n",
       "      <td>0</td>\n",
       "      <td>0</td>\n",
       "      <td>0</td>\n",
       "    </tr>\n",
       "    <tr>\n",
       "      <td>4</td>\n",
       "      <td>65000.0</td>\n",
       "      <td>1</td>\n",
       "      <td>1.0</td>\n",
       "      <td>0.0</td>\n",
       "      <td>1.0</td>\n",
       "      <td>0</td>\n",
       "      <td>5.0</td>\n",
       "      <td>1</td>\n",
       "      <td>0</td>\n",
       "      <td>1</td>\n",
       "      <td>0</td>\n",
       "      <td>1</td>\n",
       "      <td>0</td>\n",
       "      <td>0</td>\n",
       "      <td>0</td>\n",
       "      <td>0</td>\n",
       "      <td>1</td>\n",
       "      <td>0</td>\n",
       "      <td>1</td>\n",
       "      <td>0</td>\n",
       "      <td>0</td>\n",
       "      <td>0</td>\n",
       "      <td>0</td>\n",
       "      <td>0</td>\n",
       "    </tr>\n",
       "  </tbody>\n",
       "</table>\n",
       "</div>"
      ],
      "text/plain": [
       "   odometer  title_status  transmission  drive  paint_color  coast   age  \\\n",
       "0   63500.0             1           0.0    1.0          1.0      0   8.0   \n",
       "1  110982.0             1           1.0    0.0          1.0      0  12.0   \n",
       "2   67348.0             1           1.0    1.0          1.0      0  16.0   \n",
       "3  129000.0             1           0.0    0.0          1.0      0  16.0   \n",
       "4   65000.0             1           1.0    0.0          1.0      0   5.0   \n",
       "\n",
       "   manufacturer_euro  manufacturer_usa  condition_ok  condition_poor  \\\n",
       "0                  1                 0             0               0   \n",
       "1                  0                 0             1               0   \n",
       "2                  0                 1             1               0   \n",
       "3                  0                 1             1               0   \n",
       "4                  1                 0             1               0   \n",
       "\n",
       "   cylinders_4.0  cylinders_5.0  cylinders_6.0  cylinders_8.0  cylinders_10.0  \\\n",
       "0              1              0              0              0               0   \n",
       "1              1              0              0              0               0   \n",
       "2              0              0              0              0               1   \n",
       "3              0              0              1              0               0   \n",
       "4              1              0              0              0               0   \n",
       "\n",
       "   fuel_gas  fuel_other  size_full-size  size_mid-size  size_sub-compact  \\\n",
       "0         1           0               0              0                 0   \n",
       "1         1           0               0              1                 0   \n",
       "2         1           0               1              0                 0   \n",
       "3         1           0               1              0                 0   \n",
       "4         1           0               1              0                 0   \n",
       "\n",
       "   type_suv  type_truck  type_van  \n",
       "0         0           0         0  \n",
       "1         0           0         0  \n",
       "2         0           1         0  \n",
       "3         0           0         0  \n",
       "4         0           0         0  "
      ]
     },
     "execution_count": 38,
     "metadata": {},
     "output_type": "execute_result"
    }
   ],
   "source": [
    "dummies_df.drop(columns = ['price', 'log_price'], inplace = True)\n",
    "dummies_df.head()"
   ]
  },
  {
   "cell_type": "code",
   "execution_count": 53,
   "metadata": {},
   "outputs": [
    {
     "data": {
      "text/plain": [
       "<matplotlib.collections.PathCollection at 0x1c293c4fd0>"
      ]
     },
     "execution_count": 53,
     "metadata": {},
     "output_type": "execute_result"
    },
    {
     "data": {
      "image/png": "[encoded data removed]",
      "text/plain": [
       "<Figure size 432x288 with 1 Axes>"
      ]
     },
     "metadata": {
      "needs_background": "light"
     },
     "output_type": "display_data"
    }
   ],
   "source": [
    "plt.scatter(dummies_df.odometer, df.log_price)"
   ]
  },
  {
   "cell_type": "code",
   "execution_count": 52,
   "metadata": {},
   "outputs": [
    {
     "data": {
      "text/plain": [
       "<matplotlib.collections.PathCollection at 0x1c2ab0c320>"
      ]
     },
     "execution_count": 52,
     "metadata": {},
     "output_type": "execute_result"
    },
    {
     "data": {
      "image/png": "[encoded data removed]",
      "text/plain": [
       "<Figure size 432x288 with 1 Axes>"
      ]
     },
     "metadata": {
      "needs_background": "light"
     },
     "output_type": "display_data"
    }
   ],
   "source": [
    "plt.scatter((dummies_df.age), df.log_price)"
   ]
  },
  {
   "cell_type": "code",
   "execution_count": 139,
   "metadata": {},
   "outputs": [],
   "source": [
    "X = dummies_df\n",
    "y = df[['log_price']]\n",
    "X_train , X_test, y_train, y_test = train_test_split(X, y, test_size=0.2, random_state=0)"
   ]
  },
  {
   "cell_type": "code",
   "execution_count": 136,
   "metadata": {},
   "outputs": [
    {
     "data": {
      "text/html": [
       "<div>\n",
       "<style scoped>\n",
       "    .dataframe tbody tr th:only-of-type {\n",
       "        vertical-align: middle;\n",
       "    }\n",
       "\n",
       "    .dataframe tbody tr th {\n",
       "        vertical-align: top;\n",
       "    }\n",
       "\n",
       "    .dataframe thead th {\n",
       "        text-align: right;\n",
       "    }\n",
       "</style>\n",
       "<table border=\"1\" class=\"dataframe\">\n",
       "  <thead>\n",
       "    <tr style=\"text-align: right;\">\n",
       "      <th></th>\n",
       "      <th>odometer</th>\n",
       "      <th>title_status</th>\n",
       "      <th>transmission</th>\n",
       "      <th>drive</th>\n",
       "      <th>paint_color</th>\n",
       "      <th>coast</th>\n",
       "      <th>age</th>\n",
       "      <th>manufacturer_euro</th>\n",
       "      <th>manufacturer_usa</th>\n",
       "      <th>condition_ok</th>\n",
       "      <th>condition_poor</th>\n",
       "      <th>cylinders_4.0</th>\n",
       "      <th>cylinders_5.0</th>\n",
       "      <th>cylinders_6.0</th>\n",
       "      <th>cylinders_8.0</th>\n",
       "      <th>cylinders_10.0</th>\n",
       "      <th>fuel_gas</th>\n",
       "      <th>fuel_other</th>\n",
       "      <th>size_full-size</th>\n",
       "      <th>size_mid-size</th>\n",
       "      <th>size_sub-compact</th>\n",
       "      <th>type_suv</th>\n",
       "      <th>type_truck</th>\n",
       "      <th>type_van</th>\n",
       "    </tr>\n",
       "  </thead>\n",
       "  <tbody>\n",
       "    <tr>\n",
       "      <td>odometer</td>\n",
       "      <td>1.000000</td>\n",
       "      <td>0.060995</td>\n",
       "      <td>-0.010221</td>\n",
       "      <td>0.064515</td>\n",
       "      <td>0.001403</td>\n",
       "      <td>-0.013186</td>\n",
       "      <td>0.308573</td>\n",
       "      <td>-0.073333</td>\n",
       "      <td>0.023696</td>\n",
       "      <td>0.093903</td>\n",
       "      <td>0.173374</td>\n",
       "      <td>-0.142446</td>\n",
       "      <td>0.014173</td>\n",
       "      <td>0.035871</td>\n",
       "      <td>0.100475</td>\n",
       "      <td>0.001007</td>\n",
       "      <td>-0.099214</td>\n",
       "      <td>0.004988</td>\n",
       "      <td>0.086594</td>\n",
       "      <td>-0.044141</td>\n",
       "      <td>-0.027844</td>\n",
       "      <td>0.037780</td>\n",
       "      <td>0.086790</td>\n",
       "      <td>0.011992</td>\n",
       "    </tr>\n",
       "    <tr>\n",
       "      <td>title_status</td>\n",
       "      <td>0.060995</td>\n",
       "      <td>1.000000</td>\n",
       "      <td>0.018985</td>\n",
       "      <td>0.004033</td>\n",
       "      <td>-0.006972</td>\n",
       "      <td>0.005381</td>\n",
       "      <td>0.039077</td>\n",
       "      <td>0.006449</td>\n",
       "      <td>0.015548</td>\n",
       "      <td>-0.014314</td>\n",
       "      <td>-0.016934</td>\n",
       "      <td>-0.021895</td>\n",
       "      <td>0.008255</td>\n",
       "      <td>0.008655</td>\n",
       "      <td>0.008623</td>\n",
       "      <td>0.011139</td>\n",
       "      <td>0.001675</td>\n",
       "      <td>-0.004480</td>\n",
       "      <td>0.013641</td>\n",
       "      <td>0.005390</td>\n",
       "      <td>0.001849</td>\n",
       "      <td>0.015864</td>\n",
       "      <td>-0.003086</td>\n",
       "      <td>0.016348</td>\n",
       "    </tr>\n",
       "    <tr>\n",
       "      <td>transmission</td>\n",
       "      <td>-0.010221</td>\n",
       "      <td>0.018985</td>\n",
       "      <td>1.000000</td>\n",
       "      <td>0.070685</td>\n",
       "      <td>0.024656</td>\n",
       "      <td>0.006067</td>\n",
       "      <td>-0.197351</td>\n",
       "      <td>-0.068685</td>\n",
       "      <td>0.055364</td>\n",
       "      <td>-0.006119</td>\n",
       "      <td>-0.057557</td>\n",
       "      <td>-0.137739</td>\n",
       "      <td>-0.007941</td>\n",
       "      <td>0.044102</td>\n",
       "      <td>0.091336</td>\n",
       "      <td>0.006163</td>\n",
       "      <td>-0.007777</td>\n",
       "      <td>0.022560</td>\n",
       "      <td>0.155210</td>\n",
       "      <td>-0.012916</td>\n",
       "      <td>-0.085223</td>\n",
       "      <td>0.089106</td>\n",
       "      <td>0.038704</td>\n",
       "      <td>0.061681</td>\n",
       "    </tr>\n",
       "    <tr>\n",
       "      <td>drive</td>\n",
       "      <td>0.064515</td>\n",
       "      <td>0.004033</td>\n",
       "      <td>0.070685</td>\n",
       "      <td>1.000000</td>\n",
       "      <td>0.004501</td>\n",
       "      <td>-0.071865</td>\n",
       "      <td>-0.096023</td>\n",
       "      <td>-0.040702</td>\n",
       "      <td>0.211005</td>\n",
       "      <td>-0.026595</td>\n",
       "      <td>-0.020457</td>\n",
       "      <td>-0.300224</td>\n",
       "      <td>-0.038374</td>\n",
       "      <td>0.024124</td>\n",
       "      <td>0.275819</td>\n",
       "      <td>0.006301</td>\n",
       "      <td>-0.147012</td>\n",
       "      <td>-0.058813</td>\n",
       "      <td>0.261634</td>\n",
       "      <td>-0.118474</td>\n",
       "      <td>-0.064041</td>\n",
       "      <td>0.304779</td>\n",
       "      <td>0.348032</td>\n",
       "      <td>-0.195273</td>\n",
       "    </tr>\n",
       "    <tr>\n",
       "      <td>paint_color</td>\n",
       "      <td>0.001403</td>\n",
       "      <td>-0.006972</td>\n",
       "      <td>0.024656</td>\n",
       "      <td>0.004501</td>\n",
       "      <td>1.000000</td>\n",
       "      <td>0.022504</td>\n",
       "      <td>-0.084147</td>\n",
       "      <td>0.017833</td>\n",
       "      <td>-0.034698</td>\n",
       "      <td>-0.038032</td>\n",
       "      <td>0.001438</td>\n",
       "      <td>0.020848</td>\n",
       "      <td>0.006245</td>\n",
       "      <td>-0.002754</td>\n",
       "      <td>-0.012534</td>\n",
       "      <td>-0.031848</td>\n",
       "      <td>-0.018680</td>\n",
       "      <td>0.013939</td>\n",
       "      <td>-0.025985</td>\n",
       "      <td>0.028726</td>\n",
       "      <td>-0.003841</td>\n",
       "      <td>-0.020263</td>\n",
       "      <td>0.004827</td>\n",
       "      <td>-0.001651</td>\n",
       "    </tr>\n",
       "    <tr>\n",
       "      <td>coast</td>\n",
       "      <td>-0.013186</td>\n",
       "      <td>0.005381</td>\n",
       "      <td>0.006067</td>\n",
       "      <td>-0.071865</td>\n",
       "      <td>0.022504</td>\n",
       "      <td>1.000000</td>\n",
       "      <td>0.014702</td>\n",
       "      <td>0.038663</td>\n",
       "      <td>-0.047470</td>\n",
       "      <td>-0.030577</td>\n",
       "      <td>0.010279</td>\n",
       "      <td>0.035897</td>\n",
       "      <td>0.009927</td>\n",
       "      <td>0.013696</td>\n",
       "      <td>-0.050826</td>\n",
       "      <td>0.000476</td>\n",
       "      <td>0.030213</td>\n",
       "      <td>-0.000891</td>\n",
       "      <td>-0.050616</td>\n",
       "      <td>0.032600</td>\n",
       "      <td>0.007923</td>\n",
       "      <td>-0.014235</td>\n",
       "      <td>-0.057119</td>\n",
       "      <td>0.001410</td>\n",
       "    </tr>\n",
       "    <tr>\n",
       "      <td>age</td>\n",
       "      <td>0.308573</td>\n",
       "      <td>0.039077</td>\n",
       "      <td>-0.197351</td>\n",
       "      <td>-0.096023</td>\n",
       "      <td>-0.084147</td>\n",
       "      <td>0.014702</td>\n",
       "      <td>1.000000</td>\n",
       "      <td>0.016842</td>\n",
       "      <td>0.038821</td>\n",
       "      <td>0.073438</td>\n",
       "      <td>0.193966</td>\n",
       "      <td>-0.160674</td>\n",
       "      <td>0.013817</td>\n",
       "      <td>0.003705</td>\n",
       "      <td>0.146811</td>\n",
       "      <td>0.018601</td>\n",
       "      <td>0.020502</td>\n",
       "      <td>-0.030091</td>\n",
       "      <td>0.009997</td>\n",
       "      <td>-0.016324</td>\n",
       "      <td>-0.005356</td>\n",
       "      <td>-0.066139</td>\n",
       "      <td>0.019946</td>\n",
       "      <td>-0.027408</td>\n",
       "    </tr>\n",
       "    <tr>\n",
       "      <td>manufacturer_euro</td>\n",
       "      <td>-0.073333</td>\n",
       "      <td>0.006449</td>\n",
       "      <td>-0.068685</td>\n",
       "      <td>-0.040702</td>\n",
       "      <td>0.017833</td>\n",
       "      <td>0.038663</td>\n",
       "      <td>0.016842</td>\n",
       "      <td>1.000000</td>\n",
       "      <td>-0.429414</td>\n",
       "      <td>-0.042953</td>\n",
       "      <td>-0.008296</td>\n",
       "      <td>0.045650</td>\n",
       "      <td>0.219996</td>\n",
       "      <td>0.028766</td>\n",
       "      <td>-0.118389</td>\n",
       "      <td>-0.006899</td>\n",
       "      <td>0.011453</td>\n",
       "      <td>-0.028111</td>\n",
       "      <td>-0.143308</td>\n",
       "      <td>0.057246</td>\n",
       "      <td>0.065668</td>\n",
       "      <td>-0.043601</td>\n",
       "      <td>-0.207293</td>\n",
       "      <td>-0.060407</td>\n",
       "    </tr>\n",
       "    <tr>\n",
       "      <td>manufacturer_usa</td>\n",
       "      <td>0.023696</td>\n",
       "      <td>0.015548</td>\n",
       "      <td>0.055364</td>\n",
       "      <td>0.211005</td>\n",
       "      <td>-0.034698</td>\n",
       "      <td>-0.047470</td>\n",
       "      <td>0.038821</td>\n",
       "      <td>-0.429414</td>\n",
       "      <td>1.000000</td>\n",
       "      <td>0.039410</td>\n",
       "      <td>0.015814</td>\n",
       "      <td>-0.333297</td>\n",
       "      <td>-0.084012</td>\n",
       "      <td>-0.040430</td>\n",
       "      <td>0.375308</td>\n",
       "      <td>0.050147</td>\n",
       "      <td>-0.117568</td>\n",
       "      <td>-0.074897</td>\n",
       "      <td>0.291837</td>\n",
       "      <td>-0.153522</td>\n",
       "      <td>-0.063422</td>\n",
       "      <td>-0.005918</td>\n",
       "      <td>0.352005</td>\n",
       "      <td>0.046429</td>\n",
       "    </tr>\n",
       "    <tr>\n",
       "      <td>condition_ok</td>\n",
       "      <td>0.093903</td>\n",
       "      <td>-0.014314</td>\n",
       "      <td>-0.006119</td>\n",
       "      <td>-0.026595</td>\n",
       "      <td>-0.038032</td>\n",
       "      <td>-0.030577</td>\n",
       "      <td>0.073438</td>\n",
       "      <td>-0.042953</td>\n",
       "      <td>0.039410</td>\n",
       "      <td>1.000000</td>\n",
       "      <td>-0.178155</td>\n",
       "      <td>-0.025786</td>\n",
       "      <td>-0.007477</td>\n",
       "      <td>0.003142</td>\n",
       "      <td>0.017842</td>\n",
       "      <td>0.029457</td>\n",
       "      <td>0.007395</td>\n",
       "      <td>-0.007067</td>\n",
       "      <td>0.054288</td>\n",
       "      <td>-0.036420</td>\n",
       "      <td>-0.026519</td>\n",
       "      <td>-0.008668</td>\n",
       "      <td>0.021933</td>\n",
       "      <td>0.044439</td>\n",
       "    </tr>\n",
       "    <tr>\n",
       "      <td>condition_poor</td>\n",
       "      <td>0.173374</td>\n",
       "      <td>-0.016934</td>\n",
       "      <td>-0.057557</td>\n",
       "      <td>-0.020457</td>\n",
       "      <td>0.001438</td>\n",
       "      <td>0.010279</td>\n",
       "      <td>0.193966</td>\n",
       "      <td>-0.008296</td>\n",
       "      <td>0.015814</td>\n",
       "      <td>-0.178155</td>\n",
       "      <td>1.000000</td>\n",
       "      <td>-0.023788</td>\n",
       "      <td>0.000923</td>\n",
       "      <td>0.003071</td>\n",
       "      <td>0.018204</td>\n",
       "      <td>0.008508</td>\n",
       "      <td>0.017040</td>\n",
       "      <td>-0.014291</td>\n",
       "      <td>-0.006119</td>\n",
       "      <td>-0.008860</td>\n",
       "      <td>0.000226</td>\n",
       "      <td>-0.033450</td>\n",
       "      <td>0.020446</td>\n",
       "      <td>0.004708</td>\n",
       "    </tr>\n",
       "    <tr>\n",
       "      <td>cylinders_4.0</td>\n",
       "      <td>-0.142446</td>\n",
       "      <td>-0.021895</td>\n",
       "      <td>-0.137739</td>\n",
       "      <td>-0.300224</td>\n",
       "      <td>0.020848</td>\n",
       "      <td>0.035897</td>\n",
       "      <td>-0.160674</td>\n",
       "      <td>0.045650</td>\n",
       "      <td>-0.333297</td>\n",
       "      <td>-0.025786</td>\n",
       "      <td>-0.023788</td>\n",
       "      <td>1.000000</td>\n",
       "      <td>-0.064136</td>\n",
       "      <td>-0.482755</td>\n",
       "      <td>-0.456481</td>\n",
       "      <td>-0.057948</td>\n",
       "      <td>0.089740</td>\n",
       "      <td>0.106211</td>\n",
       "      <td>-0.435950</td>\n",
       "      <td>0.190273</td>\n",
       "      <td>0.099629</td>\n",
       "      <td>-0.053984</td>\n",
       "      <td>-0.368826</td>\n",
       "      <td>-0.121317</td>\n",
       "    </tr>\n",
       "    <tr>\n",
       "      <td>cylinders_5.0</td>\n",
       "      <td>0.014173</td>\n",
       "      <td>0.008255</td>\n",
       "      <td>-0.007941</td>\n",
       "      <td>-0.038374</td>\n",
       "      <td>0.006245</td>\n",
       "      <td>0.009927</td>\n",
       "      <td>0.013817</td>\n",
       "      <td>0.219996</td>\n",
       "      <td>-0.084012</td>\n",
       "      <td>-0.007477</td>\n",
       "      <td>0.000923</td>\n",
       "      <td>-0.064136</td>\n",
       "      <td>1.000000</td>\n",
       "      <td>-0.072888</td>\n",
       "      <td>-0.068921</td>\n",
       "      <td>-0.008749</td>\n",
       "      <td>0.013126</td>\n",
       "      <td>-0.009388</td>\n",
       "      <td>-0.052673</td>\n",
       "      <td>0.033782</td>\n",
       "      <td>0.007866</td>\n",
       "      <td>-0.048107</td>\n",
       "      <td>-0.025289</td>\n",
       "      <td>-0.012453</td>\n",
       "    </tr>\n",
       "    <tr>\n",
       "      <td>cylinders_6.0</td>\n",
       "      <td>0.035871</td>\n",
       "      <td>0.008655</td>\n",
       "      <td>0.044102</td>\n",
       "      <td>0.024124</td>\n",
       "      <td>-0.002754</td>\n",
       "      <td>0.013696</td>\n",
       "      <td>0.003705</td>\n",
       "      <td>0.028766</td>\n",
       "      <td>-0.040430</td>\n",
       "      <td>0.003142</td>\n",
       "      <td>0.003071</td>\n",
       "      <td>-0.482755</td>\n",
       "      <td>-0.072888</td>\n",
       "      <td>1.000000</td>\n",
       "      <td>-0.518773</td>\n",
       "      <td>-0.065856</td>\n",
       "      <td>0.063688</td>\n",
       "      <td>-0.052936</td>\n",
       "      <td>-0.017066</td>\n",
       "      <td>0.128028</td>\n",
       "      <td>-0.034625</td>\n",
       "      <td>0.187643</td>\n",
       "      <td>-0.160926</td>\n",
       "      <td>0.141025</td>\n",
       "    </tr>\n",
       "    <tr>\n",
       "      <td>cylinders_8.0</td>\n",
       "      <td>0.100475</td>\n",
       "      <td>0.008623</td>\n",
       "      <td>0.091336</td>\n",
       "      <td>0.275819</td>\n",
       "      <td>-0.012534</td>\n",
       "      <td>-0.050826</td>\n",
       "      <td>0.146811</td>\n",
       "      <td>-0.118389</td>\n",
       "      <td>0.375308</td>\n",
       "      <td>0.017842</td>\n",
       "      <td>0.018204</td>\n",
       "      <td>-0.456481</td>\n",
       "      <td>-0.068921</td>\n",
       "      <td>-0.518773</td>\n",
       "      <td>1.000000</td>\n",
       "      <td>-0.062272</td>\n",
       "      <td>-0.158459</td>\n",
       "      <td>-0.047826</td>\n",
       "      <td>0.443017</td>\n",
       "      <td>-0.312380</td>\n",
       "      <td>-0.064474</td>\n",
       "      <td>-0.120877</td>\n",
       "      <td>0.513895</td>\n",
       "      <td>-0.025753</td>\n",
       "    </tr>\n",
       "    <tr>\n",
       "      <td>cylinders_10.0</td>\n",
       "      <td>0.001007</td>\n",
       "      <td>0.011139</td>\n",
       "      <td>0.006163</td>\n",
       "      <td>0.006301</td>\n",
       "      <td>-0.031848</td>\n",
       "      <td>0.000476</td>\n",
       "      <td>0.018601</td>\n",
       "      <td>-0.006899</td>\n",
       "      <td>0.050147</td>\n",
       "      <td>0.029457</td>\n",
       "      <td>0.008508</td>\n",
       "      <td>-0.057948</td>\n",
       "      <td>-0.008749</td>\n",
       "      <td>-0.065856</td>\n",
       "      <td>-0.062272</td>\n",
       "      <td>1.000000</td>\n",
       "      <td>0.018791</td>\n",
       "      <td>-0.006100</td>\n",
       "      <td>0.062374</td>\n",
       "      <td>-0.051842</td>\n",
       "      <td>-0.007938</td>\n",
       "      <td>-0.036508</td>\n",
       "      <td>0.081020</td>\n",
       "      <td>0.018045</td>\n",
       "    </tr>\n",
       "    <tr>\n",
       "      <td>fuel_gas</td>\n",
       "      <td>-0.099214</td>\n",
       "      <td>0.001675</td>\n",
       "      <td>-0.007777</td>\n",
       "      <td>-0.147012</td>\n",
       "      <td>-0.018680</td>\n",
       "      <td>0.030213</td>\n",
       "      <td>0.020502</td>\n",
       "      <td>0.011453</td>\n",
       "      <td>-0.117568</td>\n",
       "      <td>0.007395</td>\n",
       "      <td>0.017040</td>\n",
       "      <td>0.089740</td>\n",
       "      <td>0.013126</td>\n",
       "      <td>0.063688</td>\n",
       "      <td>-0.158459</td>\n",
       "      <td>0.018791</td>\n",
       "      <td>1.000000</td>\n",
       "      <td>-0.339325</td>\n",
       "      <td>-0.169922</td>\n",
       "      <td>0.135562</td>\n",
       "      <td>0.027946</td>\n",
       "      <td>0.152405</td>\n",
       "      <td>-0.329125</td>\n",
       "      <td>0.045678</td>\n",
       "    </tr>\n",
       "    <tr>\n",
       "      <td>fuel_other</td>\n",
       "      <td>0.004988</td>\n",
       "      <td>-0.004480</td>\n",
       "      <td>0.022560</td>\n",
       "      <td>-0.058813</td>\n",
       "      <td>0.013939</td>\n",
       "      <td>-0.000891</td>\n",
       "      <td>-0.030091</td>\n",
       "      <td>-0.028111</td>\n",
       "      <td>-0.074897</td>\n",
       "      <td>-0.007067</td>\n",
       "      <td>-0.014291</td>\n",
       "      <td>0.106211</td>\n",
       "      <td>-0.009388</td>\n",
       "      <td>-0.052936</td>\n",
       "      <td>-0.047826</td>\n",
       "      <td>-0.006100</td>\n",
       "      <td>-0.339325</td>\n",
       "      <td>1.000000</td>\n",
       "      <td>-0.055881</td>\n",
       "      <td>0.026132</td>\n",
       "      <td>0.008130</td>\n",
       "      <td>-0.029910</td>\n",
       "      <td>-0.051559</td>\n",
       "      <td>-0.016328</td>\n",
       "    </tr>\n",
       "    <tr>\n",
       "      <td>size_full-size</td>\n",
       "      <td>0.086594</td>\n",
       "      <td>0.013641</td>\n",
       "      <td>0.155210</td>\n",
       "      <td>0.261634</td>\n",
       "      <td>-0.025985</td>\n",
       "      <td>-0.050616</td>\n",
       "      <td>0.009997</td>\n",
       "      <td>-0.143308</td>\n",
       "      <td>0.291837</td>\n",
       "      <td>0.054288</td>\n",
       "      <td>-0.006119</td>\n",
       "      <td>-0.435950</td>\n",
       "      <td>-0.052673</td>\n",
       "      <td>-0.017066</td>\n",
       "      <td>0.443017</td>\n",
       "      <td>0.062374</td>\n",
       "      <td>-0.169922</td>\n",
       "      <td>-0.055881</td>\n",
       "      <td>1.000000</td>\n",
       "      <td>-0.750611</td>\n",
       "      <td>-0.142480</td>\n",
       "      <td>0.015623</td>\n",
       "      <td>0.385720</td>\n",
       "      <td>0.100833</td>\n",
       "    </tr>\n",
       "    <tr>\n",
       "      <td>size_mid-size</td>\n",
       "      <td>-0.044141</td>\n",
       "      <td>0.005390</td>\n",
       "      <td>-0.012916</td>\n",
       "      <td>-0.118474</td>\n",
       "      <td>0.028726</td>\n",
       "      <td>0.032600</td>\n",
       "      <td>-0.016324</td>\n",
       "      <td>0.057246</td>\n",
       "      <td>-0.153522</td>\n",
       "      <td>-0.036420</td>\n",
       "      <td>-0.008860</td>\n",
       "      <td>0.190273</td>\n",
       "      <td>0.033782</td>\n",
       "      <td>0.128028</td>\n",
       "      <td>-0.312380</td>\n",
       "      <td>-0.051842</td>\n",
       "      <td>0.135562</td>\n",
       "      <td>0.026132</td>\n",
       "      <td>-0.750611</td>\n",
       "      <td>1.000000</td>\n",
       "      <td>-0.077629</td>\n",
       "      <td>0.086632</td>\n",
       "      <td>-0.260571</td>\n",
       "      <td>-0.043501</td>\n",
       "    </tr>\n",
       "    <tr>\n",
       "      <td>size_sub-compact</td>\n",
       "      <td>-0.027844</td>\n",
       "      <td>0.001849</td>\n",
       "      <td>-0.085223</td>\n",
       "      <td>-0.064041</td>\n",
       "      <td>-0.003841</td>\n",
       "      <td>0.007923</td>\n",
       "      <td>-0.005356</td>\n",
       "      <td>0.065668</td>\n",
       "      <td>-0.063422</td>\n",
       "      <td>-0.026519</td>\n",
       "      <td>0.000226</td>\n",
       "      <td>0.099629</td>\n",
       "      <td>0.007866</td>\n",
       "      <td>-0.034625</td>\n",
       "      <td>-0.064474</td>\n",
       "      <td>-0.007938</td>\n",
       "      <td>0.027946</td>\n",
       "      <td>0.008130</td>\n",
       "      <td>-0.142480</td>\n",
       "      <td>-0.077629</td>\n",
       "      <td>1.000000</td>\n",
       "      <td>-0.039983</td>\n",
       "      <td>-0.071062</td>\n",
       "      <td>-0.028099</td>\n",
       "    </tr>\n",
       "    <tr>\n",
       "      <td>type_suv</td>\n",
       "      <td>0.037780</td>\n",
       "      <td>0.015864</td>\n",
       "      <td>0.089106</td>\n",
       "      <td>0.304779</td>\n",
       "      <td>-0.020263</td>\n",
       "      <td>-0.014235</td>\n",
       "      <td>-0.066139</td>\n",
       "      <td>-0.043601</td>\n",
       "      <td>-0.005918</td>\n",
       "      <td>-0.008668</td>\n",
       "      <td>-0.033450</td>\n",
       "      <td>-0.053984</td>\n",
       "      <td>-0.048107</td>\n",
       "      <td>0.187643</td>\n",
       "      <td>-0.120877</td>\n",
       "      <td>-0.036508</td>\n",
       "      <td>0.152405</td>\n",
       "      <td>-0.029910</td>\n",
       "      <td>0.015623</td>\n",
       "      <td>0.086632</td>\n",
       "      <td>-0.039983</td>\n",
       "      <td>1.000000</td>\n",
       "      <td>-0.384982</td>\n",
       "      <td>-0.157728</td>\n",
       "    </tr>\n",
       "    <tr>\n",
       "      <td>type_truck</td>\n",
       "      <td>0.086790</td>\n",
       "      <td>-0.003086</td>\n",
       "      <td>0.038704</td>\n",
       "      <td>0.348032</td>\n",
       "      <td>0.004827</td>\n",
       "      <td>-0.057119</td>\n",
       "      <td>0.019946</td>\n",
       "      <td>-0.207293</td>\n",
       "      <td>0.352005</td>\n",
       "      <td>0.021933</td>\n",
       "      <td>0.020446</td>\n",
       "      <td>-0.368826</td>\n",
       "      <td>-0.025289</td>\n",
       "      <td>-0.160926</td>\n",
       "      <td>0.513895</td>\n",
       "      <td>0.081020</td>\n",
       "      <td>-0.329125</td>\n",
       "      <td>-0.051559</td>\n",
       "      <td>0.385720</td>\n",
       "      <td>-0.260571</td>\n",
       "      <td>-0.071062</td>\n",
       "      <td>-0.384982</td>\n",
       "      <td>1.000000</td>\n",
       "      <td>-0.164854</td>\n",
       "    </tr>\n",
       "    <tr>\n",
       "      <td>type_van</td>\n",
       "      <td>0.011992</td>\n",
       "      <td>0.016348</td>\n",
       "      <td>0.061681</td>\n",
       "      <td>-0.195273</td>\n",
       "      <td>-0.001651</td>\n",
       "      <td>0.001410</td>\n",
       "      <td>-0.027408</td>\n",
       "      <td>-0.060407</td>\n",
       "      <td>0.046429</td>\n",
       "      <td>0.044439</td>\n",
       "      <td>0.004708</td>\n",
       "      <td>-0.121317</td>\n",
       "      <td>-0.012453</td>\n",
       "      <td>0.141025</td>\n",
       "      <td>-0.025753</td>\n",
       "      <td>0.018045</td>\n",
       "      <td>0.045678</td>\n",
       "      <td>-0.016328</td>\n",
       "      <td>0.100833</td>\n",
       "      <td>-0.043501</td>\n",
       "      <td>-0.028099</td>\n",
       "      <td>-0.157728</td>\n",
       "      <td>-0.164854</td>\n",
       "      <td>1.000000</td>\n",
       "    </tr>\n",
       "  </tbody>\n",
       "</table>\n",
       "</div>"
      ],
      "text/plain": [
       "                   odometer  title_status  transmission     drive  \\\n",
       "odometer           1.000000      0.060995     -0.010221  0.064515   \n",
       "title_status       0.060995      1.000000      0.018985  0.004033   \n",
       "transmission      -0.010221      0.018985      1.000000  0.070685   \n",
       "drive              0.064515      0.004033      0.070685  1.000000   \n",
       "paint_color        0.001403     -0.006972      0.024656  0.004501   \n",
       "coast             -0.013186      0.005381      0.006067 -0.071865   \n",
       "age                0.308573      0.039077     -0.197351 -0.096023   \n",
       "manufacturer_euro -0.073333      0.006449     -0.068685 -0.040702   \n",
       "manufacturer_usa   0.023696      0.015548      0.055364  0.211005   \n",
       "condition_ok       0.093903     -0.014314     -0.006119 -0.026595   \n",
       "condition_poor     0.173374     -0.016934     -0.057557 -0.020457   \n",
       "cylinders_4.0     -0.142446     -0.021895     -0.137739 -0.300224   \n",
       "cylinders_5.0      0.014173      0.008255     -0.007941 -0.038374   \n",
       "cylinders_6.0      0.035871      0.008655      0.044102  0.024124   \n",
       "cylinders_8.0      0.100475      0.008623      0.091336  0.275819   \n",
       "cylinders_10.0     0.001007      0.011139      0.006163  0.006301   \n",
       "fuel_gas          -0.099214      0.001675     -0.007777 -0.147012   \n",
       "fuel_other         0.004988     -0.004480      0.022560 -0.058813   \n",
       "size_full-size     0.086594      0.013641      0.155210  0.261634   \n",
       "size_mid-size     -0.044141      0.005390     -0.012916 -0.118474   \n",
       "size_sub-compact  -0.027844      0.001849     -0.085223 -0.064041   \n",
       "type_suv           0.037780      0.015864      0.089106  0.304779   \n",
       "type_truck         0.086790     -0.003086      0.038704  0.348032   \n",
       "type_van           0.011992      0.016348      0.061681 -0.195273   \n",
       "\n",
       "                   paint_color     coast       age  manufacturer_euro  \\\n",
       "odometer              0.001403 -0.013186  0.308573          -0.073333   \n",
       "title_status         -0.006972  0.005381  0.039077           0.006449   \n",
       "transmission          0.024656  0.006067 -0.197351          -0.068685   \n",
       "drive                 0.004501 -0.071865 -0.096023          -0.040702   \n",
       "paint_color           1.000000  0.022504 -0.084147           0.017833   \n",
       "coast                 0.022504  1.000000  0.014702           0.038663   \n",
       "age                  -0.084147  0.014702  1.000000           0.016842   \n",
       "manufacturer_euro     0.017833  0.038663  0.016842           1.000000   \n",
       "manufacturer_usa     -0.034698 -0.047470  0.038821          -0.429414   \n",
       "condition_ok         -0.038032 -0.030577  0.073438          -0.042953   \n",
       "condition_poor        0.001438  0.010279  0.193966          -0.008296   \n",
       "cylinders_4.0         0.020848  0.035897 -0.160674           0.045650   \n",
       "cylinders_5.0         0.006245  0.009927  0.013817           0.219996   \n",
       "cylinders_6.0        -0.002754  0.013696  0.003705           0.028766   \n",
       "cylinders_8.0        -0.012534 -0.050826  0.146811          -0.118389   \n",
       "cylinders_10.0       -0.031848  0.000476  0.018601          -0.006899   \n",
       "fuel_gas             -0.018680  0.030213  0.020502           0.011453   \n",
       "fuel_other            0.013939 -0.000891 -0.030091          -0.028111   \n",
       "size_full-size       -0.025985 -0.050616  0.009997          -0.143308   \n",
       "size_mid-size         0.028726  0.032600 -0.016324           0.057246   \n",
       "size_sub-compact     -0.003841  0.007923 -0.005356           0.065668   \n",
       "type_suv             -0.020263 -0.014235 -0.066139          -0.043601   \n",
       "type_truck            0.004827 -0.057119  0.019946          -0.207293   \n",
       "type_van             -0.001651  0.001410 -0.027408          -0.060407   \n",
       "\n",
       "                   manufacturer_usa  condition_ok  condition_poor  \\\n",
       "odometer                   0.023696      0.093903        0.173374   \n",
       "title_status               0.015548     -0.014314       -0.016934   \n",
       "transmission               0.055364     -0.006119       -0.057557   \n",
       "drive                      0.211005     -0.026595       -0.020457   \n",
       "paint_color               -0.034698     -0.038032        0.001438   \n",
       "coast                     -0.047470     -0.030577        0.010279   \n",
       "age                        0.038821      0.073438        0.193966   \n",
       "manufacturer_euro         -0.429414     -0.042953       -0.008296   \n",
       "manufacturer_usa           1.000000      0.039410        0.015814   \n",
       "condition_ok               0.039410      1.000000       -0.178155   \n",
       "condition_poor             0.015814     -0.178155        1.000000   \n",
       "cylinders_4.0             -0.333297     -0.025786       -0.023788   \n",
       "cylinders_5.0             -0.084012     -0.007477        0.000923   \n",
       "cylinders_6.0             -0.040430      0.003142        0.003071   \n",
       "cylinders_8.0              0.375308      0.017842        0.018204   \n",
       "cylinders_10.0             0.050147      0.029457        0.008508   \n",
       "fuel_gas                  -0.117568      0.007395        0.017040   \n",
       "fuel_other                -0.074897     -0.007067       -0.014291   \n",
       "size_full-size             0.291837      0.054288       -0.006119   \n",
       "size_mid-size             -0.153522     -0.036420       -0.008860   \n",
       "size_sub-compact          -0.063422     -0.026519        0.000226   \n",
       "type_suv                  -0.005918     -0.008668       -0.033450   \n",
       "type_truck                 0.352005      0.021933        0.020446   \n",
       "type_van                   0.046429      0.044439        0.004708   \n",
       "\n",
       "                   cylinders_4.0  cylinders_5.0  cylinders_6.0  cylinders_8.0  \\\n",
       "odometer               -0.142446       0.014173       0.035871       0.100475   \n",
       "title_status           -0.021895       0.008255       0.008655       0.008623   \n",
       "transmission           -0.137739      -0.007941       0.044102       0.091336   \n",
       "drive                  -0.300224      -0.038374       0.024124       0.275819   \n",
       "paint_color             0.020848       0.006245      -0.002754      -0.012534   \n",
       "coast                   0.035897       0.009927       0.013696      -0.050826   \n",
       "age                    -0.160674       0.013817       0.003705       0.146811   \n",
       "manufacturer_euro       0.045650       0.219996       0.028766      -0.118389   \n",
       "manufacturer_usa       -0.333297      -0.084012      -0.040430       0.375308   \n",
       "condition_ok           -0.025786      -0.007477       0.003142       0.017842   \n",
       "condition_poor         -0.023788       0.000923       0.003071       0.018204   \n",
       "cylinders_4.0           1.000000      -0.064136      -0.482755      -0.456481   \n",
       "cylinders_5.0          -0.064136       1.000000      -0.072888      -0.068921   \n",
       "cylinders_6.0          -0.482755      -0.072888       1.000000      -0.518773   \n",
       "cylinders_8.0          -0.456481      -0.068921      -0.518773       1.000000   \n",
       "cylinders_10.0         -0.057948      -0.008749      -0.065856      -0.062272   \n",
       "fuel_gas                0.089740       0.013126       0.063688      -0.158459   \n",
       "fuel_other              0.106211      -0.009388      -0.052936      -0.047826   \n",
       "size_full-size         -0.435950      -0.052673      -0.017066       0.443017   \n",
       "size_mid-size           0.190273       0.033782       0.128028      -0.312380   \n",
       "size_sub-compact        0.099629       0.007866      -0.034625      -0.064474   \n",
       "type_suv               -0.053984      -0.048107       0.187643      -0.120877   \n",
       "type_truck             -0.368826      -0.025289      -0.160926       0.513895   \n",
       "type_van               -0.121317      -0.012453       0.141025      -0.025753   \n",
       "\n",
       "                   cylinders_10.0  fuel_gas  fuel_other  size_full-size  \\\n",
       "odometer                 0.001007 -0.099214    0.004988        0.086594   \n",
       "title_status             0.011139  0.001675   -0.004480        0.013641   \n",
       "transmission             0.006163 -0.007777    0.022560        0.155210   \n",
       "drive                    0.006301 -0.147012   -0.058813        0.261634   \n",
       "paint_color             -0.031848 -0.018680    0.013939       -0.025985   \n",
       "coast                    0.000476  0.030213   -0.000891       -0.050616   \n",
       "age                      0.018601  0.020502   -0.030091        0.009997   \n",
       "manufacturer_euro       -0.006899  0.011453   -0.028111       -0.143308   \n",
       "manufacturer_usa         0.050147 -0.117568   -0.074897        0.291837   \n",
       "condition_ok             0.029457  0.007395   -0.007067        0.054288   \n",
       "condition_poor           0.008508  0.017040   -0.014291       -0.006119   \n",
       "cylinders_4.0           -0.057948  0.089740    0.106211       -0.435950   \n",
       "cylinders_5.0           -0.008749  0.013126   -0.009388       -0.052673   \n",
       "cylinders_6.0           -0.065856  0.063688   -0.052936       -0.017066   \n",
       "cylinders_8.0           -0.062272 -0.158459   -0.047826        0.443017   \n",
       "cylinders_10.0           1.000000  0.018791   -0.006100        0.062374   \n",
       "fuel_gas                 0.018791  1.000000   -0.339325       -0.169922   \n",
       "fuel_other              -0.006100 -0.339325    1.000000       -0.055881   \n",
       "size_full-size           0.062374 -0.169922   -0.055881        1.000000   \n",
       "size_mid-size           -0.051842  0.135562    0.026132       -0.750611   \n",
       "size_sub-compact        -0.007938  0.027946    0.008130       -0.142480   \n",
       "type_suv                -0.036508  0.152405   -0.029910        0.015623   \n",
       "type_truck               0.081020 -0.329125   -0.051559        0.385720   \n",
       "type_van                 0.018045  0.045678   -0.016328        0.100833   \n",
       "\n",
       "                   size_mid-size  size_sub-compact  type_suv  type_truck  \\\n",
       "odometer               -0.044141         -0.027844  0.037780    0.086790   \n",
       "title_status            0.005390          0.001849  0.015864   -0.003086   \n",
       "transmission           -0.012916         -0.085223  0.089106    0.038704   \n",
       "drive                  -0.118474         -0.064041  0.304779    0.348032   \n",
       "paint_color             0.028726         -0.003841 -0.020263    0.004827   \n",
       "coast                   0.032600          0.007923 -0.014235   -0.057119   \n",
       "age                    -0.016324         -0.005356 -0.066139    0.019946   \n",
       "manufacturer_euro       0.057246          0.065668 -0.043601   -0.207293   \n",
       "manufacturer_usa       -0.153522         -0.063422 -0.005918    0.352005   \n",
       "condition_ok           -0.036420         -0.026519 -0.008668    0.021933   \n",
       "condition_poor         -0.008860          0.000226 -0.033450    0.020446   \n",
       "cylinders_4.0           0.190273          0.099629 -0.053984   -0.368826   \n",
       "cylinders_5.0           0.033782          0.007866 -0.048107   -0.025289   \n",
       "cylinders_6.0           0.128028         -0.034625  0.187643   -0.160926   \n",
       "cylinders_8.0          -0.312380         -0.064474 -0.120877    0.513895   \n",
       "cylinders_10.0         -0.051842         -0.007938 -0.036508    0.081020   \n",
       "fuel_gas                0.135562          0.027946  0.152405   -0.329125   \n",
       "fuel_other              0.026132          0.008130 -0.029910   -0.051559   \n",
       "size_full-size         -0.750611         -0.142480  0.015623    0.385720   \n",
       "size_mid-size           1.000000         -0.077629  0.086632   -0.260571   \n",
       "size_sub-compact       -0.077629          1.000000 -0.039983   -0.071062   \n",
       "type_suv                0.086632         -0.039983  1.000000   -0.384982   \n",
       "type_truck             -0.260571         -0.071062 -0.384982    1.000000   \n",
       "type_van               -0.043501         -0.028099 -0.157728   -0.164854   \n",
       "\n",
       "                   type_van  \n",
       "odometer           0.011992  \n",
       "title_status       0.016348  \n",
       "transmission       0.061681  \n",
       "drive             -0.195273  \n",
       "paint_color       -0.001651  \n",
       "coast              0.001410  \n",
       "age               -0.027408  \n",
       "manufacturer_euro -0.060407  \n",
       "manufacturer_usa   0.046429  \n",
       "condition_ok       0.044439  \n",
       "condition_poor     0.004708  \n",
       "cylinders_4.0     -0.121317  \n",
       "cylinders_5.0     -0.012453  \n",
       "cylinders_6.0      0.141025  \n",
       "cylinders_8.0     -0.025753  \n",
       "cylinders_10.0     0.018045  \n",
       "fuel_gas           0.045678  \n",
       "fuel_other        -0.016328  \n",
       "size_full-size     0.100833  \n",
       "size_mid-size     -0.043501  \n",
       "size_sub-compact  -0.028099  \n",
       "type_suv          -0.157728  \n",
       "type_truck        -0.164854  \n",
       "type_van           1.000000  "
      ]
     },
     "execution_count": 136,
     "metadata": {},
     "output_type": "execute_result"
    }
   ],
   "source": [
    "X.corr()"
   ]
  },
  {
   "cell_type": "code",
   "execution_count": 137,
   "metadata": {},
   "outputs": [],
   "source": [
    "from sklearn import tree\n",
    "regTree = tree.DecisionTreeRegressor()\n",
    "regTree = regTree.fit(X_train, y_train)"
   ]
  },
  {
   "cell_type": "code",
   "execution_count": 138,
   "metadata": {},
   "outputs": [
    {
     "data": {
      "text/plain": [
       "0.6937684010005272"
      ]
     },
     "execution_count": 138,
     "metadata": {},
     "output_type": "execute_result"
    }
   ],
   "source": [
    "regTree.score(X_test, y_test)"
   ]
  },
  {
   "cell_type": "code",
   "execution_count": 63,
   "metadata": {},
   "outputs": [],
   "source": [
    "y_pred = np.exp(regTree.predict(X_test))"
   ]
  },
  {
   "cell_type": "code",
   "execution_count": 65,
   "metadata": {},
   "outputs": [
    {
     "data": {
      "text/plain": [
       "5709.731062982452"
      ]
     },
     "execution_count": 65,
     "metadata": {},
     "output_type": "execute_result"
    }
   ],
   "source": [
    "rmse = np.sqrt(metrics.mean_squared_error(np.exp(y_test), y_pred))\n",
    "rmse"
   ]
  },
  {
   "cell_type": "code",
   "execution_count": 67,
   "metadata": {},
   "outputs": [
    {
     "data": {
      "text/plain": [
       "5709.731062982452"
      ]
     },
     "execution_count": 67,
     "metadata": {},
     "output_type": "execute_result"
    }
   ],
   "source": [
    "rmse"
   ]
  },
  {
   "cell_type": "code",
   "execution_count": 79,
   "metadata": {},
   "outputs": [
    {
     "data": {
      "text/plain": [
       "log_price    10005.775578\n",
       "dtype: float64"
      ]
     },
     "execution_count": 79,
     "metadata": {},
     "output_type": "execute_result"
    }
   ],
   "source": [
    "test_std = np.exp(y_test).std()\n",
    "test_std\n"
   ]
  },
  {
   "cell_type": "code",
   "execution_count": 77,
   "metadata": {},
   "outputs": [
    {
     "data": {
      "text/plain": [
       "log_price    11713.924081\n",
       "dtype: float64"
      ]
     },
     "execution_count": 77,
     "metadata": {},
     "output_type": "execute_result"
    }
   ],
   "source": [
    "np.exp(y_test).mean()"
   ]
  },
  {
   "cell_type": "code",
   "execution_count": 74,
   "metadata": {},
   "outputs": [
    {
     "data": {
      "text/plain": [
       "log_price    0.570644\n",
       "dtype: float64"
      ]
     },
     "execution_count": 74,
     "metadata": {},
     "output_type": "execute_result"
    }
   ],
   "source": [
    "rmse/test_std"
   ]
  },
  {
   "cell_type": "code",
   "execution_count": 75,
   "metadata": {},
   "outputs": [],
   "source": [
    "scale = StandardScaler()\n",
    "transformed_train = scale.fit_transform(X_train)\n",
    "X_train = pd.DataFrame(transformed_train, columns = X_train.columns)\n",
    "transformed_test = scale.transform(X_test)\n",
    "X_test = pd.DataFrame(transformed_test, columns = X_test.columns)\n",
    "#transformed_train = scale.fit_transform(X_train_df_poly)\n",
    "#X_train_transformed = pd.DataFrame(transformed_train, columns = X_train_df_poly.columns)\n",
    "#transformed_test = scale.transform(X_test_df_poly)\n",
    "#X_test_transformed = pd.DataFrame(transformed_test, columns = X_test_df_poly.columns)"
   ]
  },
  {
   "cell_type": "code",
   "execution_count": 80,
   "metadata": {},
   "outputs": [
    {
     "data": {
      "text/plain": [
       "log_price    0.591371\n",
       "dtype: float64"
      ]
     },
     "execution_count": 80,
     "metadata": {},
     "output_type": "execute_result"
    }
   ],
   "source": [
    "regTree = tree.DecisionTreeRegressor()\n",
    "regTree = regTree.fit(X_train, y_train)\n",
    "y_pred = np.exp(regTree.predict(X_test))\n",
    "rmse = np.sqrt(metrics.mean_squared_error(np.exp(y_test), y_pred))\n",
    "rmse/test_std"
   ]
  },
  {
   "cell_type": "code",
   "execution_count": 85,
   "metadata": {},
   "outputs": [
    {
     "data": {
      "text/plain": [
       "log_price    1.538964\n",
       "dtype: float64"
      ]
     },
     "execution_count": 85,
     "metadata": {},
     "output_type": "execute_result"
    }
   ],
   "source": [
    "lasso = Lasso(alpha=200, normalize=False)\n",
    "lasso.fit(X_train,y_train)\n",
    "y_pred = lasso.predict(X_test)\n",
    "rmse = np.sqrt(metrics.mean_squared_error(np.exp(y_test), y_pred))\n",
    "rmse/test_std"
   ]
  },
  {
   "cell_type": "code",
   "execution_count": 86,
   "metadata": {},
   "outputs": [
    {
     "data": {
      "text/plain": [
       "15398.214339037735"
      ]
     },
     "execution_count": 86,
     "metadata": {},
     "output_type": "execute_result"
    }
   ],
   "source": [
    "ridge = Ridge(alpha=200, normalize=False)\n",
    "ridge.fit(X_train,y_train)\n",
    "y_pred = ridge.predict(X_test)\n",
    "rmse = np.sqrt(metrics.mean_squared_error(np.exp(y_test), y_pred))\n",
    "rmse"
   ]
  },
  {
   "cell_type": "code",
   "execution_count": 87,
   "metadata": {},
   "outputs": [
    {
     "data": {
      "text/plain": [
       "log_price    1.538933\n",
       "dtype: float64"
      ]
     },
     "execution_count": 87,
     "metadata": {},
     "output_type": "execute_result"
    }
   ],
   "source": [
    "rmse/test_std"
   ]
  },
  {
   "cell_type": "code",
   "execution_count": 88,
   "metadata": {},
   "outputs": [
    {
     "name": "stderr",
     "output_type": "stream",
     "text": [
      "/Users/lucas/opt/anaconda3/envs/learn-env/lib/python3.6/site-packages/sklearn/utils/validation.py:724: DataConversionWarning: A column-vector y was passed when a 1d array was expected. Please change the shape of y to (n_samples, ), for example using ravel().\n",
      "  y = column_or_1d(y, warn=True)\n"
     ]
    },
    {
     "data": {
      "text/plain": [
       "15398.213703316345"
      ]
     },
     "execution_count": 88,
     "metadata": {},
     "output_type": "execute_result"
    }
   ],
   "source": [
    "bayes = linear_model.BayesianRidge()\n",
    "bayes.fit(X_train, y_train)\n",
    "y_pred = bayes.predict(X_test)\n",
    "rmse = np.sqrt(metrics.mean_squared_error(np.exp(y_test), y_pred))\n",
    "rmse"
   ]
  },
  {
   "cell_type": "code",
   "execution_count": 89,
   "metadata": {},
   "outputs": [
    {
     "data": {
      "text/plain": [
       "log_price    1.538933\n",
       "dtype: float64"
      ]
     },
     "execution_count": 89,
     "metadata": {},
     "output_type": "execute_result"
    }
   ],
   "source": [
    "rmse/test_std"
   ]
  },
  {
   "cell_type": "code",
   "execution_count": 90,
   "metadata": {},
   "outputs": [
    {
     "data": {
      "text/plain": [
       "15398.213646617034"
      ]
     },
     "execution_count": 90,
     "metadata": {},
     "output_type": "execute_result"
    }
   ],
   "source": [
    "reg = linear_model.LinearRegression()\n",
    "reg.fit(X_train, y_train)\n",
    "y_pred = reg.predict(X_test)\n",
    "rmse = np.sqrt(metrics.mean_squared_error(np.exp(y_test), y_pred))\n",
    "rmse"
   ]
  },
  {
   "cell_type": "code",
   "execution_count": 92,
   "metadata": {},
   "outputs": [
    {
     "data": {
      "text/plain": [
       "<matplotlib.axes._subplots.AxesSubplot at 0x1c3f9cf588>"
      ]
     },
     "execution_count": 92,
     "metadata": {},
     "output_type": "execute_result"
    },
    {
     "data": {
      "image/png": "[encoded data removed]",
      "text/plain": [
       "<Figure size 792x648 with 2 Axes>"
      ]
     },
     "metadata": {},
     "output_type": "display_data"
    }
   ],
   "source": [
    "sns.set(style=\"white\")\n",
    "\n",
    "corr = X_train.corr()\n",
    "\n",
    "mask = np.zeros_like(corr, dtype=np.bool)\n",
    "mask[np.triu_indices_from(mask)] = True\n",
    "\n",
    "f, ax = plt.subplots(figsize=(11, 9))\n",
    "\n",
    "cmap = sns.diverging_palette(220, 10, as_cmap=True)\n",
    "\n",
    "sns.heatmap(corr, mask=mask, cmap=cmap, vmax=1, center=0,\n",
    "            square=True, linewidths=.5, cbar_kws={\"shrink\": .5})"
   ]
  },
  {
   "cell_type": "code",
   "execution_count": 112,
   "metadata": {},
   "outputs": [
    {
     "data": {
      "text/plain": [
       "<generator object _BaseKFold.split at 0x1c3811f8e0>"
      ]
     },
     "execution_count": 112,
     "metadata": {},
     "output_type": "execute_result"
    }
   ],
   "source": [
    "kf = KFold(n_splits=10, shuffle=False).split(X)\n",
    "kf"
   ]
  },
  {
   "cell_type": "code",
   "execution_count": 113,
   "metadata": {},
   "outputs": [
    {
     "name": "stdout",
     "output_type": "stream",
     "text": [
      "[ 9958  9959  9960 ... 99574 99575 99576] [   0    1    2 ... 9955 9956 9957]\n",
      "[    0     1     2 ... 99574 99575 99576] [ 9958  9959  9960 ... 19913 19914 19915]\n",
      "[    0     1     2 ... 99574 99575 99576] [19916 19917 19918 ... 29871 29872 29873]\n",
      "[    0     1     2 ... 99574 99575 99576] [29874 29875 29876 ... 39829 39830 39831]\n",
      "[    0     1     2 ... 99574 99575 99576] [39832 39833 39834 ... 49787 49788 49789]\n",
      "[    0     1     2 ... 99574 99575 99576] [49790 49791 49792 ... 59745 59746 59747]\n",
      "[    0     1     2 ... 99574 99575 99576] [59748 59749 59750 ... 69703 69704 69705]\n",
      "[    0     1     2 ... 99574 99575 99576] [69706 69707 69708 ... 79660 79661 79662]\n",
      "[    0     1     2 ... 99574 99575 99576] [79663 79664 79665 ... 89617 89618 89619]\n",
      "[    0     1     2 ... 89617 89618 89619] [89620 89621 89622 ... 99574 99575 99576]\n"
     ]
    }
   ],
   "source": [
    "for train_index, test_index in kf:\n",
    "    print(train_index, test_index)"
   ]
  },
  {
   "cell_type": "code",
   "execution_count": 100,
   "metadata": {},
   "outputs": [
    {
     "data": {
      "text/plain": [
       "StratifiedKFold(n_splits=10, random_state=None, shuffle=False)"
      ]
     },
     "execution_count": 100,
     "metadata": {},
     "output_type": "execute_result"
    }
   ],
   "source": [
    "folds = StratifiedKFold(n_splits = 10)\n",
    "folds"
   ]
  },
  {
   "cell_type": "code",
   "execution_count": 123,
   "metadata": {},
   "outputs": [],
   "source": [
    "def get_score(model, X_train, X_test, y_train, y_test):\n",
    "    model.fit(X_train, y_train)\n",
    "    return model.score(X_test, y_test)"
   ]
  },
  {
   "cell_type": "code",
   "execution_count": 126,
   "metadata": {},
   "outputs": [
    {
     "name": "stdout",
     "output_type": "stream",
     "text": [
      "[]\n"
     ]
    }
   ],
   "source": [
    "scores_linear = []\n",
    "scores_ridge = []\n",
    "scores_bayes_ridge = []\n",
    "scores_lasso = []\n",
    "scores_treeReg = []\n",
    "\n",
    "for train_index, test_index in kf:\n",
    "    X_train, X_test, y_train, y_test = X[train_index], X[test_index], y[train_index], y[test_index]\n",
    "    scores_treeReg.append(get_score(tree.DecisionTreeRegressor(), X_train, X_test, y_train, y_test))\n",
    "print(scores_treeReg) "
   ]
  },
  {
   "cell_type": "code",
   "execution_count": 142,
   "metadata": {},
   "outputs": [
    {
     "name": "stdout",
     "output_type": "stream",
     "text": [
      "0.6719717244258486\n"
     ]
    }
   ],
   "source": [
    "print(cross_val_score(tree.DecisionTreeRegressor(), X_train, y_train, cv=10).mean())"
   ]
  },
  {
   "cell_type": "code",
   "execution_count": 143,
   "metadata": {},
   "outputs": [
    {
     "name": "stdout",
     "output_type": "stream",
     "text": [
      "0.6377665942800768\n"
     ]
    }
   ],
   "source": [
    "print(cross_val_score(linear_model.LinearRegression(), X_train, y_train, cv=10).mean())"
   ]
  },
  {
   "cell_type": "code",
   "execution_count": 144,
   "metadata": {},
   "outputs": [
    {
     "name": "stdout",
     "output_type": "stream",
     "text": [
      "0.637766165721233\n"
     ]
    }
   ],
   "source": [
    "print(cross_val_score(linear_model.Ridge(), X_train, y_train, cv=10).mean())"
   ]
  },
  {
   "cell_type": "code",
   "execution_count": 148,
   "metadata": {},
   "outputs": [
    {
     "name": "stdout",
     "output_type": "stream",
     "text": [
      "0.31668924382335584\n"
     ]
    }
   ],
   "source": [
    "print(cross_val_score(linear_model.Lasso(), X_train, y_train, cv=10).mean())"
   ]
  },
  {
   "cell_type": "code",
   "execution_count": null,
   "metadata": {},
   "outputs": [],
   "source": []
  }
 ],
 "metadata": {
  "kernelspec": {
   "display_name": "Python 3",
   "language": "python",
   "name": "python3"
  },
  "language_info": {
   "codemirror_mode": {
    "name": "ipython",
    "version": 3
   },
   "file_extension": ".py",
   "mimetype": "text/x-python",
   "name": "python",
   "nbconvert_exporter": "python",
   "pygments_lexer": "ipython3",
   "version": "3.6.9"
  },
  "toc": {
   "base_numbering": 1,
   "nav_menu": {},
   "number_sections": true,
   "sideBar": true,
   "skip_h1_title": false,
   "title_cell": "Table of Contents",
   "title_sidebar": "Contents",
   "toc_cell": false,
   "toc_position": {},
   "toc_section_display": true,
   "toc_window_display": true
  }
 },
 "nbformat": 4,
 "nbformat_minor": 2
}
