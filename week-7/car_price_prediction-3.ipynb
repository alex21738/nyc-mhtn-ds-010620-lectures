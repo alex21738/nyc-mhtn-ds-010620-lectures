{
 "cells": [
  {
   "cell_type": "markdown",
   "metadata": {},
   "source": [
    "# Import Necessary Libraries"
   ]
  },
  {
   "cell_type": "code",
   "execution_count": 40,
   "metadata": {},
   "outputs": [],
   "source": [
    "from datetime import datetime\n",
    "import pandas as pd\n",
    "import numpy as np\n",
    "import statsmodels.api as sm\n",
    "from statsmodels.formula.api import ols\n",
    "import matplotlib.pyplot as plt\n",
    "import seaborn as sns\n",
    "from scipy.stats.stats import pearsonr\n",
    "import scipy as sp\n",
    "from sklearn import tree\n",
    "from sklearn.ensemble import RandomForestRegressor\n",
    "from sklearn.model_selection import KFold\n",
    "from sklearn.model_selection import StratifiedKFold\n",
    "from sklearn import linear_model\n",
    "from sklearn.linear_model import Lasso, Ridge, LinearRegression\n",
    "from sklearn.model_selection import train_test_split\n",
    "from sklearn import metrics\n",
    "from sklearn.preprocessing import PolynomialFeatures\n",
    "from scipy.stats import shapiro\n",
    "from scipy.stats import normaltest\n",
    "from sklearn.model_selection import cross_val_score\n",
    "from sklearn.preprocessing import StandardScaler, RobustScaler, MinMaxScaler\n",
    "from sklearn.model_selection import GridSearchCV\n",
    "from scipy import stats\n",
    "plt.style.use('seaborn')\n",
    "%matplotlib inline\n",
    "pd.set_option('display.max_columns', 1000)\n",
    "pd.set_option('display.max_rows', 1000)"
   ]
  },
  {
   "cell_type": "markdown",
   "metadata": {},
   "source": [
    "## Read in Data to DataFrame"
   ]
  },
  {
   "cell_type": "code",
   "execution_count": 4,
   "metadata": {
    "scrolled": true
   },
   "outputs": [],
   "source": [
    "df = pd.read_csv('vehicles.csv')"
   ]
  },
  {
   "cell_type": "code",
   "execution_count": 5,
   "metadata": {},
   "outputs": [],
   "source": [
    "df.drop(columns=['id', 'county', 'url', 'region_url', 'image_url', 'description', 'vin', 'region', 'model', 'lat', 'long'], inplace=True)"
   ]
  },
  {
   "cell_type": "code",
   "execution_count": 6,
   "metadata": {},
   "outputs": [],
   "source": [
    "df = df[df['price'] > 500]\n",
    "df = df[df['price'] < 5000000]"
   ]
  },
  {
   "cell_type": "code",
   "execution_count": 7,
   "metadata": {},
   "outputs": [],
   "source": [
    "df = df[df['odometer'] < 400000 ]"
   ]
  },
  {
   "cell_type": "code",
   "execution_count": 8,
   "metadata": {},
   "outputs": [],
   "source": [
    "df.dropna(subset = ['manufacturer'], inplace = True)"
   ]
  },
  {
   "cell_type": "code",
   "execution_count": 9,
   "metadata": {},
   "outputs": [],
   "source": [
    "df.dropna(subset = ['condition'], inplace = True)"
   ]
  },
  {
   "cell_type": "code",
   "execution_count": 10,
   "metadata": {},
   "outputs": [],
   "source": [
    "df.dropna(subset=['size'], inplace = True)"
   ]
  },
  {
   "cell_type": "code",
   "execution_count": 11,
   "metadata": {},
   "outputs": [],
   "source": [
    "df.dropna(subset = ['odometer'], inplace = True)"
   ]
  },
  {
   "cell_type": "code",
   "execution_count": 12,
   "metadata": {},
   "outputs": [],
   "source": [
    "df.dropna(subset = ['fuel'], inplace = True)"
   ]
  },
  {
   "cell_type": "code",
   "execution_count": 13,
   "metadata": {},
   "outputs": [],
   "source": [
    "title_dict = {'clean':1, 'rebuilt':1, 'salvage':0, 'lien':0, 'missing':0, 'parts only':0}\n",
    "df['title_status'].replace(title_dict, inplace = True)"
   ]
  },
  {
   "cell_type": "code",
   "execution_count": 14,
   "metadata": {},
   "outputs": [],
   "source": [
    "condition_dict = {'excellent':'good', 'new':'good', 'good':'ok', 'like new':'ok', 'fair':'poor', 'salvage':np.nan}\n",
    "df.condition.replace(condition_dict, inplace = True)\n",
    "df.dropna(subset = ['condition'], inplace = True)"
   ]
  },
  {
   "cell_type": "code",
   "execution_count": 15,
   "metadata": {},
   "outputs": [],
   "source": [
    "cylinder_dict = {'12 cylinders':10, '10 cylinders':10, '8 cylinders':8, '6 cylinders':6, '5 cylinders':5, '4 cylinders':4, '3 cylinders':3, 'other':np.nan}\n",
    "df.cylinders.replace(cylinder_dict, inplace = True)\n",
    "df.dropna(subset = ['cylinders'], inplace = True)"
   ]
  },
  {
   "cell_type": "code",
   "execution_count": 16,
   "metadata": {},
   "outputs": [],
   "source": [
    "manufact_dict1 = {'ford': 1, 'chevrolet':1, 'toyota':3, 'honda':3, 'nissan':3, 'gmc':1, 'ram':1, 'jeep':1,\n",
    "       'dodge':1, 'bmw':2, 'volkswagen':2, 'hyundai':3, 'subaru':1, 'mercedes-benz':2,\n",
    "       'chrysler':1, 'kia':3, 'cadillac':1, 'lexus':3, 'buick':1, 'mazda':3, 'audi':2,\n",
    "       'pontiac':1, 'acura':3, 'lincoln':1, 'infiniti':3, 'volvo':2, 'mitsubishi':3,\n",
    "       'mercury':1, 'mini':2, 'saturn':1, 'rover':2, 'jaguar':2, 'fiat':2, 'alfa-romeo':2,\n",
    "       'harley-davidson':np.nan, 'datsun':2, 'land rover':2, 'ferrari':2, 'porche':2,\n",
    "       'aston-martin':2, 'morgan':2, 'tesla':1, 'hennessey':np.nan}\n",
    "df.manufacturer.replace(manufact_dict1, inplace = True)\n",
    "df.dropna(subset = ['manufacturer'], inplace = True)\n",
    "manufact_dict2 = {1:'usa', 2:'euro', 3:'asia'}\n",
    "df.manufacturer.replace(manufact_dict2, inplace = True)"
   ]
  },
  {
   "cell_type": "code",
   "execution_count": 17,
   "metadata": {},
   "outputs": [],
   "source": [
    "state_dict = {'ca':1, 'fl':1, 'ny':1, 'tx':1, 'mi':1, 'wi':1, 'oh':1, 'nc':1, 'pa':1, 'or':1, 'va':1, 'mn':1,\n",
    "       'tn':0, 'co':0, 'ma':1, 'ia':0, 'il':1, 'in':1, 'al':1, 'nj':1, 'az':0, 'ky':0, 'sc':1, 'ks':0,\n",
    "       'mo':0, 'ok':0, 'id':0, 'mt':0, 'ga':1, 'ct':1, 'vt':0, 'ar':0, 'wa':1, 'nm':0, 'md':1, 'la':1,\n",
    "       'nh':1, 'ms':1, 'ri':1, 'ak':1, 'me':1, 'dc':1, 'nv':0, 'sd':0, 'hi':1, 'ne':0, 'de':1, 'nd':0,\n",
    "       'wv':0, 'ut':0, 'wy':0} \n",
    "df.state.replace(state_dict, inplace = True)\n",
    "df.dropna(subset = ['state'], inplace = True)\n",
    "df['coast'] = df['state']\n",
    "df.drop(columns = ['state'], inplace = True)"
   ]
  },
  {
   "cell_type": "code",
   "execution_count": 18,
   "metadata": {},
   "outputs": [],
   "source": [
    "color_dict={'white':1, 'black':1, 'silver':1, 'grey':1, 'blue':1, 'red':1, 'green':1, 'brown':1,\n",
    "       'custom':0, 'yellow':0, 'orange':0, 'purple':0}\n",
    "df.paint_color.replace(color_dict, inplace = True)\n",
    "df.dropna(subset = ['paint_color'], inplace = True)"
   ]
  },
  {
   "cell_type": "code",
   "execution_count": 19,
   "metadata": {},
   "outputs": [],
   "source": [
    "transmission_dict = {'automatic':1, 'other':1, 'manual':0}\n",
    "df.transmission.replace(transmission_dict, inplace = True)\n",
    "df.dropna(subset = ['transmission'], inplace = True)"
   ]
  },
  {
   "cell_type": "code",
   "execution_count": 20,
   "metadata": {},
   "outputs": [],
   "source": [
    "drive_dict = {'4wd':1, 'fwd':0, 'rwd':0}\n",
    "df.drive.replace(drive_dict, inplace = True)\n",
    "df.dropna(subset = ['drive'], inplace = True)"
   ]
  },
  {
   "cell_type": "code",
   "execution_count": 21,
   "metadata": {},
   "outputs": [],
   "source": [
    "type_dict = {'SUV':'suv', 'sedan':'car', 'truck':'truck', 'pickup':'truck', 'coupe':'car', 'van':'van', 'hatchback':'car',\n",
    "       'mini-van':'van', 'convertible':'car', 'wagon':'car', 'other':np.nan, 'offroad':'suv', 'bus':'van'}\n",
    "df.type.replace(type_dict, inplace = True)\n",
    "df.dropna(subset = ['type'], inplace = True)"
   ]
  },
  {
   "cell_type": "code",
   "execution_count": 22,
   "metadata": {},
   "outputs": [],
   "source": [
    "fuel_dict = {'hybrid':'other', 'electric':'other'}\n",
    "df.fuel.replace(fuel_dict, inplace = True)"
   ]
  },
  {
   "cell_type": "code",
   "execution_count": 23,
   "metadata": {},
   "outputs": [],
   "source": [
    "df.dropna(inplace = True)"
   ]
  },
  {
   "cell_type": "code",
   "execution_count": 24,
   "metadata": {},
   "outputs": [
    {
     "data": {
      "text/plain": [
       "(99577, 14)"
      ]
     },
     "execution_count": 24,
     "metadata": {},
     "output_type": "execute_result"
    }
   ],
   "source": [
    "df.shape"
   ]
  },
  {
   "cell_type": "code",
   "execution_count": 25,
   "metadata": {},
   "outputs": [
    {
     "data": {
      "text/plain": [
       "<matplotlib.axes._subplots.AxesSubplot at 0x1c2562a0d0>"
      ]
     },
     "execution_count": 25,
     "metadata": {},
     "output_type": "execute_result"
    },
    {
     "data": {
      "image/png": "[encoded data removed]",
      "text/plain": [
       "<Figure size 432x288 with 1 Axes>"
      ]
     },
     "metadata": {
      "needs_background": "light"
     },
     "output_type": "display_data"
    }
   ],
   "source": [
    "sns.heatmap(df.isnull(), cbar = False)"
   ]
  },
  {
   "cell_type": "code",
   "execution_count": 26,
   "metadata": {},
   "outputs": [],
   "source": [
    "df['price'] = [float(i) for i in df['price']]"
   ]
  },
  {
   "cell_type": "code",
   "execution_count": 27,
   "metadata": {},
   "outputs": [
    {
     "data": {
      "text/plain": [
       "<matplotlib.axes._subplots.AxesSubplot at 0x1c29d2c8d0>"
      ]
     },
     "execution_count": 27,
     "metadata": {},
     "output_type": "execute_result"
    },
    {
     "data": {
      "image/png": "[encoded data removed]",
      "text/plain": [
       "<Figure size 432x288 with 1 Axes>"
      ]
     },
     "metadata": {
      "needs_background": "light"
     },
     "output_type": "display_data"
    }
   ],
   "source": [
    "sns.distplot(df.price)"
   ]
  },
  {
   "cell_type": "code",
   "execution_count": 28,
   "metadata": {},
   "outputs": [
    {
     "data": {
      "text/plain": [
       "<matplotlib.axes._subplots.AxesSubplot at 0x1c4209e7d0>"
      ]
     },
     "execution_count": 28,
     "metadata": {},
     "output_type": "execute_result"
    },
    {
     "data": {
      "image/png": "[encoded data removed]",
      "text/plain": [
       "<Figure size 432x288 with 1 Axes>"
      ]
     },
     "metadata": {
      "needs_background": "light"
     },
     "output_type": "display_data"
    }
   ],
   "source": [
    "sns.distplot(np.log(df.price))"
   ]
  },
  {
   "cell_type": "code",
   "execution_count": 29,
   "metadata": {},
   "outputs": [],
   "source": [
    "df['log_price'] = np.log(df.price)"
   ]
  },
  {
   "cell_type": "code",
   "execution_count": 30,
   "metadata": {},
   "outputs": [],
   "source": [
    "df['age'] = 2020 - df['year']"
   ]
  },
  {
   "cell_type": "code",
   "execution_count": 31,
   "metadata": {},
   "outputs": [
    {
     "data": {
      "text/plain": [
       "(99577, 16)"
      ]
     },
     "execution_count": 31,
     "metadata": {},
     "output_type": "execute_result"
    }
   ],
   "source": [
    "df.shape"
   ]
  },
  {
   "cell_type": "code",
   "execution_count": 32,
   "metadata": {},
   "outputs": [],
   "source": [
    "df.reset_index(inplace=True)"
   ]
  },
  {
   "cell_type": "code",
   "execution_count": 33,
   "metadata": {},
   "outputs": [],
   "source": [
    "df.drop(columns = ['index', 'year'], inplace = True)"
   ]
  },
  {
   "cell_type": "markdown",
   "metadata": {},
   "source": [
    "## EDA"
   ]
  },
  {
   "cell_type": "markdown",
   "metadata": {},
   "source": [
    "### Q1: Which continent's cars are most expensive on average?"
   ]
  },
  {
   "cell_type": "markdown",
   "metadata": {},
   "source": [
    "#### one way ANOVA test"
   ]
  },
  {
   "cell_type": "code",
   "execution_count": 34,
   "metadata": {},
   "outputs": [
    {
     "data": {
      "text/html": [
       "<div>\n",
       "<style scoped>\n",
       "    .dataframe tbody tr th:only-of-type {\n",
       "        vertical-align: middle;\n",
       "    }\n",
       "\n",
       "    .dataframe tbody tr th {\n",
       "        vertical-align: top;\n",
       "    }\n",
       "\n",
       "    .dataframe thead th {\n",
       "        text-align: right;\n",
       "    }\n",
       "</style>\n",
       "<table border=\"1\" class=\"dataframe\">\n",
       "  <thead>\n",
       "    <tr style=\"text-align: right;\">\n",
       "      <th></th>\n",
       "      <th>count</th>\n",
       "      <th>mean</th>\n",
       "      <th>std</th>\n",
       "      <th>min</th>\n",
       "      <th>25%</th>\n",
       "      <th>50%</th>\n",
       "      <th>75%</th>\n",
       "      <th>max</th>\n",
       "    </tr>\n",
       "    <tr>\n",
       "      <th>manufacturer</th>\n",
       "      <th></th>\n",
       "      <th></th>\n",
       "      <th></th>\n",
       "      <th></th>\n",
       "      <th></th>\n",
       "      <th></th>\n",
       "      <th></th>\n",
       "      <th></th>\n",
       "    </tr>\n",
       "  </thead>\n",
       "  <tbody>\n",
       "    <tr>\n",
       "      <td>asia</td>\n",
       "      <td>27272.0</td>\n",
       "      <td>9084.493070</td>\n",
       "      <td>9159.178968</td>\n",
       "      <td>550.0</td>\n",
       "      <td>4200.0</td>\n",
       "      <td>6995.0</td>\n",
       "      <td>11900.0</td>\n",
       "      <td>690000.0</td>\n",
       "    </tr>\n",
       "    <tr>\n",
       "      <td>euro</td>\n",
       "      <td>9827.0</td>\n",
       "      <td>10890.900784</td>\n",
       "      <td>14806.059330</td>\n",
       "      <td>550.0</td>\n",
       "      <td>4987.0</td>\n",
       "      <td>8000.0</td>\n",
       "      <td>13900.0</td>\n",
       "      <td>1000000.0</td>\n",
       "    </tr>\n",
       "    <tr>\n",
       "      <td>usa</td>\n",
       "      <td>62478.0</td>\n",
       "      <td>13184.102836</td>\n",
       "      <td>14366.957591</td>\n",
       "      <td>522.0</td>\n",
       "      <td>4998.0</td>\n",
       "      <td>9995.0</td>\n",
       "      <td>17995.0</td>\n",
       "      <td>1950000.0</td>\n",
       "    </tr>\n",
       "  </tbody>\n",
       "</table>\n",
       "</div>"
      ],
      "text/plain": [
       "                count          mean           std    min     25%     50%  \\\n",
       "manufacturer                                                               \n",
       "asia          27272.0   9084.493070   9159.178968  550.0  4200.0  6995.0   \n",
       "euro           9827.0  10890.900784  14806.059330  550.0  4987.0  8000.0   \n",
       "usa           62478.0  13184.102836  14366.957591  522.0  4998.0  9995.0   \n",
       "\n",
       "                  75%        max  \n",
       "manufacturer                      \n",
       "asia          11900.0   690000.0  \n",
       "euro          13900.0  1000000.0  \n",
       "usa           17995.0  1950000.0  "
      ]
     },
     "execution_count": 34,
     "metadata": {},
     "output_type": "execute_result"
    }
   ],
   "source": [
    "df.groupby('manufacturer')['price'].describe()"
   ]
  },
  {
   "cell_type": "code",
   "execution_count": null,
   "metadata": {},
   "outputs": [],
   "source": [
    "# H0: price at different continents are the same   Ha: price at different continents are different"
   ]
  },
  {
   "cell_type": "code",
   "execution_count": 88,
   "metadata": {},
   "outputs": [],
   "source": [
    "asia = df.loc[df['manufacturer'] == 'asia']"
   ]
  },
  {
   "cell_type": "code",
   "execution_count": 37,
   "metadata": {},
   "outputs": [],
   "source": [
    "euro = df.loc[df['manufacturer'] == \"euro\"]"
   ]
  },
  {
   "cell_type": "code",
   "execution_count": 38,
   "metadata": {},
   "outputs": [],
   "source": [
    "usa = df.loc[df['manufacturer'] == \"usa\"]"
   ]
  },
  {
   "cell_type": "code",
   "execution_count": 85,
   "metadata": {},
   "outputs": [
    {
     "data": {
      "text/plain": [
       "F_onewayResult(statistic=944.1687008794038, pvalue=0.0)"
      ]
     },
     "execution_count": 85,
     "metadata": {},
     "output_type": "execute_result"
    }
   ],
   "source": [
    "stats.f_oneway(asia['price'], euro['price'], usa['price'])"
   ]
  },
  {
   "cell_type": "code",
   "execution_count": null,
   "metadata": {},
   "outputs": [],
   "source": [
    "# p_value < 0.05 --> reject H0"
   ]
  },
  {
   "cell_type": "code",
   "execution_count": 33,
   "metadata": {},
   "outputs": [
    {
     "data": {
      "text/plain": [
       "<matplotlib.axes._subplots.AxesSubplot at 0x1c1e392f10>"
      ]
     },
     "execution_count": 33,
     "metadata": {},
     "output_type": "execute_result"
    },
    {
     "data": {
      "image/png": "[encoded data removed]",
      "text/plain": [
       "<Figure size 432x288 with 1 Axes>"
      ]
     },
     "metadata": {
      "needs_background": "light"
     },
     "output_type": "display_data"
    }
   ],
   "source": [
    "sns.barplot(y=df.price, x=df['manufacturer'])"
   ]
  },
  {
   "cell_type": "code",
   "execution_count": 43,
   "metadata": {},
   "outputs": [],
   "source": [
    "coast_dict = {0:'State without coast', 1: 'State with coast'}\n",
    "df.coast.replace(coast_dict, inplace = True)\n",
    "df.dropna(subset = ['coast'], inplace = True)"
   ]
  },
  {
   "cell_type": "code",
   "execution_count": 44,
   "metadata": {},
   "outputs": [
    {
     "data": {
      "text/plain": [
       "<matplotlib.axes._subplots.AxesSubplot at 0x1c294da510>"
      ]
     },
     "execution_count": 44,
     "metadata": {},
     "output_type": "execute_result"
    },
    {
     "data": {
      "image/png": "[encoded data removed]",
      "text/plain": [
       "<Figure size 432x288 with 1 Axes>"
      ]
     },
     "metadata": {
      "needs_background": "light"
     },
     "output_type": "display_data"
    }
   ],
   "source": [
    "sns.barplot(y=df.price, x=df['coast'])"
   ]
  },
  {
   "cell_type": "code",
   "execution_count": 35,
   "metadata": {},
   "outputs": [
    {
     "data": {
      "text/plain": [
       "<matplotlib.axes._subplots.AxesSubplot at 0x1c1c343490>"
      ]
     },
     "execution_count": 35,
     "metadata": {},
     "output_type": "execute_result"
    },
    {
     "data": {
      "image/png": "[encoded data removed]",
      "text/plain": [
       "<Figure size 432x288 with 1 Axes>"
      ]
     },
     "metadata": {
      "needs_background": "light"
     },
     "output_type": "display_data"
    }
   ],
   "source": [
    "sns.barplot(y=df.price, x=df['condition'])"
   ]
  },
  {
   "cell_type": "markdown",
   "metadata": {},
   "source": [
    "### Q2: Does higher cylinder count lead to higher price?"
   ]
  },
  {
   "cell_type": "code",
   "execution_count": 36,
   "metadata": {},
   "outputs": [
    {
     "data": {
      "text/plain": [
       "<matplotlib.axes._subplots.AxesSubplot at 0x1c32174490>"
      ]
     },
     "execution_count": 36,
     "metadata": {},
     "output_type": "execute_result"
    },
    {
     "data": {
      "image/png": "[encoded data removed]",
      "text/plain": [
       "<Figure size 432x288 with 1 Axes>"
      ]
     },
     "metadata": {
      "needs_background": "light"
     },
     "output_type": "display_data"
    }
   ],
   "source": [
    "sns.barplot(y=df.price, x=df['cylinders'])"
   ]
  },
  {
   "cell_type": "code",
   "execution_count": 129,
   "metadata": {},
   "outputs": [],
   "source": [
    "# H0: cylinder amount doesn't affect price   Ha: cylinder amount does affect price "
   ]
  },
  {
   "cell_type": "code",
   "execution_count": 101,
   "metadata": {},
   "outputs": [],
   "source": [
    "cylindergroup = {3.0:'less', 4.0: 'less', 5.0: 'less', 6.0: 'more', 8.0: 'more', 10.0: 'more'}\n",
    "df.cylinders.replace(cylindergroup, inplace = True)\n",
    "df.dropna(subset = ['cylinders'], inplace = True)"
   ]
  },
  {
   "cell_type": "code",
   "execution_count": 103,
   "metadata": {},
   "outputs": [
    {
     "data": {
      "text/plain": [
       "more    68829\n",
       "less    30748\n",
       "Name: cylinders, dtype: int64"
      ]
     },
     "execution_count": 103,
     "metadata": {},
     "output_type": "execute_result"
    }
   ],
   "source": [
    "df['cylinders'].value_counts()"
   ]
  },
  {
   "cell_type": "code",
   "execution_count": 105,
   "metadata": {},
   "outputs": [
    {
     "data": {
      "text/html": [
       "<div>\n",
       "<style scoped>\n",
       "    .dataframe tbody tr th:only-of-type {\n",
       "        vertical-align: middle;\n",
       "    }\n",
       "\n",
       "    .dataframe tbody tr th {\n",
       "        vertical-align: top;\n",
       "    }\n",
       "\n",
       "    .dataframe thead th {\n",
       "        text-align: right;\n",
       "    }\n",
       "</style>\n",
       "<table border=\"1\" class=\"dataframe\">\n",
       "  <thead>\n",
       "    <tr style=\"text-align: right;\">\n",
       "      <th></th>\n",
       "      <th>count</th>\n",
       "      <th>mean</th>\n",
       "      <th>std</th>\n",
       "      <th>min</th>\n",
       "      <th>25%</th>\n",
       "      <th>50%</th>\n",
       "      <th>75%</th>\n",
       "      <th>max</th>\n",
       "    </tr>\n",
       "    <tr>\n",
       "      <th>cylinders</th>\n",
       "      <th></th>\n",
       "      <th></th>\n",
       "      <th></th>\n",
       "      <th></th>\n",
       "      <th></th>\n",
       "      <th></th>\n",
       "      <th></th>\n",
       "      <th></th>\n",
       "    </tr>\n",
       "  </thead>\n",
       "  <tbody>\n",
       "    <tr>\n",
       "      <td>less</td>\n",
       "      <td>30748.0</td>\n",
       "      <td>8381.307435</td>\n",
       "      <td>8331.895593</td>\n",
       "      <td>549.0</td>\n",
       "      <td>4000.0</td>\n",
       "      <td>6987.0</td>\n",
       "      <td>10998.0</td>\n",
       "      <td>1000000.0</td>\n",
       "    </tr>\n",
       "    <tr>\n",
       "      <td>more</td>\n",
       "      <td>68829.0</td>\n",
       "      <td>13377.865624</td>\n",
       "      <td>14763.291676</td>\n",
       "      <td>522.0</td>\n",
       "      <td>5000.0</td>\n",
       "      <td>9995.0</td>\n",
       "      <td>18500.0</td>\n",
       "      <td>1950000.0</td>\n",
       "    </tr>\n",
       "  </tbody>\n",
       "</table>\n",
       "</div>"
      ],
      "text/plain": [
       "             count          mean           std    min     25%     50%  \\\n",
       "cylinders                                                               \n",
       "less       30748.0   8381.307435   8331.895593  549.0  4000.0  6987.0   \n",
       "more       68829.0  13377.865624  14763.291676  522.0  5000.0  9995.0   \n",
       "\n",
       "               75%        max  \n",
       "cylinders                      \n",
       "less       10998.0  1000000.0  \n",
       "more       18500.0  1950000.0  "
      ]
     },
     "execution_count": 105,
     "metadata": {},
     "output_type": "execute_result"
    }
   ],
   "source": [
    "cylindergroup_price = df.groupby('cylinders')['price'].describe()\n",
    "cylindergroup_price"
   ]
  },
  {
   "cell_type": "code",
   "execution_count": 106,
   "metadata": {},
   "outputs": [],
   "source": [
    "less_df =  df.loc[df['cylinders'] == 'less']\n",
    "std1=less_df['price'].std()"
   ]
  },
  {
   "cell_type": "code",
   "execution_count": 107,
   "metadata": {},
   "outputs": [],
   "source": [
    "more_df =  df.loc[df['cylinders'] == 'more']\n",
    "std2=more_df['price'].std()"
   ]
  },
  {
   "cell_type": "code",
   "execution_count": 126,
   "metadata": {},
   "outputs": [
    {
     "data": {
      "text/plain": [
       "-55.527453829295574"
      ]
     },
     "execution_count": 126,
     "metadata": {},
     "output_type": "execute_result"
    }
   ],
   "source": [
    "sp=((((len(less_df)-1)*std1**2)+((len(more_df)-1)*std2**2))/(len(less_df)+len(more_df)-2))**(1/2)\n",
    "t_star = (less_df['price'].mean()-more_df['price'].mean())/(sp*(((1/len(less_df))+(1/len(more_df)))**(1/2)))\n",
    "t_star"
   ]
  },
  {
   "cell_type": "code",
   "execution_count": 128,
   "metadata": {},
   "outputs": [],
   "source": [
    "# t = -55.527453829295574 , df = 99575, p-value = 0.000 -->reject H0"
   ]
  },
  {
   "cell_type": "code",
   "execution_count": 37,
   "metadata": {},
   "outputs": [
    {
     "data": {
      "text/plain": [
       "<matplotlib.axes._subplots.AxesSubplot at 0x1c1b282810>"
      ]
     },
     "execution_count": 37,
     "metadata": {},
     "output_type": "execute_result"
    },
    {
     "data": {
      "image/png": "[encoded data removed]",
      "text/plain": [
       "<Figure size 432x288 with 1 Axes>"
      ]
     },
     "metadata": {
      "needs_background": "light"
     },
     "output_type": "display_data"
    }
   ],
   "source": [
    "sns.barplot(y=df.price, x=df['size'])"
   ]
  },
  {
   "cell_type": "markdown",
   "metadata": {},
   "source": [
    "### Q3: How old, on average, is a car when posted for sale in secondary markets?"
   ]
  },
  {
   "cell_type": "code",
   "execution_count": 38,
   "metadata": {},
   "outputs": [
    {
     "data": {
      "text/plain": [
       "<matplotlib.axes._subplots.AxesSubplot at 0x1c2e77fad0>"
      ]
     },
     "execution_count": 38,
     "metadata": {},
     "output_type": "execute_result"
    },
    {
     "data": {
      "image/png": "[encoded data removed]",
      "text/plain": [
       "<Figure size 432x288 with 1 Axes>"
      ]
     },
     "metadata": {
      "needs_background": "light"
     },
     "output_type": "display_data"
    }
   ],
   "source": [
    "sns.distplot(df['age'])"
   ]
  },
  {
   "cell_type": "code",
   "execution_count": 42,
   "metadata": {},
   "outputs": [
    {
     "data": {
      "text/plain": [
       "count    99577.000000\n",
       "mean        11.377597\n",
       "std          7.602129\n",
       "min         -1.000000\n",
       "25%          6.000000\n",
       "50%         10.000000\n",
       "75%         15.000000\n",
       "max        103.000000\n",
       "Name: age, dtype: float64"
      ]
     },
     "execution_count": 42,
     "metadata": {},
     "output_type": "execute_result"
    }
   ],
   "source": [
    "df['age'].describe()"
   ]
  },
  {
   "cell_type": "code",
   "execution_count": 48,
   "metadata": {},
   "outputs": [
    {
     "data": {
      "text/plain": [
       "(11.330379074369853, 11.424815398249327)"
      ]
     },
     "execution_count": 48,
     "metadata": {},
     "output_type": "execute_result"
    }
   ],
   "source": [
    "n = len(df['age'])\n",
    "dr_mean = df['age'].mean()\n",
    "dr_std = df['age'].std()\n",
    "t_value_dr = stats.t.ppf(0.975, n-1)\n",
    "margin_error_dr = t_value_dr*dr_std/(n**0.5)\n",
    "conf_int_dr = (dr_mean - margin_error_dr, dr_mean + margin_error_dr)\n",
    "conf_int_dr"
   ]
  },
  {
   "cell_type": "code",
   "execution_count": 130,
   "metadata": {},
   "outputs": [
    {
     "data": {
      "text/plain": [
       "'We can say with 95% confidence that a similar sample will have a mean number of age between 11.33 and 11.42 years.'"
      ]
     },
     "execution_count": 130,
     "metadata": {},
     "output_type": "execute_result"
    }
   ],
   "source": [
    "# graphic and sentence \n",
    "\"\"\"We can say with 95% confidence that a similar sample will have a mean number of age between 11.33 and 11.42 years.\"\"\""
   ]
  },
  {
   "cell_type": "code",
   "execution_count": 57,
   "metadata": {},
   "outputs": [
    {
     "data": {
      "text/plain": [
       "<matplotlib.axes._subplots.AxesSubplot at 0x1c41540ed0>"
      ]
     },
     "execution_count": 57,
     "metadata": {},
     "output_type": "execute_result"
    },
    {
     "data": {
      "image/png": "[encoded data removed]",
      "text/plain": [
       "<Figure size 432x288 with 1 Axes>"
      ]
     },
     "metadata": {
      "needs_background": "light"
     },
     "output_type": "display_data"
    }
   ],
   "source": [
    "sns.boxplot(y=df['age'],showfliers=False)"
   ]
  },
  {
   "cell_type": "code",
   "execution_count": null,
   "metadata": {},
   "outputs": [],
   "source": []
  },
  {
   "cell_type": "code",
   "execution_count": 44,
   "metadata": {},
   "outputs": [
    {
     "data": {
      "text/plain": [
       "0        2.079442\n",
       "1        2.484907\n",
       "2        2.772589\n",
       "3        2.772589\n",
       "4        1.609438\n",
       "           ...   \n",
       "99572    2.079442\n",
       "99573    2.484907\n",
       "99574    1.791759\n",
       "99575    0.693147\n",
       "99576    1.386294\n",
       "Name: age, Length: 99494, dtype: float64"
      ]
     },
     "execution_count": 44,
     "metadata": {},
     "output_type": "execute_result"
    }
   ],
   "source": [
    "log_age_array = np.log(df[df['age'] > 0]['age'])\n",
    "log_age_array"
   ]
  },
  {
   "cell_type": "code",
   "execution_count": 45,
   "metadata": {},
   "outputs": [
    {
     "data": {
      "text/plain": [
       "Text(0, 0.5, 'frequency')"
      ]
     },
     "execution_count": 45,
     "metadata": {},
     "output_type": "execute_result"
    },
    {
     "data": {
      "image/png": "[encoded data removed]",
      "text/plain": [
       "<Figure size 432x288 with 1 Axes>"
      ]
     },
     "metadata": {
      "needs_background": "light"
     },
     "output_type": "display_data"
    }
   ],
   "source": [
    "sns.distplot(log_age_array)\n",
    "plt.xlabel('log age of the car')\n",
    "plt.ylabel('frequency')"
   ]
  },
  {
   "cell_type": "code",
   "execution_count": 72,
   "metadata": {},
   "outputs": [],
   "source": [
    "dummies_df.columns = ['price', 'odometer', 'title_status', 'transmission', 'drive',\n",
    "       'paint_color', 'coast', 'log_price', 'age', 'manufacturer_euro',\n",
    "       'manufacturer_usa', 'condition_ok', 'condition_poor', 'cylinders_4',\n",
    "       'cylinders_5', 'cylinders_6', 'cylinders_8', 'cylinders_10',\n",
    "       'fuel_gas', 'fuel_other', 'size_full_size', 'size_mid_size',\n",
    "       'size_sub_compact', 'type_suv', 'type_truck', 'type_van']"
   ]
  },
  {
   "cell_type": "code",
   "execution_count": 74,
   "metadata": {},
   "outputs": [
    {
     "data": {
      "text/plain": [
       "0        0\n",
       "1        0\n",
       "2        0\n",
       "3        0\n",
       "4        0\n",
       "        ..\n",
       "99572    0\n",
       "99573    0\n",
       "99574    0\n",
       "99575    0\n",
       "99576    0\n",
       "Name: cylinders_5, Length: 99577, dtype: uint8"
      ]
     },
     "execution_count": 74,
     "metadata": {},
     "output_type": "execute_result"
    }
   ],
   "source": [
    "dummies_df['cylinders_5']"
   ]
  },
  {
   "cell_type": "code",
   "execution_count": 79,
   "metadata": {},
   "outputs": [],
   "source": [
    "# mlr_model = ols(formula='log_price~odometer+age',data=dummies_df).fit()\n",
    "# mlr_model.summary()"
   ]
  },
  {
   "cell_type": "code",
   "execution_count": 75,
   "metadata": {
    "scrolled": true
   },
   "outputs": [
    {
     "data": {
      "text/html": [
       "<table class=\"simpletable\">\n",
       "<caption>OLS Regression Results</caption>\n",
       "<tr>\n",
       "  <th>Dep. Variable:</th>        <td>log_price</td>    <th>  R-squared:         </th> <td>   0.636</td> \n",
       "</tr>\n",
       "<tr>\n",
       "  <th>Model:</th>                   <td>OLS</td>       <th>  Adj. R-squared:    </th> <td>   0.636</td> \n",
       "</tr>\n",
       "<tr>\n",
       "  <th>Method:</th>             <td>Least Squares</td>  <th>  F-statistic:       </th> <td>   7246.</td> \n",
       "</tr>\n",
       "<tr>\n",
       "  <th>Date:</th>             <td>Tue, 25 Feb 2020</td> <th>  Prob (F-statistic):</th>  <td>  0.00</td>  \n",
       "</tr>\n",
       "<tr>\n",
       "  <th>Time:</th>                 <td>15:13:34</td>     <th>  Log-Likelihood:    </th> <td> -74478.</td> \n",
       "</tr>\n",
       "<tr>\n",
       "  <th>No. Observations:</th>      <td> 99577</td>      <th>  AIC:               </th> <td>1.490e+05</td>\n",
       "</tr>\n",
       "<tr>\n",
       "  <th>Df Residuals:</th>          <td> 99552</td>      <th>  BIC:               </th> <td>1.492e+05</td>\n",
       "</tr>\n",
       "<tr>\n",
       "  <th>Df Model:</th>              <td>    24</td>      <th>                     </th>     <td> </td>    \n",
       "</tr>\n",
       "<tr>\n",
       "  <th>Covariance Type:</th>      <td>nonrobust</td>    <th>                     </th>     <td> </td>    \n",
       "</tr>\n",
       "</table>\n",
       "<table class=\"simpletable\">\n",
       "<tr>\n",
       "          <td></td>             <th>coef</th>     <th>std err</th>      <th>t</th>      <th>P>|t|</th>  <th>[0.025</th>    <th>0.975]</th>  \n",
       "</tr>\n",
       "<tr>\n",
       "  <th>Intercept</th>         <td>   10.4667</td> <td>    0.053</td> <td>  199.280</td> <td> 0.000</td> <td>   10.364</td> <td>   10.570</td>\n",
       "</tr>\n",
       "<tr>\n",
       "  <th>odometer</th>          <td>-6.166e-06</td> <td> 2.89e-08</td> <td> -213.063</td> <td> 0.000</td> <td>-6.22e-06</td> <td>-6.11e-06</td>\n",
       "</tr>\n",
       "<tr>\n",
       "  <th>title_status</th>      <td>    0.0153</td> <td>    0.011</td> <td>    1.456</td> <td> 0.145</td> <td>   -0.005</td> <td>    0.036</td>\n",
       "</tr>\n",
       "<tr>\n",
       "  <th>transmission</th>      <td>   -0.2087</td> <td>    0.007</td> <td>  -30.174</td> <td> 0.000</td> <td>   -0.222</td> <td>   -0.195</td>\n",
       "</tr>\n",
       "<tr>\n",
       "  <th>drive</th>             <td>    0.2148</td> <td>    0.004</td> <td>   51.766</td> <td> 0.000</td> <td>    0.207</td> <td>    0.223</td>\n",
       "</tr>\n",
       "<tr>\n",
       "  <th>paint_color</th>       <td>   -0.0696</td> <td>    0.008</td> <td>   -8.565</td> <td> 0.000</td> <td>   -0.086</td> <td>   -0.054</td>\n",
       "</tr>\n",
       "<tr>\n",
       "  <th>coast</th>             <td>   -0.0792</td> <td>    0.004</td> <td>  -20.659</td> <td> 0.000</td> <td>   -0.087</td> <td>   -0.072</td>\n",
       "</tr>\n",
       "<tr>\n",
       "  <th>age</th>               <td>   -0.0338</td> <td>    0.000</td> <td> -139.052</td> <td> 0.000</td> <td>   -0.034</td> <td>   -0.033</td>\n",
       "</tr>\n",
       "<tr>\n",
       "  <th>manufacturer_euro</th> <td>    0.0322</td> <td>    0.006</td> <td>    5.000</td> <td> 0.000</td> <td>    0.020</td> <td>    0.045</td>\n",
       "</tr>\n",
       "<tr>\n",
       "  <th>manufacturer_usa</th>  <td>   -0.0804</td> <td>    0.004</td> <td>  -19.313</td> <td> 0.000</td> <td>   -0.089</td> <td>   -0.072</td>\n",
       "</tr>\n",
       "<tr>\n",
       "  <th>condition_ok</th>      <td>   -0.1385</td> <td>    0.003</td> <td>  -41.248</td> <td> 0.000</td> <td>   -0.145</td> <td>   -0.132</td>\n",
       "</tr>\n",
       "<tr>\n",
       "  <th>condition_poor</th>    <td>   -0.8156</td> <td>    0.009</td> <td>  -87.745</td> <td> 0.000</td> <td>   -0.834</td> <td>   -0.797</td>\n",
       "</tr>\n",
       "<tr>\n",
       "  <th>cylinders_4</th>       <td>    0.1715</td> <td>    0.050</td> <td>    3.426</td> <td> 0.001</td> <td>    0.073</td> <td>    0.270</td>\n",
       "</tr>\n",
       "<tr>\n",
       "  <th>cylinders_5</th>       <td>    0.1047</td> <td>    0.053</td> <td>    1.982</td> <td> 0.047</td> <td>    0.001</td> <td>    0.208</td>\n",
       "</tr>\n",
       "<tr>\n",
       "  <th>cylinders_6</th>       <td>    0.3549</td> <td>    0.050</td> <td>    7.077</td> <td> 0.000</td> <td>    0.257</td> <td>    0.453</td>\n",
       "</tr>\n",
       "<tr>\n",
       "  <th>cylinders_8</th>       <td>    0.6456</td> <td>    0.050</td> <td>   12.841</td> <td> 0.000</td> <td>    0.547</td> <td>    0.744</td>\n",
       "</tr>\n",
       "<tr>\n",
       "  <th>cylinders_10</th>      <td>    0.8316</td> <td>    0.053</td> <td>   15.559</td> <td> 0.000</td> <td>    0.727</td> <td>    0.936</td>\n",
       "</tr>\n",
       "<tr>\n",
       "  <th>fuel_gas</th>          <td>   -0.6241</td> <td>    0.007</td> <td>  -93.641</td> <td> 0.000</td> <td>   -0.637</td> <td>   -0.611</td>\n",
       "</tr>\n",
       "<tr>\n",
       "  <th>fuel_other</th>        <td>   -0.4115</td> <td>    0.017</td> <td>  -24.172</td> <td> 0.000</td> <td>   -0.445</td> <td>   -0.378</td>\n",
       "</tr>\n",
       "<tr>\n",
       "  <th>size_full_size</th>    <td>    0.0727</td> <td>    0.006</td> <td>   11.676</td> <td> 0.000</td> <td>    0.061</td> <td>    0.085</td>\n",
       "</tr>\n",
       "<tr>\n",
       "  <th>size_mid_size</th>     <td>    0.0243</td> <td>    0.006</td> <td>    4.095</td> <td> 0.000</td> <td>    0.013</td> <td>    0.036</td>\n",
       "</tr>\n",
       "<tr>\n",
       "  <th>size_sub_compact</th>  <td>    0.0316</td> <td>    0.014</td> <td>    2.211</td> <td> 0.027</td> <td>    0.004</td> <td>    0.060</td>\n",
       "</tr>\n",
       "<tr>\n",
       "  <th>type_suv</th>          <td>    0.1613</td> <td>    0.005</td> <td>   32.115</td> <td> 0.000</td> <td>    0.151</td> <td>    0.171</td>\n",
       "</tr>\n",
       "<tr>\n",
       "  <th>type_truck</th>        <td>    0.3509</td> <td>    0.006</td> <td>   59.536</td> <td> 0.000</td> <td>    0.339</td> <td>    0.362</td>\n",
       "</tr>\n",
       "<tr>\n",
       "  <th>type_van</th>          <td>    0.1678</td> <td>    0.008</td> <td>   22.348</td> <td> 0.000</td> <td>    0.153</td> <td>    0.183</td>\n",
       "</tr>\n",
       "</table>\n",
       "<table class=\"simpletable\">\n",
       "<tr>\n",
       "  <th>Omnibus:</th>       <td>12271.351</td> <th>  Durbin-Watson:     </th>  <td>   1.666</td> \n",
       "</tr>\n",
       "<tr>\n",
       "  <th>Prob(Omnibus):</th>  <td> 0.000</td>   <th>  Jarque-Bera (JB):  </th> <td>137929.014</td>\n",
       "</tr>\n",
       "<tr>\n",
       "  <th>Skew:</th>           <td>-0.094</td>   <th>  Prob(JB):          </th>  <td>    0.00</td> \n",
       "</tr>\n",
       "<tr>\n",
       "  <th>Kurtosis:</th>       <td> 8.763</td>   <th>  Cond. No.          </th>  <td>9.95e+06</td> \n",
       "</tr>\n",
       "</table><br/><br/>Warnings:<br/>[1] Standard Errors assume that the covariance matrix of the errors is correctly specified.<br/>[2] The condition number is large, 9.95e+06. This might indicate that there are<br/>strong multicollinearity or other numerical problems."
      ],
      "text/plain": [
       "<class 'statsmodels.iolib.summary.Summary'>\n",
       "\"\"\"\n",
       "                            OLS Regression Results                            \n",
       "==============================================================================\n",
       "Dep. Variable:              log_price   R-squared:                       0.636\n",
       "Model:                            OLS   Adj. R-squared:                  0.636\n",
       "Method:                 Least Squares   F-statistic:                     7246.\n",
       "Date:                Tue, 25 Feb 2020   Prob (F-statistic):               0.00\n",
       "Time:                        15:13:34   Log-Likelihood:                -74478.\n",
       "No. Observations:               99577   AIC:                         1.490e+05\n",
       "Df Residuals:                   99552   BIC:                         1.492e+05\n",
       "Df Model:                          24                                         \n",
       "Covariance Type:            nonrobust                                         \n",
       "=====================================================================================\n",
       "                        coef    std err          t      P>|t|      [0.025      0.975]\n",
       "-------------------------------------------------------------------------------------\n",
       "Intercept            10.4667      0.053    199.280      0.000      10.364      10.570\n",
       "odometer          -6.166e-06   2.89e-08   -213.063      0.000   -6.22e-06   -6.11e-06\n",
       "title_status          0.0153      0.011      1.456      0.145      -0.005       0.036\n",
       "transmission         -0.2087      0.007    -30.174      0.000      -0.222      -0.195\n",
       "drive                 0.2148      0.004     51.766      0.000       0.207       0.223\n",
       "paint_color          -0.0696      0.008     -8.565      0.000      -0.086      -0.054\n",
       "coast                -0.0792      0.004    -20.659      0.000      -0.087      -0.072\n",
       "age                  -0.0338      0.000   -139.052      0.000      -0.034      -0.033\n",
       "manufacturer_euro     0.0322      0.006      5.000      0.000       0.020       0.045\n",
       "manufacturer_usa     -0.0804      0.004    -19.313      0.000      -0.089      -0.072\n",
       "condition_ok         -0.1385      0.003    -41.248      0.000      -0.145      -0.132\n",
       "condition_poor       -0.8156      0.009    -87.745      0.000      -0.834      -0.797\n",
       "cylinders_4           0.1715      0.050      3.426      0.001       0.073       0.270\n",
       "cylinders_5           0.1047      0.053      1.982      0.047       0.001       0.208\n",
       "cylinders_6           0.3549      0.050      7.077      0.000       0.257       0.453\n",
       "cylinders_8           0.6456      0.050     12.841      0.000       0.547       0.744\n",
       "cylinders_10          0.8316      0.053     15.559      0.000       0.727       0.936\n",
       "fuel_gas             -0.6241      0.007    -93.641      0.000      -0.637      -0.611\n",
       "fuel_other           -0.4115      0.017    -24.172      0.000      -0.445      -0.378\n",
       "size_full_size        0.0727      0.006     11.676      0.000       0.061       0.085\n",
       "size_mid_size         0.0243      0.006      4.095      0.000       0.013       0.036\n",
       "size_sub_compact      0.0316      0.014      2.211      0.027       0.004       0.060\n",
       "type_suv              0.1613      0.005     32.115      0.000       0.151       0.171\n",
       "type_truck            0.3509      0.006     59.536      0.000       0.339       0.362\n",
       "type_van              0.1678      0.008     22.348      0.000       0.153       0.183\n",
       "==============================================================================\n",
       "Omnibus:                    12271.351   Durbin-Watson:                   1.666\n",
       "Prob(Omnibus):                  0.000   Jarque-Bera (JB):           137929.014\n",
       "Skew:                          -0.094   Prob(JB):                         0.00\n",
       "Kurtosis:                       8.763   Cond. No.                     9.95e+06\n",
       "==============================================================================\n",
       "\n",
       "Warnings:\n",
       "[1] Standard Errors assume that the covariance matrix of the errors is correctly specified.\n",
       "[2] The condition number is large, 9.95e+06. This might indicate that there are\n",
       "strong multicollinearity or other numerical problems.\n",
       "\"\"\""
      ]
     },
     "execution_count": 75,
     "metadata": {},
     "output_type": "execute_result"
    }
   ],
   "source": [
    "mlr_model = ols(formula='log_price~odometer +title_status+transmission+drive+paint_color+coast+age+manufacturer_euro+manufacturer_usa+condition_ok+condition_poor+cylinders_4+cylinders_5+cylinders_6+cylinders_8+cylinders_10+fuel_gas+fuel_other+size_full_size+size_mid_size+size_sub_compact+type_suv+type_truck+type_van', data=dummies_df).fit()\n",
    "mlr_model.summary()"
   ]
  },
  {
   "cell_type": "code",
   "execution_count": 64,
   "metadata": {},
   "outputs": [
    {
     "data": {
      "text/plain": [
       "Index(['price', 'odometer', 'title_status', 'transmission', 'drive',\n",
       "       'paint_color', 'coast', 'log_price', 'age', 'manufacturer_euro',\n",
       "       'manufacturer_usa', 'condition_ok', 'condition_poor', 'cylinders_4.0',\n",
       "       'cylinders_5.0', 'cylinders_6.0', 'cylinders_8.0', 'cylinders_10.0',\n",
       "       'fuel_gas', 'fuel_other', 'size_full-size', 'size_mid-size',\n",
       "       'size_sub-compact', 'type_suv', 'type_truck', 'type_van'],\n",
       "      dtype='object')"
      ]
     },
     "execution_count": 64,
     "metadata": {},
     "output_type": "execute_result"
    }
   ],
   "source": [
    "dummies_df.columns"
   ]
  },
  {
   "cell_type": "code",
   "execution_count": 41,
   "metadata": {},
   "outputs": [
    {
     "data": {
      "text/html": [
       "<div>\n",
       "<style scoped>\n",
       "    .dataframe tbody tr th:only-of-type {\n",
       "        vertical-align: middle;\n",
       "    }\n",
       "\n",
       "    .dataframe tbody tr th {\n",
       "        vertical-align: top;\n",
       "    }\n",
       "\n",
       "    .dataframe thead th {\n",
       "        text-align: right;\n",
       "    }\n",
       "</style>\n",
       "<table border=\"1\" class=\"dataframe\">\n",
       "  <thead>\n",
       "    <tr style=\"text-align: right;\">\n",
       "      <th></th>\n",
       "      <th>price</th>\n",
       "      <th>manufacturer</th>\n",
       "      <th>condition</th>\n",
       "      <th>cylinders</th>\n",
       "      <th>fuel</th>\n",
       "      <th>odometer</th>\n",
       "      <th>title_status</th>\n",
       "      <th>transmission</th>\n",
       "      <th>drive</th>\n",
       "      <th>size</th>\n",
       "      <th>type</th>\n",
       "      <th>paint_color</th>\n",
       "      <th>coast</th>\n",
       "      <th>log_price</th>\n",
       "      <th>age</th>\n",
       "    </tr>\n",
       "  </thead>\n",
       "  <tbody>\n",
       "    <tr>\n",
       "      <td>0</td>\n",
       "      <td>17899.0</td>\n",
       "      <td>euro</td>\n",
       "      <td>good</td>\n",
       "      <td>4.0</td>\n",
       "      <td>gas</td>\n",
       "      <td>63500.0</td>\n",
       "      <td>1</td>\n",
       "      <td>0.0</td>\n",
       "      <td>1.0</td>\n",
       "      <td>compact</td>\n",
       "      <td>car</td>\n",
       "      <td>1.0</td>\n",
       "      <td>0</td>\n",
       "      <td>9.792500</td>\n",
       "      <td>8.0</td>\n",
       "    </tr>\n",
       "    <tr>\n",
       "      <td>1</td>\n",
       "      <td>4600.0</td>\n",
       "      <td>asia</td>\n",
       "      <td>ok</td>\n",
       "      <td>4.0</td>\n",
       "      <td>gas</td>\n",
       "      <td>110982.0</td>\n",
       "      <td>1</td>\n",
       "      <td>1.0</td>\n",
       "      <td>0.0</td>\n",
       "      <td>mid-size</td>\n",
       "      <td>car</td>\n",
       "      <td>1.0</td>\n",
       "      <td>0</td>\n",
       "      <td>8.433812</td>\n",
       "      <td>12.0</td>\n",
       "    </tr>\n",
       "    <tr>\n",
       "      <td>2</td>\n",
       "      <td>28000.0</td>\n",
       "      <td>usa</td>\n",
       "      <td>ok</td>\n",
       "      <td>10.0</td>\n",
       "      <td>gas</td>\n",
       "      <td>67348.0</td>\n",
       "      <td>1</td>\n",
       "      <td>1.0</td>\n",
       "      <td>1.0</td>\n",
       "      <td>full-size</td>\n",
       "      <td>truck</td>\n",
       "      <td>1.0</td>\n",
       "      <td>0</td>\n",
       "      <td>10.239960</td>\n",
       "      <td>16.0</td>\n",
       "    </tr>\n",
       "    <tr>\n",
       "      <td>3</td>\n",
       "      <td>2500.0</td>\n",
       "      <td>usa</td>\n",
       "      <td>ok</td>\n",
       "      <td>6.0</td>\n",
       "      <td>gas</td>\n",
       "      <td>129000.0</td>\n",
       "      <td>1</td>\n",
       "      <td>0.0</td>\n",
       "      <td>0.0</td>\n",
       "      <td>full-size</td>\n",
       "      <td>car</td>\n",
       "      <td>1.0</td>\n",
       "      <td>0</td>\n",
       "      <td>7.824046</td>\n",
       "      <td>16.0</td>\n",
       "    </tr>\n",
       "    <tr>\n",
       "      <td>4</td>\n",
       "      <td>12000.0</td>\n",
       "      <td>euro</td>\n",
       "      <td>ok</td>\n",
       "      <td>4.0</td>\n",
       "      <td>gas</td>\n",
       "      <td>65000.0</td>\n",
       "      <td>1</td>\n",
       "      <td>1.0</td>\n",
       "      <td>0.0</td>\n",
       "      <td>full-size</td>\n",
       "      <td>car</td>\n",
       "      <td>1.0</td>\n",
       "      <td>0</td>\n",
       "      <td>9.392662</td>\n",
       "      <td>5.0</td>\n",
       "    </tr>\n",
       "  </tbody>\n",
       "</table>\n",
       "</div>"
      ],
      "text/plain": [
       "     price manufacturer condition  cylinders fuel  odometer  title_status  \\\n",
       "0  17899.0         euro      good        4.0  gas   63500.0             1   \n",
       "1   4600.0         asia        ok        4.0  gas  110982.0             1   \n",
       "2  28000.0          usa        ok       10.0  gas   67348.0             1   \n",
       "3   2500.0          usa        ok        6.0  gas  129000.0             1   \n",
       "4  12000.0         euro        ok        4.0  gas   65000.0             1   \n",
       "\n",
       "   transmission  drive       size   type  paint_color  coast  log_price   age  \n",
       "0           0.0    1.0    compact    car          1.0      0   9.792500   8.0  \n",
       "1           1.0    0.0   mid-size    car          1.0      0   8.433812  12.0  \n",
       "2           1.0    1.0  full-size  truck          1.0      0  10.239960  16.0  \n",
       "3           0.0    0.0  full-size    car          1.0      0   7.824046  16.0  \n",
       "4           1.0    0.0  full-size    car          1.0      0   9.392662   5.0  "
      ]
     },
     "execution_count": 41,
     "metadata": {},
     "output_type": "execute_result"
    }
   ],
   "source": [
    "df.head()"
   ]
  },
  {
   "cell_type": "code",
   "execution_count": 42,
   "metadata": {},
   "outputs": [],
   "source": [
    "cols = ['cylinders', 'odometer', 'title_status', 'transmission', 'drive', 'paint_color', 'coast', 'age']"
   ]
  },
  {
   "cell_type": "code",
   "execution_count": 43,
   "metadata": {},
   "outputs": [],
   "source": [
    "n = 4\n",
    "row_groups = [cols[i:i+n] for i in range(0, len(cols) , n) ]"
   ]
  },
  {
   "cell_type": "code",
   "execution_count": 44,
   "metadata": {},
   "outputs": [
    {
     "data": {
      "image/png": "[encoded data removed]",
      "text/plain": [
       "<Figure size 864x216 with 4 Axes>"
      ]
     },
     "metadata": {
      "needs_background": "light"
     },
     "output_type": "display_data"
    },
    {
     "data": {
      "image/png": "[encoded data removed]",
      "text/plain": [
       "<Figure size 864x216 with 4 Axes>"
      ]
     },
     "metadata": {
      "needs_background": "light"
     },
     "output_type": "display_data"
    }
   ],
   "source": [
    "for i in row_groups:\n",
    "    eda = sns.pairplot(data=df, y_vars=['log_price'], x_vars=i, kind='reg', height =3)"
   ]
  },
  {
   "cell_type": "code",
   "execution_count": 45,
   "metadata": {},
   "outputs": [
    {
     "data": {
      "image/png": "[encoded data removed]",
      "text/plain": [
       "<Figure size 864x216 with 4 Axes>"
      ]
     },
     "metadata": {
      "needs_background": "light"
     },
     "output_type": "display_data"
    },
    {
     "data": {
      "image/png": "[encoded data removed]",
      "text/plain": [
       "<Figure size 864x216 with 4 Axes>"
      ]
     },
     "metadata": {
      "needs_background": "light"
     },
     "output_type": "display_data"
    }
   ],
   "source": [
    "for i in row_groups:\n",
    "    eda = sns.pairplot(data=df, y_vars=['price'], x_vars=i, kind='reg', height =3)"
   ]
  },
  {
   "cell_type": "code",
   "execution_count": 61,
   "metadata": {},
   "outputs": [],
   "source": [
    "dummies_df = pd.get_dummies(df, columns = ['manufacturer', 'condition', 'cylinders', 'fuel', 'size', 'type'], drop_first = True)"
   ]
  },
  {
   "cell_type": "code",
   "execution_count": 63,
   "metadata": {},
   "outputs": [
    {
     "data": {
      "text/html": [
       "<div>\n",
       "<style scoped>\n",
       "    .dataframe tbody tr th:only-of-type {\n",
       "        vertical-align: middle;\n",
       "    }\n",
       "\n",
       "    .dataframe tbody tr th {\n",
       "        vertical-align: top;\n",
       "    }\n",
       "\n",
       "    .dataframe thead th {\n",
       "        text-align: right;\n",
       "    }\n",
       "</style>\n",
       "<table border=\"1\" class=\"dataframe\">\n",
       "  <thead>\n",
       "    <tr style=\"text-align: right;\">\n",
       "      <th></th>\n",
       "      <th>price</th>\n",
       "      <th>odometer</th>\n",
       "      <th>title_status</th>\n",
       "      <th>transmission</th>\n",
       "      <th>drive</th>\n",
       "      <th>paint_color</th>\n",
       "      <th>coast</th>\n",
       "      <th>log_price</th>\n",
       "      <th>age</th>\n",
       "      <th>manufacturer_euro</th>\n",
       "      <th>manufacturer_usa</th>\n",
       "      <th>condition_ok</th>\n",
       "      <th>condition_poor</th>\n",
       "      <th>cylinders_4.0</th>\n",
       "      <th>cylinders_5.0</th>\n",
       "      <th>cylinders_6.0</th>\n",
       "      <th>cylinders_8.0</th>\n",
       "      <th>cylinders_10.0</th>\n",
       "      <th>fuel_gas</th>\n",
       "      <th>fuel_other</th>\n",
       "      <th>size_full-size</th>\n",
       "      <th>size_mid-size</th>\n",
       "      <th>size_sub-compact</th>\n",
       "      <th>type_suv</th>\n",
       "      <th>type_truck</th>\n",
       "      <th>type_van</th>\n",
       "    </tr>\n",
       "  </thead>\n",
       "  <tbody>\n",
       "    <tr>\n",
       "      <td>0</td>\n",
       "      <td>17899.0</td>\n",
       "      <td>63500.0</td>\n",
       "      <td>1</td>\n",
       "      <td>0.0</td>\n",
       "      <td>1.0</td>\n",
       "      <td>1.0</td>\n",
       "      <td>0</td>\n",
       "      <td>9.792500</td>\n",
       "      <td>8.0</td>\n",
       "      <td>1</td>\n",
       "      <td>0</td>\n",
       "      <td>0</td>\n",
       "      <td>0</td>\n",
       "      <td>1</td>\n",
       "      <td>0</td>\n",
       "      <td>0</td>\n",
       "      <td>0</td>\n",
       "      <td>0</td>\n",
       "      <td>1</td>\n",
       "      <td>0</td>\n",
       "      <td>0</td>\n",
       "      <td>0</td>\n",
       "      <td>0</td>\n",
       "      <td>0</td>\n",
       "      <td>0</td>\n",
       "      <td>0</td>\n",
       "    </tr>\n",
       "    <tr>\n",
       "      <td>1</td>\n",
       "      <td>4600.0</td>\n",
       "      <td>110982.0</td>\n",
       "      <td>1</td>\n",
       "      <td>1.0</td>\n",
       "      <td>0.0</td>\n",
       "      <td>1.0</td>\n",
       "      <td>0</td>\n",
       "      <td>8.433812</td>\n",
       "      <td>12.0</td>\n",
       "      <td>0</td>\n",
       "      <td>0</td>\n",
       "      <td>1</td>\n",
       "      <td>0</td>\n",
       "      <td>1</td>\n",
       "      <td>0</td>\n",
       "      <td>0</td>\n",
       "      <td>0</td>\n",
       "      <td>0</td>\n",
       "      <td>1</td>\n",
       "      <td>0</td>\n",
       "      <td>0</td>\n",
       "      <td>1</td>\n",
       "      <td>0</td>\n",
       "      <td>0</td>\n",
       "      <td>0</td>\n",
       "      <td>0</td>\n",
       "    </tr>\n",
       "    <tr>\n",
       "      <td>2</td>\n",
       "      <td>28000.0</td>\n",
       "      <td>67348.0</td>\n",
       "      <td>1</td>\n",
       "      <td>1.0</td>\n",
       "      <td>1.0</td>\n",
       "      <td>1.0</td>\n",
       "      <td>0</td>\n",
       "      <td>10.239960</td>\n",
       "      <td>16.0</td>\n",
       "      <td>0</td>\n",
       "      <td>1</td>\n",
       "      <td>1</td>\n",
       "      <td>0</td>\n",
       "      <td>0</td>\n",
       "      <td>0</td>\n",
       "      <td>0</td>\n",
       "      <td>0</td>\n",
       "      <td>1</td>\n",
       "      <td>1</td>\n",
       "      <td>0</td>\n",
       "      <td>1</td>\n",
       "      <td>0</td>\n",
       "      <td>0</td>\n",
       "      <td>0</td>\n",
       "      <td>1</td>\n",
       "      <td>0</td>\n",
       "    </tr>\n",
       "    <tr>\n",
       "      <td>3</td>\n",
       "      <td>2500.0</td>\n",
       "      <td>129000.0</td>\n",
       "      <td>1</td>\n",
       "      <td>0.0</td>\n",
       "      <td>0.0</td>\n",
       "      <td>1.0</td>\n",
       "      <td>0</td>\n",
       "      <td>7.824046</td>\n",
       "      <td>16.0</td>\n",
       "      <td>0</td>\n",
       "      <td>1</td>\n",
       "      <td>1</td>\n",
       "      <td>0</td>\n",
       "      <td>0</td>\n",
       "      <td>0</td>\n",
       "      <td>1</td>\n",
       "      <td>0</td>\n",
       "      <td>0</td>\n",
       "      <td>1</td>\n",
       "      <td>0</td>\n",
       "      <td>1</td>\n",
       "      <td>0</td>\n",
       "      <td>0</td>\n",
       "      <td>0</td>\n",
       "      <td>0</td>\n",
       "      <td>0</td>\n",
       "    </tr>\n",
       "    <tr>\n",
       "      <td>4</td>\n",
       "      <td>12000.0</td>\n",
       "      <td>65000.0</td>\n",
       "      <td>1</td>\n",
       "      <td>1.0</td>\n",
       "      <td>0.0</td>\n",
       "      <td>1.0</td>\n",
       "      <td>0</td>\n",
       "      <td>9.392662</td>\n",
       "      <td>5.0</td>\n",
       "      <td>1</td>\n",
       "      <td>0</td>\n",
       "      <td>1</td>\n",
       "      <td>0</td>\n",
       "      <td>1</td>\n",
       "      <td>0</td>\n",
       "      <td>0</td>\n",
       "      <td>0</td>\n",
       "      <td>0</td>\n",
       "      <td>1</td>\n",
       "      <td>0</td>\n",
       "      <td>1</td>\n",
       "      <td>0</td>\n",
       "      <td>0</td>\n",
       "      <td>0</td>\n",
       "      <td>0</td>\n",
       "      <td>0</td>\n",
       "    </tr>\n",
       "  </tbody>\n",
       "</table>\n",
       "</div>"
      ],
      "text/plain": [
       "     price  odometer  title_status  transmission  drive  paint_color  coast  \\\n",
       "0  17899.0   63500.0             1           0.0    1.0          1.0      0   \n",
       "1   4600.0  110982.0             1           1.0    0.0          1.0      0   \n",
       "2  28000.0   67348.0             1           1.0    1.0          1.0      0   \n",
       "3   2500.0  129000.0             1           0.0    0.0          1.0      0   \n",
       "4  12000.0   65000.0             1           1.0    0.0          1.0      0   \n",
       "\n",
       "   log_price   age  manufacturer_euro  manufacturer_usa  condition_ok  \\\n",
       "0   9.792500   8.0                  1                 0             0   \n",
       "1   8.433812  12.0                  0                 0             1   \n",
       "2  10.239960  16.0                  0                 1             1   \n",
       "3   7.824046  16.0                  0                 1             1   \n",
       "4   9.392662   5.0                  1                 0             1   \n",
       "\n",
       "   condition_poor  cylinders_4.0  cylinders_5.0  cylinders_6.0  cylinders_8.0  \\\n",
       "0               0              1              0              0              0   \n",
       "1               0              1              0              0              0   \n",
       "2               0              0              0              0              0   \n",
       "3               0              0              0              1              0   \n",
       "4               0              1              0              0              0   \n",
       "\n",
       "   cylinders_10.0  fuel_gas  fuel_other  size_full-size  size_mid-size  \\\n",
       "0               0         1           0               0              0   \n",
       "1               0         1           0               0              1   \n",
       "2               1         1           0               1              0   \n",
       "3               0         1           0               1              0   \n",
       "4               0         1           0               1              0   \n",
       "\n",
       "   size_sub-compact  type_suv  type_truck  type_van  \n",
       "0                 0         0           0         0  \n",
       "1                 0         0           0         0  \n",
       "2                 0         0           1         0  \n",
       "3                 0         0           0         0  \n",
       "4                 0         0           0         0  "
      ]
     },
     "execution_count": 63,
     "metadata": {},
     "output_type": "execute_result"
    }
   ],
   "source": [
    "dummies_df.head()"
   ]
  },
  {
   "cell_type": "code",
   "execution_count": 48,
   "metadata": {},
   "outputs": [
    {
     "data": {
      "text/html": [
       "<div>\n",
       "<style scoped>\n",
       "    .dataframe tbody tr th:only-of-type {\n",
       "        vertical-align: middle;\n",
       "    }\n",
       "\n",
       "    .dataframe tbody tr th {\n",
       "        vertical-align: top;\n",
       "    }\n",
       "\n",
       "    .dataframe thead th {\n",
       "        text-align: right;\n",
       "    }\n",
       "</style>\n",
       "<table border=\"1\" class=\"dataframe\">\n",
       "  <thead>\n",
       "    <tr style=\"text-align: right;\">\n",
       "      <th></th>\n",
       "      <th>odometer</th>\n",
       "      <th>title_status</th>\n",
       "      <th>transmission</th>\n",
       "      <th>drive</th>\n",
       "      <th>paint_color</th>\n",
       "      <th>coast</th>\n",
       "      <th>age</th>\n",
       "      <th>manufacturer_euro</th>\n",
       "      <th>manufacturer_usa</th>\n",
       "      <th>condition_ok</th>\n",
       "      <th>condition_poor</th>\n",
       "      <th>cylinders_4.0</th>\n",
       "      <th>cylinders_5.0</th>\n",
       "      <th>cylinders_6.0</th>\n",
       "      <th>cylinders_8.0</th>\n",
       "      <th>cylinders_10.0</th>\n",
       "      <th>fuel_gas</th>\n",
       "      <th>fuel_other</th>\n",
       "      <th>size_full-size</th>\n",
       "      <th>size_mid-size</th>\n",
       "      <th>size_sub-compact</th>\n",
       "      <th>type_suv</th>\n",
       "      <th>type_truck</th>\n",
       "      <th>type_van</th>\n",
       "    </tr>\n",
       "  </thead>\n",
       "  <tbody>\n",
       "    <tr>\n",
       "      <td>0</td>\n",
       "      <td>63500.0</td>\n",
       "      <td>1</td>\n",
       "      <td>0.0</td>\n",
       "      <td>1.0</td>\n",
       "      <td>1.0</td>\n",
       "      <td>0</td>\n",
       "      <td>8.0</td>\n",
       "      <td>1</td>\n",
       "      <td>0</td>\n",
       "      <td>0</td>\n",
       "      <td>0</td>\n",
       "      <td>1</td>\n",
       "      <td>0</td>\n",
       "      <td>0</td>\n",
       "      <td>0</td>\n",
       "      <td>0</td>\n",
       "      <td>1</td>\n",
       "      <td>0</td>\n",
       "      <td>0</td>\n",
       "      <td>0</td>\n",
       "      <td>0</td>\n",
       "      <td>0</td>\n",
       "      <td>0</td>\n",
       "      <td>0</td>\n",
       "    </tr>\n",
       "    <tr>\n",
       "      <td>1</td>\n",
       "      <td>110982.0</td>\n",
       "      <td>1</td>\n",
       "      <td>1.0</td>\n",
       "      <td>0.0</td>\n",
       "      <td>1.0</td>\n",
       "      <td>0</td>\n",
       "      <td>12.0</td>\n",
       "      <td>0</td>\n",
       "      <td>0</td>\n",
       "      <td>1</td>\n",
       "      <td>0</td>\n",
       "      <td>1</td>\n",
       "      <td>0</td>\n",
       "      <td>0</td>\n",
       "      <td>0</td>\n",
       "      <td>0</td>\n",
       "      <td>1</td>\n",
       "      <td>0</td>\n",
       "      <td>0</td>\n",
       "      <td>1</td>\n",
       "      <td>0</td>\n",
       "      <td>0</td>\n",
       "      <td>0</td>\n",
       "      <td>0</td>\n",
       "    </tr>\n",
       "    <tr>\n",
       "      <td>2</td>\n",
       "      <td>67348.0</td>\n",
       "      <td>1</td>\n",
       "      <td>1.0</td>\n",
       "      <td>1.0</td>\n",
       "      <td>1.0</td>\n",
       "      <td>0</td>\n",
       "      <td>16.0</td>\n",
       "      <td>0</td>\n",
       "      <td>1</td>\n",
       "      <td>1</td>\n",
       "      <td>0</td>\n",
       "      <td>0</td>\n",
       "      <td>0</td>\n",
       "      <td>0</td>\n",
       "      <td>0</td>\n",
       "      <td>1</td>\n",
       "      <td>1</td>\n",
       "      <td>0</td>\n",
       "      <td>1</td>\n",
       "      <td>0</td>\n",
       "      <td>0</td>\n",
       "      <td>0</td>\n",
       "      <td>1</td>\n",
       "      <td>0</td>\n",
       "    </tr>\n",
       "    <tr>\n",
       "      <td>3</td>\n",
       "      <td>129000.0</td>\n",
       "      <td>1</td>\n",
       "      <td>0.0</td>\n",
       "      <td>0.0</td>\n",
       "      <td>1.0</td>\n",
       "      <td>0</td>\n",
       "      <td>16.0</td>\n",
       "      <td>0</td>\n",
       "      <td>1</td>\n",
       "      <td>1</td>\n",
       "      <td>0</td>\n",
       "      <td>0</td>\n",
       "      <td>0</td>\n",
       "      <td>1</td>\n",
       "      <td>0</td>\n",
       "      <td>0</td>\n",
       "      <td>1</td>\n",
       "      <td>0</td>\n",
       "      <td>1</td>\n",
       "      <td>0</td>\n",
       "      <td>0</td>\n",
       "      <td>0</td>\n",
       "      <td>0</td>\n",
       "      <td>0</td>\n",
       "    </tr>\n",
       "    <tr>\n",
       "      <td>4</td>\n",
       "      <td>65000.0</td>\n",
       "      <td>1</td>\n",
       "      <td>1.0</td>\n",
       "      <td>0.0</td>\n",
       "      <td>1.0</td>\n",
       "      <td>0</td>\n",
       "      <td>5.0</td>\n",
       "      <td>1</td>\n",
       "      <td>0</td>\n",
       "      <td>1</td>\n",
       "      <td>0</td>\n",
       "      <td>1</td>\n",
       "      <td>0</td>\n",
       "      <td>0</td>\n",
       "      <td>0</td>\n",
       "      <td>0</td>\n",
       "      <td>1</td>\n",
       "      <td>0</td>\n",
       "      <td>1</td>\n",
       "      <td>0</td>\n",
       "      <td>0</td>\n",
       "      <td>0</td>\n",
       "      <td>0</td>\n",
       "      <td>0</td>\n",
       "    </tr>\n",
       "  </tbody>\n",
       "</table>\n",
       "</div>"
      ],
      "text/plain": [
       "   odometer  title_status  transmission  drive  paint_color  coast   age  \\\n",
       "0   63500.0             1           0.0    1.0          1.0      0   8.0   \n",
       "1  110982.0             1           1.0    0.0          1.0      0  12.0   \n",
       "2   67348.0             1           1.0    1.0          1.0      0  16.0   \n",
       "3  129000.0             1           0.0    0.0          1.0      0  16.0   \n",
       "4   65000.0             1           1.0    0.0          1.0      0   5.0   \n",
       "\n",
       "   manufacturer_euro  manufacturer_usa  condition_ok  condition_poor  \\\n",
       "0                  1                 0             0               0   \n",
       "1                  0                 0             1               0   \n",
       "2                  0                 1             1               0   \n",
       "3                  0                 1             1               0   \n",
       "4                  1                 0             1               0   \n",
       "\n",
       "   cylinders_4.0  cylinders_5.0  cylinders_6.0  cylinders_8.0  cylinders_10.0  \\\n",
       "0              1              0              0              0               0   \n",
       "1              1              0              0              0               0   \n",
       "2              0              0              0              0               1   \n",
       "3              0              0              1              0               0   \n",
       "4              1              0              0              0               0   \n",
       "\n",
       "   fuel_gas  fuel_other  size_full-size  size_mid-size  size_sub-compact  \\\n",
       "0         1           0               0              0                 0   \n",
       "1         1           0               0              1                 0   \n",
       "2         1           0               1              0                 0   \n",
       "3         1           0               1              0                 0   \n",
       "4         1           0               1              0                 0   \n",
       "\n",
       "   type_suv  type_truck  type_van  \n",
       "0         0           0         0  \n",
       "1         0           0         0  \n",
       "2         0           1         0  \n",
       "3         0           0         0  \n",
       "4         0           0         0  "
      ]
     },
     "execution_count": 48,
     "metadata": {},
     "output_type": "execute_result"
    }
   ],
   "source": [
    "dummies_df.drop(columns = ['price', 'log_price'], inplace = True)\n",
    "dummies_df.head()"
   ]
  },
  {
   "cell_type": "code",
   "execution_count": 49,
   "metadata": {},
   "outputs": [
    {
     "data": {
      "text/plain": [
       "<matplotlib.collections.PathCollection at 0x1c23a98710>"
      ]
     },
     "execution_count": 49,
     "metadata": {},
     "output_type": "execute_result"
    },
    {
     "data": {
      "image/png": "[encoded data removed]",
      "text/plain": [
       "<Figure size 432x288 with 1 Axes>"
      ]
     },
     "metadata": {
      "needs_background": "light"
     },
     "output_type": "display_data"
    }
   ],
   "source": [
    "plt.scatter(dummies_df.odometer, df.log_price)"
   ]
  },
  {
   "cell_type": "code",
   "execution_count": 50,
   "metadata": {},
   "outputs": [
    {
     "data": {
      "text/plain": [
       "<matplotlib.collections.PathCollection at 0x1c22a7ea58>"
      ]
     },
     "execution_count": 50,
     "metadata": {},
     "output_type": "execute_result"
    },
    {
     "data": {
      "image/png": "[encoded data removed]",
      "text/plain": [
       "<Figure size 432x288 with 1 Axes>"
      ]
     },
     "metadata": {
      "needs_background": "light"
     },
     "output_type": "display_data"
    }
   ],
   "source": [
    "plt.scatter((dummies_df.age), df.log_price)"
   ]
  },
  {
   "cell_type": "code",
   "execution_count": 51,
   "metadata": {},
   "outputs": [],
   "source": [
    "X = dummies_df\n",
    "y = df[['log_price']]\n",
    "X_train, X_test, y_train, y_test = train_test_split(X, y, test_size=0.2, random_state=0)"
   ]
  },
  {
   "cell_type": "code",
   "execution_count": 52,
   "metadata": {},
   "outputs": [
    {
     "data": {
      "text/html": [
       "<div>\n",
       "<style scoped>\n",
       "    .dataframe tbody tr th:only-of-type {\n",
       "        vertical-align: middle;\n",
       "    }\n",
       "\n",
       "    .dataframe tbody tr th {\n",
       "        vertical-align: top;\n",
       "    }\n",
       "\n",
       "    .dataframe thead th {\n",
       "        text-align: right;\n",
       "    }\n",
       "</style>\n",
       "<table border=\"1\" class=\"dataframe\">\n",
       "  <thead>\n",
       "    <tr style=\"text-align: right;\">\n",
       "      <th></th>\n",
       "      <th>log_price</th>\n",
       "    </tr>\n",
       "  </thead>\n",
       "  <tbody>\n",
       "    <tr>\n",
       "      <td>count</td>\n",
       "      <td>19916.000000</td>\n",
       "    </tr>\n",
       "    <tr>\n",
       "      <td>mean</td>\n",
       "      <td>11713.924081</td>\n",
       "    </tr>\n",
       "    <tr>\n",
       "      <td>std</td>\n",
       "      <td>10005.775578</td>\n",
       "    </tr>\n",
       "    <tr>\n",
       "      <td>min</td>\n",
       "      <td>549.000000</td>\n",
       "    </tr>\n",
       "    <tr>\n",
       "      <td>25%</td>\n",
       "      <td>4800.000000</td>\n",
       "    </tr>\n",
       "    <tr>\n",
       "      <td>50%</td>\n",
       "      <td>8800.000000</td>\n",
       "    </tr>\n",
       "    <tr>\n",
       "      <td>75%</td>\n",
       "      <td>15900.000000</td>\n",
       "    </tr>\n",
       "    <tr>\n",
       "      <td>max</td>\n",
       "      <td>215420.000000</td>\n",
       "    </tr>\n",
       "  </tbody>\n",
       "</table>\n",
       "</div>"
      ],
      "text/plain": [
       "           log_price\n",
       "count   19916.000000\n",
       "mean    11713.924081\n",
       "std     10005.775578\n",
       "min       549.000000\n",
       "25%      4800.000000\n",
       "50%      8800.000000\n",
       "75%     15900.000000\n",
       "max    215420.000000"
      ]
     },
     "execution_count": 52,
     "metadata": {},
     "output_type": "execute_result"
    }
   ],
   "source": [
    "np.exp(y_test).describe()"
   ]
  },
  {
   "cell_type": "code",
   "execution_count": 53,
   "metadata": {},
   "outputs": [
    {
     "data": {
      "text/plain": [
       "<matplotlib.axes._subplots.AxesSubplot at 0x1c2346d080>"
      ]
     },
     "execution_count": 53,
     "metadata": {},
     "output_type": "execute_result"
    },
    {
     "data": {
      "image/png": "[encoded data removed]",
      "text/plain": [
       "<Figure size 792x648 with 2 Axes>"
      ]
     },
     "metadata": {},
     "output_type": "display_data"
    }
   ],
   "source": [
    "sns.set(style=\"white\")\n",
    "\n",
    "corr = X_train.corr()\n",
    "\n",
    "mask = np.zeros_like(corr, dtype=np.bool)\n",
    "mask[np.triu_indices_from(mask)] = True\n",
    "\n",
    "f, ax = plt.subplots(figsize=(11, 9))\n",
    "\n",
    "cmap = sns.diverging_palette(220, 10, as_cmap=True)\n",
    "\n",
    "sns.heatmap(corr, mask=mask, cmap=cmap, vmax=1, center=0,\n",
    "            square=True, linewidths=.5, cbar_kws={\"shrink\": .5})"
   ]
  },
  {
   "cell_type": "markdown",
   "metadata": {},
   "source": [
    "### Cross-validation with unscaled, non-poly features"
   ]
  },
  {
   "cell_type": "code",
   "execution_count": 54,
   "metadata": {},
   "outputs": [
    {
     "data": {
      "text/plain": [
       "array([0.25646209, 0.26094236, 0.25601712, 0.26131573, 0.26947615,\n",
       "       0.26714353, 0.26727102, 0.26204729, 0.26462408, 0.24251936])"
      ]
     },
     "execution_count": 54,
     "metadata": {},
     "output_type": "execute_result"
    }
   ],
   "source": [
    "cross_val_linear = -1*cross_val_score(linear_model.LinearRegression(), X_train, y_train.values.ravel(), cv=10, scoring='neg_mean_squared_error')\n",
    "cross_val_linear"
   ]
  },
  {
   "cell_type": "code",
   "execution_count": 56,
   "metadata": {},
   "outputs": [
    {
     "name": "stdout",
     "output_type": "stream",
     "text": [
      "cross_val rmse linear: 0.5106155061634852\n",
      "cross_val rmse ridge: 0.5106158172989781\n",
      "cross_val rmse bayes_ridge: 0.5106188202765733\n",
      "cross_val rmse lasso: 0.7013179591381505\n",
      "cross_val rmse treeReg: 0.485420582826195\n",
      " \n",
      "Standard deviation of y_train: 14026.400859824753\n",
      " \n",
      "cross_val rmse/price_std linear: 3.640388658975378e-05\n",
      "cross_val rmse/price_std ridge: 3.640390877188703e-05\n",
      "cross_val rmse/price_std bayes_ridge: 3.640412286655217e-05\n",
      "cross_val rmse/price_std lasso: 4.999985143351399e-05\n",
      "cross_val rmse/price_std treeReg: 3.460763653322966e-05\n"
     ]
    }
   ],
   "source": [
    "cross_val_linear = np.sqrt(-1*cross_val_score(linear_model.LinearRegression(), X_train, y_train.values.ravel(), cv=10, scoring='neg_mean_squared_error')).mean()\n",
    "cross_val_ridge = np.sqrt(-1*cross_val_score(linear_model.Ridge(), X_train, y_train.values.ravel(), cv=10, scoring='neg_mean_squared_error')).mean()\n",
    "cross_val_bayes_ridge = np.sqrt(-1*cross_val_score(linear_model.BayesianRidge(), X_train, y_train.values.ravel(), cv=10, scoring='neg_mean_squared_error')).mean()\n",
    "cross_val_lasso = np.sqrt(-1*cross_val_score(linear_model.Lasso(), X_train, y_train.values.ravel(), cv=10, scoring='neg_mean_squared_error')).mean()\n",
    "cross_val_treeReg = np.sqrt(-1*cross_val_score(tree.DecisionTreeRegressor(), X_train, y_train.values.ravel(), cv=10, scoring='neg_mean_squared_error')).mean()\n",
    "#cross_val_forestReg = np.sqrt(-1*cross_val_score(RandomForestRegressor(n_estimators = 100), X_train, y_train.values.ravel(), cv=10, scoring='neg_mean_squared_error')).mean()\n",
    "\n",
    "train_std_dev = np.exp(y_train).std()[0]\n",
    "\n",
    "print(\"cross_val rmse linear: {}\".format(cross_val_linear))\n",
    "print(\"cross_val rmse ridge: {}\".format(cross_val_ridge))\n",
    "print(\"cross_val rmse bayes_ridge: {}\".format(cross_val_bayes_ridge))\n",
    "print(\"cross_val rmse lasso: {}\".format(cross_val_lasso))\n",
    "print(\"cross_val rmse treeReg: {}\".format(cross_val_treeReg))\n",
    "#print(\"cross_val rmse forestReg: {}\".format(cross_val_forestReg))\n",
    "print(\" \")\n",
    "print(\"Standard deviation of y_train: {}\".format(train_std_dev))\n",
    "print(\" \")\n",
    "print(\"cross_val rmse/price_std linear: {}\".format(cross_val_linear/train_std_dev))\n",
    "print(\"cross_val rmse/price_std ridge: {}\".format(cross_val_ridge/train_std_dev))\n",
    "print(\"cross_val rmse/price_std bayes_ridge: {}\".format(cross_val_bayes_ridge/train_std_dev))\n",
    "print(\"cross_val rmse/price_std lasso: {}\".format(cross_val_lasso/train_std_dev))\n",
    "print(\"cross_val rmse/price_std treeReg: {}\".format(cross_val_treeReg/train_std_dev))\n",
    "#print(\"cross_val rmse/price_std forestReg: {}\".format(cross_val_forestReg/train_std_dev))"
   ]
  },
  {
   "cell_type": "markdown",
   "metadata": {},
   "source": [
    "### Scale X_train, X_test, prior to creating polynomial features"
   ]
  },
  {
   "cell_type": "code",
   "execution_count": 57,
   "metadata": {},
   "outputs": [],
   "source": [
    "scaler = StandardScaler()\n",
    "transformed_train = scaler.fit_transform(X_train)\n",
    "X_train_scaled = pd.DataFrame(transformed_train, columns = X_train.columns)\n",
    "transformed_test = scaler.transform(X_test)\n",
    "X_test_scaled = pd.DataFrame(transformed_test, columns = X_test.columns)"
   ]
  },
  {
   "cell_type": "markdown",
   "metadata": {},
   "source": [
    "### Cross-validation with scaled, non-polynomial features"
   ]
  },
  {
   "cell_type": "code",
   "execution_count": 58,
   "metadata": {},
   "outputs": [
    {
     "name": "stdout",
     "output_type": "stream",
     "text": [
      "cross_val rmse linear: 0.510615506163485\n",
      "cross_val rmse ridge: 0.5106154476666315\n",
      "cross_val rmse bayes_ridge: 0.5106172785278162\n",
      "cross_val rmse lasso: 0.8484741024086663\n",
      "cross_val rmse treeReg: 0.48598919259942913\n",
      " \n",
      "Standard deviation of y_train: 14026.400859824753\n",
      " \n",
      "cross_val rmse/price_std linear: 3.640388658975376e-05\n",
      "cross_val rmse/price_std ridge: 3.6403882419271676e-05\n",
      "cross_val rmse/price_std bayes_ridge: 3.640401294892095e-05\n",
      "cross_val rmse/price_std lasso: 6.0491220156049865e-05\n",
      "cross_val rmse/price_std treeReg: 3.4648175070443634e-05\n"
     ]
    }
   ],
   "source": [
    "cross_val_linear = np.sqrt(-1*cross_val_score(linear_model.LinearRegression(), X_train_scaled, y_train.values.ravel(), cv=10, scoring='neg_mean_squared_error')).mean()\n",
    "cross_val_ridge = np.sqrt(-1*cross_val_score(linear_model.Ridge(), X_train_scaled, y_train.values.ravel(), cv=10, scoring='neg_mean_squared_error')).mean()\n",
    "cross_val_bayes_ridge = np.sqrt(-1*cross_val_score(linear_model.BayesianRidge(), X_train_scaled, y_train.values.ravel(), cv=10, scoring='neg_mean_squared_error')).mean()\n",
    "cross_val_lasso = np.sqrt(-1*cross_val_score(linear_model.Lasso(), X_train_scaled, y_train.values.ravel(), cv=10, scoring='neg_mean_squared_error')).mean()\n",
    "cross_val_treeReg = np.sqrt(-1*cross_val_score(tree.DecisionTreeRegressor(), X_train_scaled, y_train.values.ravel(), cv=10, scoring='neg_mean_squared_error')).mean()\n",
    "#cross_val_forestReg = np.sqrt(-1*cross_val_score(RandomForestRegressor(n_estimators = 100), X_train_scaled, y_train.values.ravel(), cv=10, scoring='neg_mean_squared_error')).mean()\n",
    "\n",
    "train_std_dev = np.exp(y_train).std()[0]\n",
    "\n",
    "print(\"cross_val rmse linear: {}\".format(cross_val_linear))\n",
    "print(\"cross_val rmse ridge: {}\".format(cross_val_ridge))\n",
    "print(\"cross_val rmse bayes_ridge: {}\".format(cross_val_bayes_ridge))\n",
    "print(\"cross_val rmse lasso: {}\".format(cross_val_lasso))\n",
    "print(\"cross_val rmse treeReg: {}\".format(cross_val_treeReg))\n",
    "#print(\"cross_val rmse forestReg: {}\".format(cross_val_forestReg))\n",
    "print(\" \")\n",
    "print(\"Standard deviation of y_train: {}\".format(train_std_dev))\n",
    "print(\" \")\n",
    "print(\"cross_val rmse/price_std linear: {}\".format(cross_val_linear/train_std_dev))\n",
    "print(\"cross_val rmse/price_std ridge: {}\".format(cross_val_ridge/train_std_dev))\n",
    "print(\"cross_val rmse/price_std bayes_ridge: {}\".format(cross_val_bayes_ridge/train_std_dev))\n",
    "print(\"cross_val rmse/price_std lasso: {}\".format(cross_val_lasso/train_std_dev))\n",
    "print(\"cross_val rmse/price_std treeReg: {}\".format(cross_val_treeReg/train_std_dev))\n",
    "#print(\"cross_val rmse/price_std forestReg: {}\".format(cross_val_forestReg/train_std_dev))"
   ]
  },
  {
   "cell_type": "markdown",
   "metadata": {},
   "source": [
    "### Create polynomial features for X_train"
   ]
  },
  {
   "cell_type": "code",
   "execution_count": 60,
   "metadata": {},
   "outputs": [],
   "source": [
    "poly_2 = PolynomialFeatures(degree=2, interaction_only=False)\n",
    "X_train_poly = pd.DataFrame(poly_2.fit_transform(X_train), columns=poly_2.get_feature_names(X_train.columns))\n",
    "X_test_poly = pd.DataFrame(poly_2.transform(X_test), columns=poly_2.get_feature_names(X_test.columns))\n",
    "#X_test_poly.head()"
   ]
  },
  {
   "cell_type": "markdown",
   "metadata": {},
   "source": [
    "### Cross-validation with unscaled, polynomial features"
   ]
  },
  {
   "cell_type": "code",
   "execution_count": 61,
   "metadata": {},
   "outputs": [
    {
     "name": "stderr",
     "output_type": "stream",
     "text": [
      "/Users/sullivanmyer/opt/anaconda3/envs/learn-env/lib/python3.6/site-packages/sklearn/linear_model/ridge.py:147: LinAlgWarning: Ill-conditioned matrix (rcond=3.82217e-26): result may not be accurate.\n",
      "  overwrite_a=True).T\n",
      "/Users/sullivanmyer/opt/anaconda3/envs/learn-env/lib/python3.6/site-packages/sklearn/linear_model/ridge.py:147: LinAlgWarning: Ill-conditioned matrix (rcond=4.08256e-26): result may not be accurate.\n",
      "  overwrite_a=True).T\n",
      "/Users/sullivanmyer/opt/anaconda3/envs/learn-env/lib/python3.6/site-packages/sklearn/linear_model/ridge.py:147: LinAlgWarning: Ill-conditioned matrix (rcond=3.86033e-26): result may not be accurate.\n",
      "  overwrite_a=True).T\n",
      "/Users/sullivanmyer/opt/anaconda3/envs/learn-env/lib/python3.6/site-packages/sklearn/linear_model/ridge.py:147: LinAlgWarning: Ill-conditioned matrix (rcond=5.1059e-26): result may not be accurate.\n",
      "  overwrite_a=True).T\n",
      "/Users/sullivanmyer/opt/anaconda3/envs/learn-env/lib/python3.6/site-packages/sklearn/linear_model/ridge.py:147: LinAlgWarning: Ill-conditioned matrix (rcond=4.1356e-26): result may not be accurate.\n",
      "  overwrite_a=True).T\n",
      "/Users/sullivanmyer/opt/anaconda3/envs/learn-env/lib/python3.6/site-packages/sklearn/linear_model/ridge.py:147: LinAlgWarning: Ill-conditioned matrix (rcond=3.94312e-26): result may not be accurate.\n",
      "  overwrite_a=True).T\n",
      "/Users/sullivanmyer/opt/anaconda3/envs/learn-env/lib/python3.6/site-packages/sklearn/linear_model/ridge.py:147: LinAlgWarning: Ill-conditioned matrix (rcond=3.81628e-26): result may not be accurate.\n",
      "  overwrite_a=True).T\n",
      "/Users/sullivanmyer/opt/anaconda3/envs/learn-env/lib/python3.6/site-packages/sklearn/linear_model/ridge.py:147: LinAlgWarning: Ill-conditioned matrix (rcond=5.12417e-26): result may not be accurate.\n",
      "  overwrite_a=True).T\n",
      "/Users/sullivanmyer/opt/anaconda3/envs/learn-env/lib/python3.6/site-packages/sklearn/linear_model/ridge.py:147: LinAlgWarning: Ill-conditioned matrix (rcond=2.68002e-26): result may not be accurate.\n",
      "  overwrite_a=True).T\n",
      "/Users/sullivanmyer/opt/anaconda3/envs/learn-env/lib/python3.6/site-packages/sklearn/linear_model/ridge.py:147: LinAlgWarning: Ill-conditioned matrix (rcond=2.90048e-26): result may not be accurate.\n",
      "  overwrite_a=True).T\n",
      "/Users/sullivanmyer/opt/anaconda3/envs/learn-env/lib/python3.6/site-packages/sklearn/linear_model/coordinate_descent.py:475: ConvergenceWarning: Objective did not converge. You might want to increase the number of iterations. Duality gap: 10408.034088213726, tolerance: 5.169790243242166\n",
      "  positive)\n",
      "/Users/sullivanmyer/opt/anaconda3/envs/learn-env/lib/python3.6/site-packages/sklearn/linear_model/coordinate_descent.py:475: ConvergenceWarning: Objective did not converge. You might want to increase the number of iterations. Duality gap: 10359.391111151932, tolerance: 5.156599240142259\n",
      "  positive)\n",
      "/Users/sullivanmyer/opt/anaconda3/envs/learn-env/lib/python3.6/site-packages/sklearn/linear_model/coordinate_descent.py:475: ConvergenceWarning: Objective did not converge. You might want to increase the number of iterations. Duality gap: 10436.5738433879, tolerance: 5.163826211398129\n",
      "  positive)\n",
      "/Users/sullivanmyer/opt/anaconda3/envs/learn-env/lib/python3.6/site-packages/sklearn/linear_model/coordinate_descent.py:475: ConvergenceWarning: Objective did not converge. You might want to increase the number of iterations. Duality gap: 10403.896612231574, tolerance: 5.159169759281498\n",
      "  positive)\n",
      "/Users/sullivanmyer/opt/anaconda3/envs/learn-env/lib/python3.6/site-packages/sklearn/linear_model/coordinate_descent.py:475: ConvergenceWarning: Objective did not converge. You might want to increase the number of iterations. Duality gap: 10379.795978674305, tolerance: 5.141768359690906\n",
      "  positive)\n",
      "/Users/sullivanmyer/opt/anaconda3/envs/learn-env/lib/python3.6/site-packages/sklearn/linear_model/coordinate_descent.py:475: ConvergenceWarning: Objective did not converge. You might want to increase the number of iterations. Duality gap: 10331.908520617157, tolerance: 5.156209821128211\n",
      "  positive)\n",
      "/Users/sullivanmyer/opt/anaconda3/envs/learn-env/lib/python3.6/site-packages/sklearn/linear_model/coordinate_descent.py:475: ConvergenceWarning: Objective did not converge. You might want to increase the number of iterations. Duality gap: 10379.367431472403, tolerance: 5.164231327857584\n",
      "  positive)\n",
      "/Users/sullivanmyer/opt/anaconda3/envs/learn-env/lib/python3.6/site-packages/sklearn/linear_model/coordinate_descent.py:475: ConvergenceWarning: Objective did not converge. You might want to increase the number of iterations. Duality gap: 10438.682832080327, tolerance: 5.162533410064482\n",
      "  positive)\n",
      "/Users/sullivanmyer/opt/anaconda3/envs/learn-env/lib/python3.6/site-packages/sklearn/linear_model/coordinate_descent.py:475: ConvergenceWarning: Objective did not converge. You might want to increase the number of iterations. Duality gap: 10379.835345106401, tolerance: 5.162983920750491\n",
      "  positive)\n",
      "/Users/sullivanmyer/opt/anaconda3/envs/learn-env/lib/python3.6/site-packages/sklearn/linear_model/coordinate_descent.py:475: ConvergenceWarning: Objective did not converge. You might want to increase the number of iterations. Duality gap: 10424.143513547224, tolerance: 5.1782660302906836\n",
      "  positive)\n"
     ]
    },
    {
     "name": "stdout",
     "output_type": "stream",
     "text": [
      "cross_val rmse linear: 0.42110380086364285\n",
      "cross_val rmse ridge: 0.4210702439422852\n",
      "cross_val rmse bayes_ridge: 0.4211833229290055\n",
      "cross_val rmse lasso: 0.5384719978626935\n",
      "cross_val rmse treeReg: 0.48928622486360085\n",
      " \n",
      "Standard deviation of y_train: 14026.400859824753\n",
      " \n",
      "cross_val rmse/price_std linear: 3.002222773126307e-05\n",
      "cross_val rmse/price_std ridge: 3.0019835319860243e-05\n",
      "cross_val rmse/price_std bayes_ridge: 3.0027897187466222e-05\n",
      "cross_val rmse/price_std lasso: 3.83898908382846e-05\n",
      "cross_val rmse/price_std treeReg: 3.4883234106408824e-05\n"
     ]
    }
   ],
   "source": [
    "cross_val_linear = np.sqrt(-1*cross_val_score(linear_model.LinearRegression(), X_train_poly, y_train.values.ravel(), cv=10, scoring='neg_mean_squared_error')).mean()\n",
    "cross_val_ridge = np.sqrt(-1*cross_val_score(linear_model.Ridge(), X_train_poly, y_train.values.ravel(), cv=10, scoring='neg_mean_squared_error')).mean()\n",
    "cross_val_bayes_ridge = np.sqrt(-1*cross_val_score(linear_model.BayesianRidge(), X_train_poly, y_train.values.ravel(), cv=10, scoring='neg_mean_squared_error')).mean()\n",
    "cross_val_lasso = np.sqrt(-1*cross_val_score(linear_model.Lasso(), X_train_poly, y_train.values.ravel(), cv=10, scoring='neg_mean_squared_error')).mean()\n",
    "cross_val_treeReg = np.sqrt(-1*cross_val_score(tree.DecisionTreeRegressor(), X_train_poly, y_train.values.ravel(), cv=10, scoring='neg_mean_squared_error')).mean()\n",
    "#cross_val_forestReg = np.sqrt(-1*cross_val_score(RandomForestRegressor(n_estimators = 100), X_train_poly, y_train.values.ravel(), cv=10, scoring='neg_mean_squared_error')).mean()\n",
    "\n",
    "train_std_dev = np.exp(y_train).std()[0]\n",
    "\n",
    "print(\"cross_val rmse linear: {}\".format(cross_val_linear))\n",
    "print(\"cross_val rmse ridge: {}\".format(cross_val_ridge))\n",
    "print(\"cross_val rmse bayes_ridge: {}\".format(cross_val_bayes_ridge))\n",
    "print(\"cross_val rmse lasso: {}\".format(cross_val_lasso))\n",
    "print(\"cross_val rmse treeReg: {}\".format(cross_val_treeReg))\n",
    "#print(\"cross_val rmse forestReg: {}\".format(cross_val_forestReg))\n",
    "print(\" \")\n",
    "print(\"Standard deviation of y_train: {}\".format(train_std_dev))\n",
    "print(\" \")\n",
    "print(\"cross_val rmse/price_std linear: {}\".format(cross_val_linear/train_std_dev))\n",
    "print(\"cross_val rmse/price_std ridge: {}\".format(cross_val_ridge/train_std_dev))\n",
    "print(\"cross_val rmse/price_std bayes_ridge: {}\".format(cross_val_bayes_ridge/train_std_dev))\n",
    "print(\"cross_val rmse/price_std lasso: {}\".format(cross_val_lasso/train_std_dev))\n",
    "print(\"cross_val rmse/price_std treeReg: {}\".format(cross_val_treeReg/train_std_dev))\n",
    "#print(\"cross_val rmse/price_std forestReg: {}\".format(cross_val_forestReg/train_std_dev))"
   ]
  },
  {
   "cell_type": "markdown",
   "metadata": {},
   "source": [
    "### Scale X_train, X_test, after creating polynomial features"
   ]
  },
  {
   "cell_type": "code",
   "execution_count": null,
   "metadata": {},
   "outputs": [],
   "source": [
    "poly_scaler = StandardScaler()\n",
    "transformed_poly_train = poly_scaler.fit_transform(X_train_poly)\n",
    "X_train_poly_scaled = pd.DataFrame(transformed_poly_train, columns = X_train_poly.columns)\n",
    "transformed_poly_test = poly_scaler.transform(X_test_poly)\n",
    "X_test_poly_scaled = pd.DataFrame(transformed_poly_test, columns = X_test_poly.columns)"
   ]
  },
  {
   "cell_type": "code",
   "execution_count": null,
   "metadata": {},
   "outputs": [],
   "source": [
    "cross_val_linear = np.sqrt(-1*cross_val_score(linear_model.LinearRegression(), X_train_poly_scaled, y_train.values.ravel(), cv=10, scoring='neg_mean_squared_error')).mean()\n",
    "cross_val_ridge = np.sqrt(-1*cross_val_score(linear_model.Ridge(), X_train_poly_scaled, y_train.values.ravel(), cv=10, scoring='neg_mean_squared_error')).mean()\n",
    "cross_val_bayes_ridge = np.sqrt(-1*cross_val_score(linear_model.BayesianRidge(), X_train_poly_scaled, y_train.values.ravel(), cv=10, scoring='neg_mean_squared_error')).mean()\n",
    "cross_val_lasso = np.sqrt(-1*cross_val_score(linear_model.Lasso(), X_train_poly_scaled, y_train.values.ravel(), cv=10, scoring='neg_mean_squared_error')).mean()\n",
    "cross_val_treeReg = np.sqrt(-1*cross_val_score(tree.DecisionTreeRegressor(), X_train_poly_scaled, y_train.values.ravel(), cv=10, scoring='neg_mean_squared_error')).mean()\n",
    "#cross_val_forestReg = np.sqrt(-1*cross_val_score(RandomForestRegressor(n_estimators = 100), X_train_poly_scaled, y_train.values.ravel(), cv=10, scoring='neg_mean_squared_error')).mean()\n",
    "\n",
    "train_std_dev = np.exp(y_train).std()[0]\n",
    "\n",
    "print(\"cross_val rmse linear: {}\".format(cross_val_linear))\n",
    "print(\"cross_val rmse ridge: {}\".format(cross_val_ridge))\n",
    "print(\"cross_val rmse bayes_ridge: {}\".format(cross_val_bayes_ridge))\n",
    "print(\"cross_val rmse lasso: {}\".format(cross_val_lasso))\n",
    "print(\"cross_val rmse treeReg: {}\".format(cross_val_treeReg))\n",
    "#print(\"cross_val rmse forestReg: {}\".format(cross_val_forestReg))\n",
    "print(\" \")\n",
    "print(\"Standard deviation of y_train: {}\".format(train_std_dev))\n",
    "print(\" \")\n",
    "print(\"cross_val rmse/price_std linear: {}\".format(cross_val_linear/train_std_dev))\n",
    "print(\"cross_val rmse/price_std ridge: {}\".format(cross_val_ridge/train_std_dev))\n",
    "print(\"cross_val rmse/price_std bayes_ridge: {}\".format(cross_val_bayes_ridge/train_std_dev))\n",
    "print(\"cross_val rmse/price_std lasso: {}\".format(cross_val_lasso/train_std_dev))\n",
    "print(\"cross_val rmse/price_std treeReg: {}\".format(cross_val_treeReg/train_std_dev))\n",
    "#print(\"cross_val rmse/price_std forestReg: {}\".format(cross_val_forestReg/train_std_dev))"
   ]
  },
  {
   "cell_type": "code",
   "execution_count": null,
   "metadata": {},
   "outputs": [],
   "source": [
    "alpha_range = np.arange(0.01, 20.0, 0.01)"
   ]
  },
  {
   "cell_type": "code",
   "execution_count": null,
   "metadata": {},
   "outputs": [],
   "source": [
    "param_grid = dict(alpha=alpha_range)\n",
    "ridge = Ridge()\n",
    "ridge_grid = GridSearchCV(ridge, param_grid, cv=10, scoring='neg_mean_squared_error', return_train_score=False, n_jobs = -1)\n",
    "ridge_grid.fit(X_train_poly, y_train)\n",
    "print(np.sqrt(-1*ridge_grid.best_score_))\n",
    "print(ridge_grid.best_params_)\n",
    "print(ridge_grid.best_estimator_)"
   ]
  },
  {
   "cell_type": "code",
   "execution_count": null,
   "metadata": {},
   "outputs": [],
   "source": [
    "param_grid = dict(alpha=alpha_range)\n",
    "lasso = Lasso()\n",
    "lasso_grid = GridSearchCV(lasso, param_grid, cv=10, scoring='neg_mean_squared_error', return_train_score=False, n_jobs = -1)\n",
    "lasso_grid.fit(X_train_poly, y_train)\n",
    "print(np.sqrt(-1*lasso_grid.best_score_))\n",
    "print(lasso_grid.best_params_)\n",
    "print(lasso_grid.best_estimator_)"
   ]
  },
  {
   "cell_type": "code",
   "execution_count": null,
   "metadata": {},
   "outputs": [],
   "source": [
    "param_grid = dict(alpha=alpha_range)\n",
    "bayes_ridge = BayesianRidge()\n",
    "bayes_ridge_grid = GridSearchCV(bayes_ridge, param_grid, cv=10, scoring='neg_mean_squared_error', return_train_score=False)\n",
    "bayes_ridge_grid.fit(X_train, y_train)\n",
    "#bayes_ridge_df = pd.DataFrame(bayes_ridge_grid.cv_results_)[['mean_test_score', 'std_test_score', 'params']]\n",
    "print(bayes_ridge_grid.best_score_)\n",
    "print(bayes_ridge_grid.best_params_)\n",
    "print(bayes_ridge_grid.best_estimator_)"
   ]
  },
  {
   "cell_type": "markdown",
   "metadata": {},
   "source": [
    "### ridge predictions"
   ]
  },
  {
   "cell_type": "code",
   "execution_count": null,
   "metadata": {
    "scrolled": true
   },
   "outputs": [],
   "source": [
    "ridge = Ridge(alpha = 0.3)\n",
    "ridge.fit(X_train_poly, y_train)\n",
    "y_pred_ridge = ridge.predict(X_test_poly)\n",
    "actual_price = np.exp(y_test['log_price'].reset_index().drop(columns = ['index'])).to_numpy()\n",
    "y_test_std = np.exp(y_test).std()[0]\n",
    "ridge_test_array = np.exp(y_pred_ridge)\n",
    "ridge_diffs = ridge_test_array - actual_price\n",
    "ridge_squared_diffs = (ridge_diffs**2)\n",
    "ridge_diffs_over_n = (sum(ridge_squared_diffs)/len(y_test))[0]\n",
    "ridge_rmse = np.sqrt(ridge_diffs_over_n)\n",
    "ridge_standardized_rmse = ridge_rmse/y_test_std\n",
    "print(\"ridge rmse: {}\".format(ridge_rmse))\n",
    "print(\"ridge rmse standardized: {}\".format(ridge_standardized_rmse))"
   ]
  },
  {
   "cell_type": "markdown",
   "metadata": {},
   "source": [
    "### lasso predictions"
   ]
  },
  {
   "cell_type": "code",
   "execution_count": null,
   "metadata": {},
   "outputs": [],
   "source": [
    "lasso = Lasso(alpha = 0.01)\n",
    "lasso.fit(X_train_poly, y_train)\n",
    "y_pred_lasso = lasso.predict(X_test_poly)\n",
    "y_test_array = np.exp(y_pred_lasso)\n",
    "diffs = y_test_array - actual_price\n",
    "squared_diffs = (diffs**2)\n",
    "diffs_over_n = (sum(squared_diffs)/len(y_test))[0]\n",
    "lasso_rmse = np.sqrt(diffs_over_n)\n",
    "lasso_standardized_rmse = lasso_rmse/y_test_std\n",
    "print(\"lasso rmse: {}\".format(lasso_rmse))\n",
    "print(\"lasso rmse standardized: {}\".format(lasso_standardized_rmse))"
   ]
  },
  {
   "cell_type": "code",
   "execution_count": null,
   "metadata": {},
   "outputs": [],
   "source": []
  }
 ],
 "metadata": {
  "kernelspec": {
   "display_name": "Python 3",
   "language": "python",
   "name": "python3"
  },
  "language_info": {
   "codemirror_mode": {
    "name": "ipython",
    "version": 3
   },
   "file_extension": ".py",
   "mimetype": "text/x-python",
   "name": "python",
   "nbconvert_exporter": "python",
   "pygments_lexer": "ipython3",
   "version": "3.7.4"
  },
  "toc": {
   "base_numbering": 1,
   "nav_menu": {},
   "number_sections": true,
   "sideBar": true,
   "skip_h1_title": false,
   "title_cell": "Table of Contents",
   "title_sidebar": "Contents",
   "toc_cell": false,
   "toc_position": {
    "height": "calc(100% - 180px)",
    "left": "10px",
    "top": "150px",
    "width": "165px"
   },
   "toc_section_display": true,
   "toc_window_display": true
  }
 },
 "nbformat": 4,
 "nbformat_minor": 2
}
