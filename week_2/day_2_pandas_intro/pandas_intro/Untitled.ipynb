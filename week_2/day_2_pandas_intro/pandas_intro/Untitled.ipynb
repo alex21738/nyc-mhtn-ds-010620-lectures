{
 "cells": [
  {
   "cell_type": "code",
   "execution_count": null,
   "metadata": {},
   "outputs": [],
   "source": [
    "DNA_strand (\"ATTGC\") # return \"TAACG\"\n",
    "\n",
    "DNA_strand (\"GTAT\") # return \"CATA\""
   ]
  },
  {
   "cell_type": "code",
   "execution_count": null,
   "metadata": {},
   "outputs": [],
   "source": [
    "def DNA_strand(string):\n",
    "    list1=[]\n",
    "    for i in string:\n",
    "        if i=='A':\n",
    "            list1.extend('T')\n",
    "        elif i==\"T\":\n",
    "             list1.extend('A')\n",
    "        elif i=='C':\n",
    "            list1.extend('G')\n",
    "        elif i=='G':\n",
    "             list1.extend(\"C\")\n",
    "        else:\n",
    "             'Error'\n",
    "    return ''.join(list1)   "
   ]
  }
 ],
 "metadata": {
  "kernelspec": {
   "display_name": "Python 3",
   "language": "python",
   "name": "python3"
  },
  "language_info": {
   "codemirror_mode": {
    "name": "ipython",
    "version": 3
   },
   "file_extension": ".py",
   "mimetype": "text/x-python",
   "name": "python",
   "nbconvert_exporter": "python",
   "pygments_lexer": "ipython3",
   "version": "3.7.4"
  }
 },
 "nbformat": 4,
 "nbformat_minor": 2
}
