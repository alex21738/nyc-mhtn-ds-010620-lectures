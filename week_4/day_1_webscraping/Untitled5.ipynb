{
 "cells": [
  {
   "cell_type": "code",
   "execution_count": 2,
   "metadata": {},
   "outputs": [],
   "source": [
    "def stat(strg):\n",
    "    def get_time(strg):\n",
    "        hh,mm,ss=[int(i) for i in strg.split('|')]\n",
    "        return hh*3600+mm*60+ss\n",
    "    def format_time(time):\n",
    "        hh=time//3600\n",
    "        mm=time//60%60\n",
    "        ss=time%60\n",
    "        return '{:02d}|{:02d}|{:02d}'.format(hh,mm,ss)\n",
    "    def get_mean(times):\n",
    "        return sum(times)/len(times)\n",
    "    def get_range(times):\n",
    "        return times[-1]-times[0]\n",
    "    def get_median(times):\n",
    "        return (times[len(times)/2]+times[len(times)/2+1])/2 if len(times) % 2 == 0 else\n",
    "               (times[len(times/2)+0.5])\n",
    "    if strg = '':\n",
    "        return strg\n",
    "    times=[get_time(time) for time in strg.split(',')]\n",
    "    times.sort()\n",
    "    rng=format_time(get_range(times))\n",
    "    avg=format_time(get_mean(times))\n",
    "    med=format_time(get_median(times))\n",
    "    return f'Range: {rng}, Average: {avg}, Median: {med}'\n",
    "    \n",
    "        "
   ]
  },
  {
   "cell_type": "code",
   "execution_count": null,
   "metadata": {},
   "outputs": [],
   "source": [
    "def stat(strg):\n",
    "​\n",
    "    def get_time(strg):\n",
    "\t\t#Parse input\n",
    "        hh, mm, ss = [int(v) for v in strg.split('|')]\n",
    "        return hh * 3600 + mm * 60 + ss\n",
    "    \n",
    "    def format_time(time):\n",
    "\t\t#Format input\n",
    "        hh = time // 3600\n",
    "        mm = time // 60 % 60\n",
    "        ss = time % 60\n",
    "\n",
    "        return strg\n",
    "\t#Loop through samples and return in correct format\n",
    "    times = [get_time(time) for time in strg.split(', ')]\n",
    "    times.sort()\n",
    "    rng = format_time(get_range(times))\n",
    "    avg = format_time(get_average(times))\n",
    "    mdn = format_time(get_median(times))\n",
    "    return f'Range: {rng} Average: {avg} Median: {mdn}'"
   ]
  }
 ],
 "metadata": {
  "kernelspec": {
   "display_name": "Python 3",
   "language": "python",
   "name": "python3"
  },
  "language_info": {
   "codemirror_mode": {
    "name": "ipython",
    "version": 3
   },
   "file_extension": ".py",
   "mimetype": "text/x-python",
   "name": "python",
   "nbconvert_exporter": "python",
   "pygments_lexer": "ipython3",
   "version": "3.7.4"
  }
 },
 "nbformat": 4,
 "nbformat_minor": 2
}
