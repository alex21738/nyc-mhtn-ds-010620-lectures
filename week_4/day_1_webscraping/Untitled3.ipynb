{
 "cells": [
  {
   "cell_type": "code",
   "execution_count": 3,
   "metadata": {},
   "outputs": [],
   "source": [
    "import pandas as pd\n",
    "import gspread\n",
    "from oauth2client.service_account import ServiceAccountCredentials\n",
    "from pandas.io.json import json_normalize"
   ]
  },
  {
   "cell_type": "code",
   "execution_count": 4,
   "metadata": {},
   "outputs": [
    {
     "name": "stdout",
     "output_type": "stream",
     "text": [
      "Untitled.ipynb\r\n",
      "Untitled1.ipynb\r\n",
      "Untitled2.ipynb\r\n",
      "Untitled3.ipynb\r\n",
      "Webscraping.ipynb\r\n",
      "client_id.json\r\n",
      "client_secret_64247575676-oe68rs4o0kos9gsnbt9v1fldb2g28ugj.apps.googleusercontent.com.json\r\n",
      "marine-equinox-266603-5c21ce4761f9.json\r\n",
      "save.p\r\n"
     ]
    }
   ],
   "source": [
    "ls"
   ]
  },
  {
   "cell_type": "code",
   "execution_count": 5,
   "metadata": {
    "scrolled": true
   },
   "outputs": [],
   "source": [
    "## Connect to our service account\n",
    "scope = ['https://spreadsheets.google.com/feeds']\n",
    "credentials = ServiceAccountCredentials.from_json_keyfile_name('./marine-equinox-266603-5c21ce4761f9.json',\n",
    "                                                               scope)\n",
    "gc = gspread.authorize(credentials)"
   ]
  },
  {
   "cell_type": "code",
   "execution_count": 10,
   "metadata": {},
   "outputs": [],
   "source": [
    "# spreadsheet_key = '1Tn97n2Vyb60oew_cUGq22N0u-_R_i0l-_xfCDA3pMhA'\n",
    "# book = gc.open_by_key(spreadsheet_key)\n",
    "# worksheet = book.worksheet(\"Sheet1\")\n",
    "table = worksheet.get_all_values()"
   ]
  },
  {
   "cell_type": "code",
   "execution_count": 11,
   "metadata": {},
   "outputs": [
    {
     "data": {
      "text/plain": [
       "[['1', '1', '1', '1', '1', '1', '1', '1'],\n",
       " ['2', '2', '2', '2', '2', '2', '2', '2'],\n",
       " ['3', '3', '3', '3', '3', '3', '3', '3'],\n",
       " ['4', '4', '4', '4', '4', '4', '4', '4'],\n",
       " ['5', '5', '5', '5', '5', '5', '5', '5'],\n",
       " ['6', '6', '6', '6', '6', '6', '6', '6'],\n",
       " ['7', '7', '7', '7', '7', '7', '7', '7'],\n",
       " ['8', '8', '8', '8', '8', '8', '8', '8'],\n",
       " ['9', '9', '9', '9', '9', '9', '9', '9'],\n",
       " ['10', '10', '10', '10', '10', '10', '10', '10'],\n",
       " ['11', '11', '11', '11', '11', '11', '11', '11'],\n",
       " ['12', '12', '12', '12', '12', '12', '12', '12'],\n",
       " ['13', '13', '13', '13', '13', '13', '13', '13'],\n",
       " ['14', '14', '14', '14', '14', '14', '14', '14'],\n",
       " ['15', '15', '15', '15', '15', '15', '15', '15'],\n",
       " ['16', '16', '16', '16', '16', '16', '16', '16'],\n",
       " ['17', '17', '17', '17', '17', '17', '17', '17']]"
      ]
     },
     "execution_count": 11,
     "metadata": {},
     "output_type": "execute_result"
    }
   ],
   "source": [
    "table"
   ]
  },
  {
   "cell_type": "code",
   "execution_count": null,
   "metadata": {},
   "outputs": [],
   "source": []
  },
  {
   "cell_type": "code",
   "execution_count": null,
   "metadata": {},
   "outputs": [],
   "source": []
  },
  {
   "cell_type": "code",
   "execution_count": null,
   "metadata": {},
   "outputs": [],
   "source": []
  },
  {
   "cell_type": "code",
   "execution_count": null,
   "metadata": {},
   "outputs": [],
   "source": []
  },
  {
   "cell_type": "code",
   "execution_count": null,
   "metadata": {},
   "outputs": [],
   "source": []
  },
  {
   "cell_type": "code",
   "execution_count": null,
   "metadata": {},
   "outputs": [],
   "source": []
  },
  {
   "cell_type": "code",
   "execution_count": null,
   "metadata": {},
   "outputs": [],
   "source": []
  }
 ],
 "metadata": {
  "kernelspec": {
   "display_name": "Python 3",
   "language": "python",
   "name": "python3"
  },
  "language_info": {
   "codemirror_mode": {
    "name": "ipython",
    "version": 3
   },
   "file_extension": ".py",
   "mimetype": "text/x-python",
   "name": "python",
   "nbconvert_exporter": "python",
   "pygments_lexer": "ipython3",
   "version": "3.7.4"
  }
 },
 "nbformat": 4,
 "nbformat_minor": 2
}
