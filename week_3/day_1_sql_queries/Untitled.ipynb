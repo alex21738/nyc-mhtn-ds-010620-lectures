{
 "cells": [
  {
   "cell_type": "code",
   "execution_count": null,
   "metadata": {},
   "outputs": [],
   "source": [
    "from bs4 import BeautifulSoup\n",
    "import requests\n",
    "import re"
   ]
  },
  {
   "cell_type": "code",
   "execution_count": null,
   "metadata": {},
   "outputs": [],
   "source": [
    "html_page = requests.get('https://www.statmuse.com/nba/player/kobe-bryant-480/career-stats')\n",
    "soup = BeautifulSoup(html_page.content, 'html.parser')"
   ]
  },
  {
   "cell_type": "code",
   "execution_count": null,
   "metadata": {},
   "outputs": [],
   "source": [
    "soup.prettify"
   ]
  },
  {
   "cell_type": "code",
   "execution_count": null,
   "metadata": {},
   "outputs": [],
   "source": [
    "warning = soup.findAll('tr id=\"totals.1999\"', class_=\"full_table\")\n",
    "warning"
   ]
  },
  {
   "cell_type": "code",
   "execution_count": 1,
   "metadata": {},
   "outputs": [
    {
     "name": "stdout",
     "output_type": "stream",
     "text": [
      "Requirement already satisfied: gviz_api in /Users/chaoalex/opt/anaconda3/lib/python3.7/site-packages (1.9.0)\n",
      "Requirement already satisfied: six in /Users/chaoalex/opt/anaconda3/lib/python3.7/site-packages (from gviz_api) (1.12.0)\n",
      "Note: you may need to restart the kernel to use updated packages.\n"
     ]
    }
   ],
   "source": [
    "pip install gviz_api"
   ]
  },
  {
   "cell_type": "code",
   "execution_count": 5,
   "metadata": {},
   "outputs": [
    {
     "name": "stdout",
     "output_type": "stream",
     "text": [
      "Content-type: text/plain\n",
      "\n",
      "google.visualization.Query.setResponse({\"version\":\"0.6\",\"reqId\":\"0\",\"table\":{\"cols\":[{\"id\":\"name\",\"label\":\"Name\",\"type\":\"string\"},{\"id\":\"salary\",\"label\":\"Salary\",\"type\":\"number\"},{\"id\":\"full_time\",\"label\":\"Full Time Employee\",\"type\":\"boolean\"}],\"rows\":[{\"c\":[{\"v\":\"Jim\"},{\"v\":800,\"f\":\"$800\"},{\"v\":false}]},{\"c\":[{\"v\":\"Bob\"},{\"v\":7000,\"f\":\"$7,000\"},{\"v\":true}]},{\"c\":[{\"v\":\"Mike\"},{\"v\":10000,\"f\":\"$10,000\"},{\"v\":true}]},{\"c\":[{\"v\":\"Alice\"},{\"v\":12500,\"f\":\"$12,500\"},{\"v\":true}]}]},\"status\":\"ok\"});\n"
     ]
    },
    {
     "ename": "NameError",
     "evalue": "name 'draw' is not defined",
     "output_type": "error",
     "traceback": [
      "\u001b[0;31m---------------------------------------------------------------------------\u001b[0m",
      "\u001b[0;31mNameError\u001b[0m                                 Traceback (most recent call last)",
      "\u001b[0;32m<ipython-input-5-93b96f1037dd>\u001b[0m in \u001b[0;36m<module>\u001b[0;34m\u001b[0m\n\u001b[1;32m     15\u001b[0m print(data_table.ToJSonResponse(columns_order=(\"name\", \"salary\", \"full_time\"),\n\u001b[1;32m     16\u001b[0m                                 order_by=\"salary\"))\n\u001b[0;32m---> 17\u001b[0;31m \u001b[0mdraw\u001b[0m\u001b[0;34m(\u001b[0m\u001b[0;34m)\u001b[0m\u001b[0;34m\u001b[0m\u001b[0;34m\u001b[0m\u001b[0m\n\u001b[0m",
      "\u001b[0;31mNameError\u001b[0m: name 'draw' is not defined"
     ]
    }
   ],
   "source": [
    "import gviz_api\n",
    "\n",
    "description = {\"name\": (\"string\", \"Name\"),\n",
    "               \"salary\": (\"number\", \"Salary\"),\n",
    "               \"full_time\": (\"boolean\", \"Full Time Employee\")}\n",
    "data = [{\"name\": \"Mike\", \"salary\": (10000, \"$10,000\"), \"full_time\": True},\n",
    "        {\"name\": \"Jim\", \"salary\": (800, \"$800\"), \"full_time\": False},\n",
    "        {\"name\": \"Alice\", \"salary\": (12500, \"$12,500\"), \"full_time\": True},\n",
    "        {\"name\": \"Bob\", \"salary\": (7000, \"$7,000\"), \"full_time\": True}]\n",
    "\n",
    "data_table = gviz_api.DataTable(description)\n",
    "data_table.LoadData(data)\n",
    "print(\"Content-type: text/plain\")\n",
    "print()\n",
    "print(data_table.ToJSonResponse(columns_order=(\"name\", \"salary\", \"full_time\"),\n",
    "                                order_by=\"salary\"))\n",
    "draw()"
   ]
  },
  {
   "cell_type": "code",
   "execution_count": 6,
   "metadata": {
    "scrolled": true
   },
   "outputs": [
    {
     "name": "stdout",
     "output_type": "stream",
     "text": [
      "Collecting package metadata (current_repodata.json): done\n",
      "Solving environment: failed with initial frozen solve. Retrying with flexible solve.\n",
      "Collecting package metadata (repodata.json): done\n",
      "Solving environment: failed with initial frozen solve. Retrying with flexible solve.\n",
      "\n",
      "PackagesNotFoundError: The following packages are not available from current channels:\n",
      "\n",
      "  - oauth2client\n",
      "  - install\n",
      "  - gspread\n",
      "  - df2gspread\n",
      "\n",
      "Current channels:\n",
      "\n",
      "  - https://repo.anaconda.com/pkgs/main/osx-64\n",
      "  - https://repo.anaconda.com/pkgs/main/noarch\n",
      "  - https://repo.anaconda.com/pkgs/r/osx-64\n",
      "  - https://repo.anaconda.com/pkgs/r/noarch\n",
      "\n",
      "To search for alternate channels that may provide the conda package you're\n",
      "looking for, navigate to\n",
      "\n",
      "    https://anaconda.org\n",
      "\n",
      "and use the search bar at the top of the page.\n",
      "\n",
      "\n",
      "\n",
      "Note: you may need to restart the kernel to use updated packages.\n"
     ]
    }
   ],
   "source": [
    "conda install pandas jupyter pip install gspread oauth2client df2gspread"
   ]
  },
  {
   "cell_type": "code",
   "execution_count": null,
   "metadata": {},
   "outputs": [],
   "source": []
  }
 ],
 "metadata": {
  "kernelspec": {
   "display_name": "Python 3",
   "language": "python",
   "name": "python3"
  },
  "language_info": {
   "codemirror_mode": {
    "name": "ipython",
    "version": 3
   },
   "file_extension": ".py",
   "mimetype": "text/x-python",
   "name": "python",
   "nbconvert_exporter": "python",
   "pygments_lexer": "ipython3",
   "version": "3.7.4"
  }
 },
 "nbformat": 4,
 "nbformat_minor": 2
}
